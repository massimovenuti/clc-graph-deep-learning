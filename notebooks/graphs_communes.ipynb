{
 "cells": [
  {
   "cell_type": "markdown",
   "source": [
    "# Classification de graphes"
   ],
   "metadata": {
    "collapsed": false
   }
  },
  {
   "cell_type": "code",
   "execution_count": 92,
   "outputs": [],
   "source": [
    "import geopandas as gpd\n",
    "import pandas as pd\n",
    "import numpy as np\n",
    "import matplotlib.pyplot as plt\n",
    "import shapely\n",
    "import networkx as nx\n",
    "import os\n",
    "import karateclub as kc\n",
    "from tensorflow import keras\n",
    "from sklearn.model_selection import train_test_split\n",
    "from sklearn.metrics import classification_report, confusion_matrix, ConfusionMatrixDisplay"
   ],
   "metadata": {
    "collapsed": false,
    "pycharm": {
     "name": "#%%\n"
    }
   }
  },
  {
   "cell_type": "markdown",
   "source": [
    "## Construction des graphes\n",
    "\n",
    "### Prétraitement des données"
   ],
   "metadata": {
    "collapsed": false
   }
  },
  {
   "cell_type": "code",
   "execution_count": 93,
   "outputs": [],
   "source": [
    "def preprocessing(gdf, commune, rm_residual_areas=True, object_prop_th=0.20, total_prop_th=0.01):\n",
    "    assert len(gdf) != 0\n",
    "    # todo : gérer les nodata\n",
    "    gdf[\"total_area\"] = gdf.area\n",
    "\n",
    "    gdf = gdf.clip(commune[\"geometry\"])\n",
    "\n",
    "    gdf = gdf.drop(\"Area_Ha\", axis=\"columns\")\n",
    "\n",
    "    gdf = gdf.explode(index_parts=False)\n",
    "    gdf[\"object_proportion\"] = gdf.area / gdf[\"total_area\"]\n",
    "    gdf[\"total_proportion\"] = gdf.area / gdf.area.sum()\n",
    "\n",
    "    if rm_residual_areas is True:\n",
    "        gdf = gdf[(gdf[\"object_proportion\"] >= object_prop_th) | (gdf[\"total_proportion\"] >= total_prop_th)]\n",
    "\n",
    "    gdf['Node_ID'] = range(len(gdf))  # pour simplifier la création des graphes\n",
    "    gdf['Code_18'] = gdf['Code_18'].astype(str)\n",
    "\n",
    "    return gdf"
   ],
   "metadata": {
    "collapsed": false,
    "pycharm": {
     "name": "#%%\n"
    }
   }
  },
  {
   "cell_type": "markdown",
   "source": [
    "### Calcul du voisinage"
   ],
   "metadata": {
    "collapsed": false
   }
  },
  {
   "cell_type": "code",
   "execution_count": 94,
   "outputs": [],
   "source": [
    "def preprocess_border(border):\n",
    "    if border.geom_type == \"MultiLineString\":\n",
    "        # plusieurs frontières\n",
    "        border = shapely.ops.linemerge(border)\n",
    "    return border\n",
    "\n",
    "\n",
    "def calc_borders(area, neighbors):\n",
    "    borders_info = {\"total_border\": [], \"greatest_border\": [], \"nb_borders\": []}\n",
    "    borders = neighbors.geometry.intersection(area.geometry)\n",
    "    for border in borders:\n",
    "        border = preprocess_border(border)\n",
    "        if border.geom_type == \"MultiLineString\":\n",
    "            lengths = gpd.GeoSeries(border.geoms).length\n",
    "            borders_info[\"total_border\"].append(lengths.sum())\n",
    "            borders_info[\"greatest_border\"].append(max(lengths))\n",
    "            borders_info[\"nb_borders\"].append(len(lengths))\n",
    "        else:\n",
    "            length = border.length\n",
    "            borders_info[\"total_border\"].append(length)\n",
    "            borders_info[\"greatest_border\"].append(length)\n",
    "            borders_info[\"nb_borders\"].append(1)\n",
    "    return borders_info\n",
    "\n",
    "\n",
    "def calc_neighbors(gdf):\n",
    "    neighbors_dict = {\"src\": [], \"dest\": [], \"total_border\": [], \"greatest_border\": [], \"nb_borders\": []}\n",
    "\n",
    "    for index, area in gdf.iterrows():\n",
    "        neighbors = gdf[gdf.geometry.touches(area.geometry)]\n",
    "        neighbors = neighbors[~neighbors['Node_ID'].isin(neighbors_dict['src'])]\n",
    "\n",
    "        dest = neighbors['Node_ID'].tolist()\n",
    "        src = [area['Node_ID']] * neighbors.shape[0]\n",
    "\n",
    "        borders = calc_borders(area, neighbors)\n",
    "\n",
    "        neighbors_dict[\"src\"].extend(src)\n",
    "        neighbors_dict[\"dest\"].extend(dest)\n",
    "        neighbors_dict[\"total_border\"].extend(borders[\"total_border\"])\n",
    "        neighbors_dict[\"greatest_border\"].extend(borders[\"greatest_border\"])\n",
    "        neighbors_dict[\"nb_borders\"].extend(borders[\"nb_borders\"])\n",
    "\n",
    "    return neighbors_dict"
   ],
   "metadata": {
    "collapsed": false,
    "pycharm": {
     "name": "#%%\n"
    }
   }
  },
  {
   "cell_type": "markdown",
   "source": [
    "### Génération des données des graphes"
   ],
   "metadata": {
    "collapsed": false
   }
  },
  {
   "cell_type": "code",
   "execution_count": 95,
   "outputs": [],
   "source": [
    "def generate_graph_data(data_path, communes_path):\n",
    "    graph_properties_dict = {\"graph_id\": [], \"num_nodes\": []}\n",
    "    graph_nodes_dict = {\"graph_id\": [], \"node_id\": [], \"label\": []}\n",
    "    graph_edges_dict = {\"graph_id\": [], \"src\": [], \"dest\": [], \"total_border\": [], \"greatest_border\": [],\n",
    "                        \"nb_borders\": []}\n",
    "\n",
    "    communes = gpd.read_file(communes_path)\n",
    "\n",
    "    l = len(communes)\n",
    "    step = int(l * 0.05)\n",
    "    print(f\"Number of instances : {l}\")\n",
    "    i = 1\n",
    "\n",
    "    for _, commune in communes.iterrows():\n",
    "        if i % step == 1:\n",
    "            print(f\"{int((i / l) * 100)}%\", end=\"...\")\n",
    "\n",
    "        gdf = preprocessing(gpd.read_file(data_path, mask=commune['geometry']), commune)\n",
    "\n",
    "        neighbors = calc_neighbors(gdf)\n",
    "\n",
    "        graph_properties_dict[\"graph_id\"].append(commune['COMM_ID'])\n",
    "        graph_properties_dict[\"num_nodes\"].append(len(gdf))\n",
    "\n",
    "        graph_nodes_dict[\"graph_id\"].extend([commune['COMM_ID']] * len(gdf))\n",
    "        graph_nodes_dict[\"node_id\"].extend(gdf[\"Node_ID\"])\n",
    "        graph_nodes_dict[\"label\"].extend(gdf[\"Code_18\"])\n",
    "\n",
    "        graph_edges_dict[\"src\"].extend(neighbors[\"src\"])\n",
    "        graph_edges_dict[\"dest\"].extend(neighbors[\"dest\"])\n",
    "        graph_edges_dict[\"total_border\"].extend(neighbors[\"total_border\"])\n",
    "        graph_edges_dict[\"greatest_border\"].extend(neighbors[\"greatest_border\"])\n",
    "        graph_edges_dict[\"nb_borders\"].extend(neighbors[\"nb_borders\"])\n",
    "        graph_edges_dict[\"graph_id\"].extend([commune['COMM_ID']] * len(neighbors[\"src\"]))\n",
    "\n",
    "        i = i + 1\n",
    "\n",
    "    print(\"100%\")\n",
    "\n",
    "    graph_properties_df = pd.DataFrame(graph_properties_dict)\n",
    "    graph_nodes_df = pd.DataFrame(graph_nodes_dict)\n",
    "    graph_edges_df = pd.DataFrame(graph_edges_dict)\n",
    "\n",
    "    return graph_properties_df, graph_nodes_df, graph_edges_df"
   ],
   "metadata": {
    "collapsed": false,
    "pycharm": {
     "name": "#%%\n"
    }
   }
  },
  {
   "cell_type": "code",
   "execution_count": 96,
   "outputs": [],
   "source": [
    "clc_path = \"../data/raw_data/clc/u2018_clc2018_v2020_20u1_geoPackage/DATA/U2018_CLC2018_V2020_20u1.gpkg\"\n",
    "communes_dir = \"../data/communes\"\n",
    "communes_path = os.path.join(communes_dir, \"communes.gpkg\")"
   ],
   "metadata": {
    "collapsed": false,
    "pycharm": {
     "name": "#%%\n"
    }
   }
  },
  {
   "cell_type": "code",
   "execution_count": 97,
   "outputs": [
    {
     "name": "stdout",
     "output_type": "stream",
     "text": [
      "Number of instances : 30600\n",
      "0%...5%...10%...15%...20%...25%...30%...35%...40%...45%...50%...55%...60%...65%...70%...75%...80%...85%...90%...95%...100%\n"
     ]
    }
   ],
   "source": [
    "graph_properties, graph_nodes, graph_edges = generate_graph_data(clc_path, communes_path)\n",
    "\n",
    "graph_properties[\"label\"] = graph_properties[\"graph_id\"].str[:2].astype('category').cat.codes\n",
    "\n",
    "graph_properties.to_csv(os.path.join(communes_dir, \"graph_properties.csv\"))\n",
    "graph_nodes.to_csv(os.path.join(communes_dir, \"graph_nodes.csv\"))\n",
    "graph_edges.to_csv(os.path.join(communes_dir, \"graph_edges.csv\"))"
   ],
   "metadata": {
    "collapsed": false,
    "pycharm": {
     "name": "#%%\n"
    }
   }
  },
  {
   "cell_type": "markdown",
   "source": [
    "### Quelques statistiques"
   ],
   "metadata": {
    "collapsed": false
   }
  },
  {
   "cell_type": "code",
   "execution_count": 110,
   "outputs": [],
   "source": [
    "graph_properties = pd.read_csv(os.path.join(communes_dir, \"graph_properties.csv\"))\n",
    "graph_nodes = pd.read_csv(os.path.join(communes_dir, \"graph_nodes.csv\"))\n",
    "graph_edges = pd.read_csv(os.path.join(communes_dir, \"graph_edges.csv\"))"
   ],
   "metadata": {
    "collapsed": false,
    "pycharm": {
     "name": "#%%\n"
    }
   }
  },
  {
   "cell_type": "code",
   "execution_count": 98,
   "outputs": [],
   "source": [
    "def describe_graphs_data(properties, nodes, edges):\n",
    "    # nombre d'instances\n",
    "    instances = len(properties)\n",
    "    # nombre de classes\n",
    "    classes = len(properties['label'].astype('category').cat.categories)\n",
    "    # nombre de noeuds en moyenne\n",
    "    nodes_groups_sizes = nodes.groupby('graph_id').size()\n",
    "    min_nodes = np.round(nodes_groups_sizes.min(), 2)\n",
    "    mean_nodes = np.round(nodes_groups_sizes.mean(), 2)\n",
    "    max_nodes = np.round(nodes_groups_sizes.max(), 2)\n",
    "    # nombre d'arcs en moyenne\n",
    "    edges_groups_sizes = edges.groupby('graph_id').size()\n",
    "    min_edges = np.round(edges_groups_sizes.min(), 2)\n",
    "    mean_edges = np.round(edges_groups_sizes.mean(), 2)\n",
    "    max_edges = np.round(edges_groups_sizes.max(), 2)\n",
    "    # nombre de labels distincts\n",
    "    labels = len(nodes['label'].astype('category').cat.categories)\n",
    "    print(f\"# instances : {instances}\")\n",
    "    print(f\"# classes : {classes}\")\n",
    "    print(f\"# nodes (min.) : {min_nodes}\")\n",
    "    print(f\"# nodes (avg.) : {mean_nodes}\")\n",
    "    print(f\"# nodes (max.) : {max_nodes}\")\n",
    "    print(f\"# edges (min.) : {min_edges}\")\n",
    "    print(f\"# edges (avg.) : {mean_edges}\")\n",
    "    print(f\"# edges (max.) : {max_edges}\")\n",
    "    print(f\"# distinct node labels : {labels}\")"
   ],
   "metadata": {
    "collapsed": false,
    "pycharm": {
     "name": "#%%\n"
    }
   }
  },
  {
   "cell_type": "code",
   "execution_count": 99,
   "outputs": [
    {
     "name": "stdout",
     "output_type": "stream",
     "text": [
      "# instances : 30600\n",
      "# classes : 17\n",
      "# nodes (min.) : 1\n",
      "# nodes (avg.) : 20.64\n",
      "# nodes (max.) : 549\n",
      "# edges (min.) : 1\n",
      "# edges (avg.) : 38.68\n",
      "# edges (max.) : 1323\n",
      "# distinct node labels : 44\n"
     ]
    }
   ],
   "source": [
    "describe_graphs_data(graph_properties, graph_nodes, graph_edges)"
   ],
   "metadata": {
    "collapsed": false,
    "pycharm": {
     "name": "#%%\n"
    }
   }
  },
  {
   "cell_type": "markdown",
   "source": [
    "### Création des graphes"
   ],
   "metadata": {
    "collapsed": false
   }
  },
  {
   "cell_type": "code",
   "execution_count": 80,
   "outputs": [],
   "source": [
    "# NetworkX dataset\n",
    "class NxClassDataset():\n",
    "    def __init__(self, properties, nodes, edges):\n",
    "        self.properties = properties\n",
    "        self.nodes = nodes\n",
    "        self.edges = edges\n",
    "        self.graphs = []\n",
    "        self.labels = []\n",
    "        self.labels_str = []\n",
    "        self.ids = []\n",
    "        self.process()\n",
    "\n",
    "    def process(self):\n",
    "        # Create a graph for each graph ID from the edges table.\n",
    "        # First process the properties table into two dictionaries with graph IDs as keys.\n",
    "        # The label and number of nodes are values.\n",
    "        label_dict = {}\n",
    "        for _, row in self.properties.iterrows():\n",
    "            label_dict[row['graph_id']] = row['label']\n",
    "\n",
    "        # Group by graph IDs\n",
    "        edges_group = self.edges.groupby('graph_id')\n",
    "        nodes_group = self.nodes.groupby('graph_id')\n",
    "\n",
    "        # For each graph ID...\n",
    "        for graph_id in edges_group.groups:\n",
    "            edges_of_id = edges_group.get_group(graph_id)\n",
    "            nodes_of_id = nodes_group.get_group(graph_id)\n",
    "            label = label_dict[graph_id]\n",
    "\n",
    "            g = nx.Graph(label=label, id=graph_id)\n",
    "            for _, row in nodes_of_id.iterrows():\n",
    "                g.add_node(row['node_id'], feature=str(row['label']))\n",
    "            for _, row in edges_of_id.iterrows():\n",
    "                g.add_edge(row['src'], row['dest'], total_border=row['total_border'],\n",
    "                           greatest_border=row['greatest_border'],\n",
    "                           nb_borders=row['nb_borders'])\n",
    "\n",
    "            self.graphs.append(g)\n",
    "            self.labels.append(label)\n",
    "            self.labels_str.append(graph_id[:2])\n",
    "            self.ids.append(graph_id)\n",
    "\n",
    "    def __getitem__(self, i):\n",
    "        return self.graphs[i], self.labels[i], self.ids[i]\n",
    "\n",
    "    def get_graphs(self):\n",
    "        return self.graphs\n",
    "\n",
    "    def get_labels(self):\n",
    "        return self.labels\n",
    "\n",
    "    def get_labels_str(self):\n",
    "        return self.labels_str\n",
    "\n",
    "    def get_ids(self):\n",
    "        return self.ids"
   ],
   "metadata": {
    "collapsed": false,
    "pycharm": {
     "name": "#%%\n"
    }
   }
  },
  {
   "cell_type": "code",
   "execution_count": 81,
   "outputs": [],
   "source": [
    "communes_nx_dataset = NxClassDataset(graph_properties, graph_nodes, graph_edges)"
   ],
   "metadata": {
    "collapsed": false,
    "pycharm": {
     "name": "#%%\n"
    }
   }
  },
  {
   "cell_type": "markdown",
   "source": [
    "### Visualisation des graphes"
   ],
   "metadata": {
    "collapsed": false
   }
  },
  {
   "cell_type": "code",
   "execution_count": 84,
   "outputs": [
    {
     "data": {
      "text/plain": "<Figure size 720x720 with 1 Axes>",
      "image/png": "[encoded data removed]"
     },
     "metadata": {},
     "output_type": "display_data"
    }
   ],
   "source": [
    "def draw_map_graph(nx_graph, gdf, column=None, legend=False, ax=None):\n",
    "    pos = {}\n",
    "    points = gdf.representative_point()\n",
    "    for i in range(len(gdf)):\n",
    "        area = gdf.iloc[i]\n",
    "        point = points.iloc[i]\n",
    "        pos[area['Node_ID']] = (point.x, point.y)\n",
    "\n",
    "    gdf.plot(column, legend=legend, ax=ax)\n",
    "    labels = {k:gdf.index.values[k] for k in range(len(gdf))}\n",
    "    nx.draw(nx_graph, pos=pos, with_labels=True, ax=ax, node_color=[(0, 0, 0, 0.7)], font_color=\"white\", labels=labels)\n",
    "\n",
    "\n",
    "g_nx, g_label, g_id = communes_nx_dataset[0]\n",
    "f, ax = plt.subplots(figsize=(10, 10))\n",
    "communes = gpd.read_file(communes_path)\n",
    "commune = communes[communes['COMM_ID'] == g_id]\n",
    "gdf = preprocessing(gpd.read_file(clc_path, mask=commune['geometry']), commune)\n",
    "gdf.dissolve().exterior.plot(ax=ax, color=\"black\", linewidth=1)\n",
    "draw_map_graph(g_nx, gdf=gdf, column=np.array(range(len(gdf))), ax=ax)\n",
    "# plt.title(f\"{g_id} - Superposition de la carte et du graphe\")\n",
    "plt.show()"
   ],
   "metadata": {
    "collapsed": false,
    "pycharm": {
     "name": "#%%\n"
    }
   }
  },
  {
   "cell_type": "markdown",
   "source": [
    "## Un premier problème simple : un pays par région d'Europe\n",
    "\n",
    "Prenons un pays représentant par région d'Europe, ce seront les classes à prédire.\n",
    "\n",
    "<br />\n",
    "<img src=\"../assets/europe-regions.png\" alt=\"drawing\" width=\"400\"/>"
   ],
   "metadata": {
    "collapsed": false
   }
  },
  {
   "cell_type": "markdown",
   "source": [
    "### Création de l'échantillon"
   ],
   "metadata": {
    "collapsed": false
   }
  },
  {
   "cell_type": "code",
   "execution_count": 149,
   "outputs": [],
   "source": [
    "selected_countries = ['ES', 'DE', 'IE', 'RO']\n"
   ],
   "metadata": {
    "collapsed": false,
    "pycharm": {
     "name": "#%%\n"
    }
   }
  },
  {
   "cell_type": "code",
   "execution_count": 150,
   "outputs": [],
   "source": [
    "# création d'un échantillon 2040 instances\n",
    "groups = graph_properties[graph_properties['graph_id'].str[:2].isin(selected_countries)].sample(frac=1).groupby('label')\n",
    "min_graph_count = min(510, groups.size().sort_values().iloc[0])\n",
    "ech_properties = groups.nth(list(range(min_graph_count)))\n",
    "ech_properties = ech_properties.reset_index(level=0)\n",
    "ech_properties['label'] = ech_properties['label'].astype('category').cat.codes"
   ],
   "metadata": {
    "collapsed": false,
    "pycharm": {
     "name": "#%%\n"
    }
   }
  },
  {
   "cell_type": "code",
   "execution_count": 151,
   "outputs": [],
   "source": [
    "ech_nodes = graph_nodes[graph_nodes['graph_id'].isin(ech_properties['graph_id'])]\n",
    "ech_edges = graph_edges[graph_edges['graph_id'].isin(ech_properties['graph_id'])]"
   ],
   "metadata": {
    "collapsed": false,
    "pycharm": {
     "name": "#%%\n"
    }
   }
  },
  {
   "cell_type": "code",
   "execution_count": 152,
   "outputs": [
    {
     "name": "stdout",
     "output_type": "stream",
     "text": [
      "# instances : 2040\n",
      "# classes : 4\n",
      "# nodes (min.) : 1\n",
      "# nodes (avg.) : 31.23\n",
      "# nodes (max.) : 597\n",
      "# edges (min.) : 1\n",
      "# edges (avg.) : 57.74\n",
      "# edges (max.) : 1410\n",
      "# distinct node labels : 43\n"
     ]
    }
   ],
   "source": [
    "describe_graphs_data(ech_properties, ech_nodes, ech_edges)"
   ],
   "metadata": {
    "collapsed": false,
    "pycharm": {
     "name": "#%%\n"
    }
   }
  },
  {
   "cell_type": "code",
   "execution_count": 153,
   "outputs": [],
   "source": [
    "communes_nx_dataset = NxClassDataset(properties=ech_properties,\n",
    "                                     nodes=ech_nodes,\n",
    "                                     edges=ech_edges)"
   ],
   "metadata": {
    "collapsed": false,
    "pycharm": {
     "name": "#%%\n"
    }
   }
  },
  {
   "cell_type": "code",
   "execution_count": 154,
   "outputs": [],
   "source": [
    "graphs = communes_nx_dataset.get_graphs()\n",
    "labels = np.array(communes_nx_dataset.get_labels())\n",
    "labels_str = communes_nx_dataset.get_labels_str()"
   ],
   "metadata": {
    "collapsed": false,
    "pycharm": {
     "name": "#%%\n"
    }
   }
  },
  {
   "cell_type": "markdown",
   "source": [
    "### Embedding\n",
    "\n",
    "karate club: https://karateclub.readthedocs.io/en/latest/index.html"
   ],
   "metadata": {
    "collapsed": false
   }
  },
  {
   "cell_type": "code",
   "execution_count": 155,
   "outputs": [],
   "source": [
    "def g2v_embedding(graphs, **embedding_params):\n",
    "    graph2vec = kc.Graph2Vec(attributed=True, **embedding_params)\n",
    "    graph2vec.fit(graphs)\n",
    "    return graph2vec.get_embedding()"
   ],
   "metadata": {
    "collapsed": false,
    "pycharm": {
     "name": "#%%\n"
    }
   }
  },
  {
   "cell_type": "code",
   "execution_count": 156,
   "outputs": [],
   "source": [
    "# graph2vec = kc.Graph2Vec(wl_iterations=4, dimensions=1024, epochs=400, min_count=2, attributed=True)\n",
    "g2v_dataset = g2v_embedding(graphs, epochs=100)"
   ],
   "metadata": {
    "collapsed": false,
    "pycharm": {
     "name": "#%%\n"
    }
   }
  },
  {
   "cell_type": "markdown",
   "source": [
    "### Classification"
   ],
   "metadata": {
    "collapsed": false
   }
  },
  {
   "cell_type": "code",
   "execution_count": 157,
   "outputs": [],
   "source": [
    "def make_model(input_shape, n_classes):\n",
    "    model = keras.models.Sequential([\n",
    "        keras.layers.Input(input_shape),\n",
    "        keras.layers.Dense(64, activation='relu'),\n",
    "        keras.layers.Dense(32, activation='relu', kernel_regularizer=keras.regularizers.l2(0.005)),\n",
    "        keras.layers.Dropout(rate=0.1),\n",
    "        keras.layers.Dense(n_classes, activation='softmax')\n",
    "    ])\n",
    "    lr_schedule = keras.optimizers.schedules.ExponentialDecay(\n",
    "        initial_learning_rate=1e-2,\n",
    "        decay_steps=10000,\n",
    "        decay_rate=0.9)\n",
    "    model.compile(optimizer=keras.optimizers.SGD(learning_rate=lr_schedule),\n",
    "                  loss=keras.losses.SparseCategoricalCrossentropy(),\n",
    "                  metrics=['accuracy'])\n",
    "    return model"
   ],
   "metadata": {
    "collapsed": false,
    "pycharm": {
     "name": "#%%\n"
    }
   }
  },
  {
   "cell_type": "code",
   "execution_count": 158,
   "outputs": [],
   "source": [
    "def plot_history(history):\n",
    "    training_loss = history.history['loss']\n",
    "    training_acc = history.history['accuracy']\n",
    "    val_loss = history.history['val_loss']\n",
    "    val_acc = history.history['val_accuracy']\n",
    "\n",
    "    f = plt.figure(figsize=(10, 4))\n",
    "    ax = plt.subplot(121)\n",
    "    plt.plot(training_loss, label=\"Train loss\")\n",
    "    plt.plot(val_loss, label=\"Validation loss\")\n",
    "    plt.legend()\n",
    "    ax = plt.subplot(122)\n",
    "    plt.plot(training_acc, label=\"Train accuracy\")\n",
    "    plt.plot(val_acc, label=\"Validation accuracy\")\n",
    "    plt.legend()\n",
    "    plt.show()"
   ],
   "metadata": {
    "collapsed": false,
    "pycharm": {
     "name": "#%%\n"
    }
   }
  },
  {
   "cell_type": "code",
   "execution_count": 159,
   "outputs": [],
   "source": [
    "def test_model(data, labels, labels_str=None):\n",
    "    X_train, X_test, y_train, y_test = train_test_split(data, np.array(labels), test_size=0.2)\n",
    "    model = make_model(X_train[0].shape, len(np.unique(labels)))\n",
    "    early_stopping_cb = keras.callbacks.EarlyStopping(patience=10, restore_best_weights=True)\n",
    "    history = model.fit(X_train, y_train, epochs=1000, validation_split=0.2,\n",
    "                    callbacks=[early_stopping_cb])\n",
    "\n",
    "    y_pred = model.predict(X_test).argmax(axis=-1)\n",
    "\n",
    "    class_report = classification_report(y_test, y_pred, target_names=labels_str)\n",
    "    cf_matrix = confusion_matrix(y_test, y_pred)\n",
    "\n",
    "    return class_report, cf_matrix, history"
   ],
   "metadata": {
    "collapsed": false,
    "pycharm": {
     "name": "#%%\n"
    }
   }
  },
  {
   "cell_type": "code",
   "execution_count": 160,
   "outputs": [
    {
     "name": "stdout",
     "output_type": "stream",
     "text": [
      "Epoch 1/1000\n",
      "41/41 [==============================] - 0s 4ms/step - loss: 1.5320 - accuracy: 0.3646 - val_loss: 1.4668 - val_accuracy: 0.6471\n",
      "Epoch 2/1000\n",
      "41/41 [==============================] - 0s 1ms/step - loss: 1.4305 - accuracy: 0.6354 - val_loss: 1.3564 - val_accuracy: 0.8080\n",
      "Epoch 3/1000\n",
      "41/41 [==============================] - 0s 2ms/step - loss: 1.3173 - accuracy: 0.7701 - val_loss: 1.2372 - val_accuracy: 0.8669\n",
      "Epoch 4/1000\n",
      "41/41 [==============================] - 0s 1ms/step - loss: 1.2017 - accuracy: 0.8142 - val_loss: 1.1158 - val_accuracy: 0.8947\n",
      "Epoch 5/1000\n",
      "41/41 [==============================] - 0s 2ms/step - loss: 1.0902 - accuracy: 0.8406 - val_loss: 0.9990 - val_accuracy: 0.9009\n",
      "Epoch 6/1000\n",
      "41/41 [==============================] - 0s 2ms/step - loss: 0.9882 - accuracy: 0.8676 - val_loss: 0.8904 - val_accuracy: 0.9133\n",
      "Epoch 7/1000\n",
      "41/41 [==============================] - 0s 2ms/step - loss: 0.8953 - accuracy: 0.8653 - val_loss: 0.7989 - val_accuracy: 0.9133\n",
      "Epoch 8/1000\n",
      "41/41 [==============================] - 0s 2ms/step - loss: 0.8130 - accuracy: 0.8738 - val_loss: 0.7233 - val_accuracy: 0.9164\n",
      "Epoch 9/1000\n",
      "41/41 [==============================] - 0s 1ms/step - loss: 0.7570 - accuracy: 0.8707 - val_loss: 0.6635 - val_accuracy: 0.9257\n",
      "Epoch 10/1000\n",
      "41/41 [==============================] - 0s 1ms/step - loss: 0.7002 - accuracy: 0.8785 - val_loss: 0.6159 - val_accuracy: 0.9257\n",
      "Epoch 11/1000\n",
      "41/41 [==============================] - 0s 1ms/step - loss: 0.6657 - accuracy: 0.8955 - val_loss: 0.5764 - val_accuracy: 0.9226\n",
      "Epoch 12/1000\n",
      "41/41 [==============================] - 0s 1ms/step - loss: 0.6357 - accuracy: 0.8885 - val_loss: 0.5458 - val_accuracy: 0.9257\n",
      "Epoch 13/1000\n",
      "41/41 [==============================] - 0s 1ms/step - loss: 0.6012 - accuracy: 0.8978 - val_loss: 0.5216 - val_accuracy: 0.9257\n",
      "Epoch 14/1000\n",
      "41/41 [==============================] - 0s 1ms/step - loss: 0.5890 - accuracy: 0.8971 - val_loss: 0.5019 - val_accuracy: 0.9257\n",
      "Epoch 15/1000\n",
      "41/41 [==============================] - 0s 1ms/step - loss: 0.5637 - accuracy: 0.8909 - val_loss: 0.4854 - val_accuracy: 0.9350\n",
      "Epoch 16/1000\n",
      "41/41 [==============================] - 0s 1ms/step - loss: 0.5548 - accuracy: 0.8878 - val_loss: 0.4717 - val_accuracy: 0.9350\n",
      "Epoch 17/1000\n",
      "41/41 [==============================] - 0s 1ms/step - loss: 0.5433 - accuracy: 0.8901 - val_loss: 0.4601 - val_accuracy: 0.9350\n",
      "Epoch 18/1000\n",
      "41/41 [==============================] - 0s 1ms/step - loss: 0.5253 - accuracy: 0.8971 - val_loss: 0.4504 - val_accuracy: 0.9381\n",
      "Epoch 19/1000\n",
      "41/41 [==============================] - 0s 1ms/step - loss: 0.5145 - accuracy: 0.9048 - val_loss: 0.4418 - val_accuracy: 0.9381\n",
      "Epoch 20/1000\n",
      "41/41 [==============================] - 0s 1ms/step - loss: 0.5126 - accuracy: 0.9009 - val_loss: 0.4338 - val_accuracy: 0.9381\n",
      "Epoch 21/1000\n",
      "41/41 [==============================] - 0s 2ms/step - loss: 0.4938 - accuracy: 0.9071 - val_loss: 0.4265 - val_accuracy: 0.9381\n",
      "Epoch 22/1000\n",
      "41/41 [==============================] - 0s 2ms/step - loss: 0.4789 - accuracy: 0.9141 - val_loss: 0.4222 - val_accuracy: 0.9350\n",
      "Epoch 23/1000\n",
      "41/41 [==============================] - 0s 1ms/step - loss: 0.4834 - accuracy: 0.9048 - val_loss: 0.4164 - val_accuracy: 0.9381\n",
      "Epoch 24/1000\n",
      "41/41 [==============================] - 0s 1ms/step - loss: 0.4762 - accuracy: 0.9110 - val_loss: 0.4108 - val_accuracy: 0.9381\n",
      "Epoch 25/1000\n",
      "41/41 [==============================] - 0s 1ms/step - loss: 0.4633 - accuracy: 0.9187 - val_loss: 0.4052 - val_accuracy: 0.9412\n",
      "Epoch 26/1000\n",
      "41/41 [==============================] - 0s 1ms/step - loss: 0.4633 - accuracy: 0.9172 - val_loss: 0.4024 - val_accuracy: 0.9381\n",
      "Epoch 27/1000\n",
      "41/41 [==============================] - 0s 1ms/step - loss: 0.4605 - accuracy: 0.9125 - val_loss: 0.3984 - val_accuracy: 0.9412\n",
      "Epoch 28/1000\n",
      "41/41 [==============================] - 0s 1ms/step - loss: 0.4579 - accuracy: 0.9087 - val_loss: 0.3949 - val_accuracy: 0.9412\n",
      "Epoch 29/1000\n",
      "41/41 [==============================] - 0s 1ms/step - loss: 0.4527 - accuracy: 0.9110 - val_loss: 0.3914 - val_accuracy: 0.9412\n",
      "Epoch 30/1000\n",
      "41/41 [==============================] - 0s 1ms/step - loss: 0.4320 - accuracy: 0.9226 - val_loss: 0.3882 - val_accuracy: 0.9443\n",
      "Epoch 31/1000\n",
      "41/41 [==============================] - 0s 1ms/step - loss: 0.4373 - accuracy: 0.9172 - val_loss: 0.3869 - val_accuracy: 0.9443\n",
      "Epoch 32/1000\n",
      "41/41 [==============================] - 0s 1ms/step - loss: 0.4513 - accuracy: 0.9079 - val_loss: 0.3823 - val_accuracy: 0.9474\n",
      "Epoch 33/1000\n",
      "41/41 [==============================] - 0s 1ms/step - loss: 0.4308 - accuracy: 0.9203 - val_loss: 0.3812 - val_accuracy: 0.9443\n",
      "Epoch 34/1000\n",
      "41/41 [==============================] - 0s 1ms/step - loss: 0.4310 - accuracy: 0.9118 - val_loss: 0.3785 - val_accuracy: 0.9474\n",
      "Epoch 35/1000\n",
      "41/41 [==============================] - 0s 1ms/step - loss: 0.4254 - accuracy: 0.9187 - val_loss: 0.3753 - val_accuracy: 0.9474\n",
      "Epoch 36/1000\n",
      "41/41 [==============================] - 0s 1ms/step - loss: 0.4222 - accuracy: 0.9172 - val_loss: 0.3734 - val_accuracy: 0.9474\n",
      "Epoch 37/1000\n",
      "41/41 [==============================] - 0s 2ms/step - loss: 0.4181 - accuracy: 0.9195 - val_loss: 0.3720 - val_accuracy: 0.9412\n",
      "Epoch 38/1000\n",
      "41/41 [==============================] - 0s 1ms/step - loss: 0.4175 - accuracy: 0.9195 - val_loss: 0.3693 - val_accuracy: 0.9443\n",
      "Epoch 39/1000\n",
      "41/41 [==============================] - 0s 2ms/step - loss: 0.4110 - accuracy: 0.9195 - val_loss: 0.3673 - val_accuracy: 0.9505\n",
      "Epoch 40/1000\n",
      "41/41 [==============================] - 0s 2ms/step - loss: 0.4203 - accuracy: 0.9156 - val_loss: 0.3655 - val_accuracy: 0.9505\n",
      "Epoch 41/1000\n",
      "41/41 [==============================] - 0s 2ms/step - loss: 0.4059 - accuracy: 0.9187 - val_loss: 0.3648 - val_accuracy: 0.9443\n",
      "Epoch 42/1000\n",
      "41/41 [==============================] - 0s 1ms/step - loss: 0.4028 - accuracy: 0.9241 - val_loss: 0.3617 - val_accuracy: 0.9505\n",
      "Epoch 43/1000\n",
      "41/41 [==============================] - 0s 1ms/step - loss: 0.4074 - accuracy: 0.9172 - val_loss: 0.3596 - val_accuracy: 0.9505\n",
      "Epoch 44/1000\n",
      "41/41 [==============================] - 0s 1ms/step - loss: 0.3981 - accuracy: 0.9265 - val_loss: 0.3591 - val_accuracy: 0.9474\n",
      "Epoch 45/1000\n",
      "41/41 [==============================] - 0s 1ms/step - loss: 0.3896 - accuracy: 0.9319 - val_loss: 0.3567 - val_accuracy: 0.9505\n",
      "Epoch 46/1000\n",
      "41/41 [==============================] - 0s 1ms/step - loss: 0.3992 - accuracy: 0.9234 - val_loss: 0.3552 - val_accuracy: 0.9505\n",
      "Epoch 47/1000\n",
      "41/41 [==============================] - 0s 1ms/step - loss: 0.3910 - accuracy: 0.9249 - val_loss: 0.3536 - val_accuracy: 0.9505\n",
      "Epoch 48/1000\n",
      "41/41 [==============================] - 0s 2ms/step - loss: 0.3925 - accuracy: 0.9226 - val_loss: 0.3520 - val_accuracy: 0.9505\n",
      "Epoch 49/1000\n",
      "41/41 [==============================] - 0s 2ms/step - loss: 0.3978 - accuracy: 0.9180 - val_loss: 0.3504 - val_accuracy: 0.9505\n",
      "Epoch 50/1000\n",
      "41/41 [==============================] - 0s 1ms/step - loss: 0.3795 - accuracy: 0.9288 - val_loss: 0.3501 - val_accuracy: 0.9474\n",
      "Epoch 51/1000\n",
      "41/41 [==============================] - 0s 1ms/step - loss: 0.3806 - accuracy: 0.9272 - val_loss: 0.3475 - val_accuracy: 0.9505\n",
      "Epoch 52/1000\n",
      "41/41 [==============================] - 0s 1ms/step - loss: 0.3782 - accuracy: 0.9288 - val_loss: 0.3457 - val_accuracy: 0.9505\n",
      "Epoch 53/1000\n",
      "41/41 [==============================] - 0s 1ms/step - loss: 0.3776 - accuracy: 0.9280 - val_loss: 0.3444 - val_accuracy: 0.9505\n",
      "Epoch 54/1000\n",
      "41/41 [==============================] - 0s 1ms/step - loss: 0.3796 - accuracy: 0.9296 - val_loss: 0.3429 - val_accuracy: 0.9505\n",
      "Epoch 55/1000\n",
      "41/41 [==============================] - 0s 1ms/step - loss: 0.3765 - accuracy: 0.9288 - val_loss: 0.3422 - val_accuracy: 0.9474\n",
      "Epoch 56/1000\n",
      "41/41 [==============================] - 0s 1ms/step - loss: 0.3698 - accuracy: 0.9272 - val_loss: 0.3397 - val_accuracy: 0.9505\n",
      "Epoch 57/1000\n",
      "41/41 [==============================] - 0s 2ms/step - loss: 0.3772 - accuracy: 0.9241 - val_loss: 0.3380 - val_accuracy: 0.9505\n",
      "Epoch 58/1000\n",
      "41/41 [==============================] - 0s 2ms/step - loss: 0.3679 - accuracy: 0.9280 - val_loss: 0.3367 - val_accuracy: 0.9505\n",
      "Epoch 59/1000\n",
      "41/41 [==============================] - 0s 2ms/step - loss: 0.3700 - accuracy: 0.9249 - val_loss: 0.3357 - val_accuracy: 0.9505\n",
      "Epoch 60/1000\n",
      "41/41 [==============================] - 0s 1ms/step - loss: 0.3603 - accuracy: 0.9311 - val_loss: 0.3354 - val_accuracy: 0.9505\n",
      "Epoch 61/1000\n",
      "41/41 [==============================] - 0s 1ms/step - loss: 0.3619 - accuracy: 0.9296 - val_loss: 0.3347 - val_accuracy: 0.9474\n",
      "Epoch 62/1000\n",
      "41/41 [==============================] - 0s 1ms/step - loss: 0.3583 - accuracy: 0.9327 - val_loss: 0.3326 - val_accuracy: 0.9505\n",
      "Epoch 63/1000\n",
      "41/41 [==============================] - 0s 1ms/step - loss: 0.3571 - accuracy: 0.9272 - val_loss: 0.3321 - val_accuracy: 0.9474\n",
      "Epoch 64/1000\n",
      "41/41 [==============================] - 0s 1ms/step - loss: 0.3530 - accuracy: 0.9389 - val_loss: 0.3306 - val_accuracy: 0.9474\n",
      "Epoch 65/1000\n",
      "41/41 [==============================] - 0s 1ms/step - loss: 0.3590 - accuracy: 0.9288 - val_loss: 0.3295 - val_accuracy: 0.9474\n",
      "Epoch 66/1000\n",
      "41/41 [==============================] - 0s 2ms/step - loss: 0.3613 - accuracy: 0.9280 - val_loss: 0.3292 - val_accuracy: 0.9474\n",
      "Epoch 67/1000\n",
      "41/41 [==============================] - 0s 1ms/step - loss: 0.3490 - accuracy: 0.9327 - val_loss: 0.3276 - val_accuracy: 0.9474\n",
      "Epoch 68/1000\n",
      "41/41 [==============================] - 0s 2ms/step - loss: 0.3517 - accuracy: 0.9311 - val_loss: 0.3276 - val_accuracy: 0.9474\n",
      "Epoch 69/1000\n",
      "41/41 [==============================] - 0s 2ms/step - loss: 0.3521 - accuracy: 0.9288 - val_loss: 0.3239 - val_accuracy: 0.9505\n",
      "Epoch 70/1000\n",
      "41/41 [==============================] - 0s 2ms/step - loss: 0.3451 - accuracy: 0.9288 - val_loss: 0.3239 - val_accuracy: 0.9474\n",
      "Epoch 71/1000\n",
      "41/41 [==============================] - 0s 2ms/step - loss: 0.3477 - accuracy: 0.9327 - val_loss: 0.3235 - val_accuracy: 0.9474\n",
      "Epoch 72/1000\n",
      "41/41 [==============================] - 0s 2ms/step - loss: 0.3472 - accuracy: 0.9342 - val_loss: 0.3224 - val_accuracy: 0.9474\n",
      "Epoch 73/1000\n",
      "41/41 [==============================] - 0s 2ms/step - loss: 0.3412 - accuracy: 0.9334 - val_loss: 0.3223 - val_accuracy: 0.9505\n",
      "Epoch 74/1000\n",
      "41/41 [==============================] - 0s 2ms/step - loss: 0.3394 - accuracy: 0.9319 - val_loss: 0.3194 - val_accuracy: 0.9474\n",
      "Epoch 75/1000\n",
      "41/41 [==============================] - 0s 1ms/step - loss: 0.3383 - accuracy: 0.9319 - val_loss: 0.3172 - val_accuracy: 0.9474\n",
      "Epoch 76/1000\n",
      "41/41 [==============================] - 0s 2ms/step - loss: 0.3314 - accuracy: 0.9334 - val_loss: 0.3158 - val_accuracy: 0.9474\n",
      "Epoch 77/1000\n",
      "41/41 [==============================] - 0s 1ms/step - loss: 0.3344 - accuracy: 0.9334 - val_loss: 0.3157 - val_accuracy: 0.9505\n",
      "Epoch 78/1000\n",
      "41/41 [==============================] - 0s 1ms/step - loss: 0.3314 - accuracy: 0.9296 - val_loss: 0.3147 - val_accuracy: 0.9505\n",
      "Epoch 79/1000\n",
      "41/41 [==============================] - 0s 1ms/step - loss: 0.3215 - accuracy: 0.9427 - val_loss: 0.3147 - val_accuracy: 0.9505\n",
      "Epoch 80/1000\n",
      "41/41 [==============================] - 0s 1ms/step - loss: 0.3291 - accuracy: 0.9311 - val_loss: 0.3130 - val_accuracy: 0.9474\n",
      "Epoch 81/1000\n",
      "41/41 [==============================] - 0s 1ms/step - loss: 0.3258 - accuracy: 0.9334 - val_loss: 0.3114 - val_accuracy: 0.9505\n",
      "Epoch 82/1000\n",
      "41/41 [==============================] - 0s 1ms/step - loss: 0.3328 - accuracy: 0.9319 - val_loss: 0.3107 - val_accuracy: 0.9505\n",
      "Epoch 83/1000\n",
      "41/41 [==============================] - 0s 1ms/step - loss: 0.3263 - accuracy: 0.9358 - val_loss: 0.3095 - val_accuracy: 0.9505\n",
      "Epoch 84/1000\n",
      "41/41 [==============================] - 0s 1ms/step - loss: 0.3247 - accuracy: 0.9365 - val_loss: 0.3081 - val_accuracy: 0.9474\n",
      "Epoch 85/1000\n",
      "41/41 [==============================] - 0s 1ms/step - loss: 0.3164 - accuracy: 0.9420 - val_loss: 0.3071 - val_accuracy: 0.9505\n",
      "Epoch 86/1000\n",
      "41/41 [==============================] - 0s 2ms/step - loss: 0.3162 - accuracy: 0.9396 - val_loss: 0.3053 - val_accuracy: 0.9474\n",
      "Epoch 87/1000\n",
      "41/41 [==============================] - 0s 1ms/step - loss: 0.3166 - accuracy: 0.9350 - val_loss: 0.3048 - val_accuracy: 0.9443\n",
      "Epoch 88/1000\n",
      "41/41 [==============================] - 0s 2ms/step - loss: 0.3179 - accuracy: 0.9319 - val_loss: 0.3043 - val_accuracy: 0.9474\n",
      "Epoch 89/1000\n",
      "41/41 [==============================] - 0s 2ms/step - loss: 0.3136 - accuracy: 0.9342 - val_loss: 0.3032 - val_accuracy: 0.9474\n",
      "Epoch 90/1000\n",
      "41/41 [==============================] - 0s 2ms/step - loss: 0.3147 - accuracy: 0.9389 - val_loss: 0.3040 - val_accuracy: 0.9505\n",
      "Epoch 91/1000\n",
      "41/41 [==============================] - 0s 2ms/step - loss: 0.3116 - accuracy: 0.9311 - val_loss: 0.3029 - val_accuracy: 0.9505\n",
      "Epoch 92/1000\n",
      "41/41 [==============================] - 0s 1ms/step - loss: 0.3131 - accuracy: 0.9358 - val_loss: 0.3017 - val_accuracy: 0.9505\n",
      "Epoch 93/1000\n",
      "41/41 [==============================] - 0s 1ms/step - loss: 0.3109 - accuracy: 0.9327 - val_loss: 0.3007 - val_accuracy: 0.9505\n",
      "Epoch 94/1000\n",
      "41/41 [==============================] - 0s 1ms/step - loss: 0.3068 - accuracy: 0.9365 - val_loss: 0.2995 - val_accuracy: 0.9505\n",
      "Epoch 95/1000\n",
      "41/41 [==============================] - 0s 1ms/step - loss: 0.3119 - accuracy: 0.9381 - val_loss: 0.2987 - val_accuracy: 0.9505\n",
      "Epoch 96/1000\n",
      "41/41 [==============================] - 0s 1ms/step - loss: 0.3033 - accuracy: 0.9396 - val_loss: 0.2973 - val_accuracy: 0.9474\n",
      "Epoch 97/1000\n",
      "41/41 [==============================] - 0s 1ms/step - loss: 0.3045 - accuracy: 0.9381 - val_loss: 0.2973 - val_accuracy: 0.9505\n",
      "Epoch 98/1000\n",
      "41/41 [==============================] - 0s 2ms/step - loss: 0.2971 - accuracy: 0.9389 - val_loss: 0.2954 - val_accuracy: 0.9474\n",
      "Epoch 99/1000\n",
      "41/41 [==============================] - 0s 2ms/step - loss: 0.3020 - accuracy: 0.9381 - val_loss: 0.2950 - val_accuracy: 0.9474\n",
      "Epoch 100/1000\n",
      "41/41 [==============================] - 0s 2ms/step - loss: 0.3020 - accuracy: 0.9334 - val_loss: 0.2938 - val_accuracy: 0.9474\n",
      "Epoch 101/1000\n",
      "41/41 [==============================] - 0s 2ms/step - loss: 0.2929 - accuracy: 0.9412 - val_loss: 0.2944 - val_accuracy: 0.9505\n",
      "Epoch 102/1000\n",
      "41/41 [==============================] - 0s 1ms/step - loss: 0.3019 - accuracy: 0.9342 - val_loss: 0.2930 - val_accuracy: 0.9505\n",
      "Epoch 103/1000\n",
      "41/41 [==============================] - 0s 1ms/step - loss: 0.3006 - accuracy: 0.9311 - val_loss: 0.2914 - val_accuracy: 0.9505\n",
      "Epoch 104/1000\n",
      "41/41 [==============================] - 0s 1ms/step - loss: 0.3037 - accuracy: 0.9365 - val_loss: 0.2907 - val_accuracy: 0.9474\n",
      "Epoch 105/1000\n",
      "41/41 [==============================] - 0s 1ms/step - loss: 0.2962 - accuracy: 0.9381 - val_loss: 0.2893 - val_accuracy: 0.9474\n",
      "Epoch 106/1000\n",
      "41/41 [==============================] - 0s 1ms/step - loss: 0.2869 - accuracy: 0.9342 - val_loss: 0.2884 - val_accuracy: 0.9474\n",
      "Epoch 107/1000\n",
      "41/41 [==============================] - 0s 2ms/step - loss: 0.2905 - accuracy: 0.9466 - val_loss: 0.2892 - val_accuracy: 0.9505\n",
      "Epoch 108/1000\n",
      "41/41 [==============================] - 0s 2ms/step - loss: 0.2935 - accuracy: 0.9389 - val_loss: 0.2881 - val_accuracy: 0.9474\n",
      "Epoch 109/1000\n",
      "41/41 [==============================] - 0s 2ms/step - loss: 0.2813 - accuracy: 0.9420 - val_loss: 0.2875 - val_accuracy: 0.9474\n",
      "Epoch 110/1000\n",
      "41/41 [==============================] - 0s 2ms/step - loss: 0.2924 - accuracy: 0.9358 - val_loss: 0.2872 - val_accuracy: 0.9443\n",
      "Epoch 111/1000\n",
      "41/41 [==============================] - 0s 1ms/step - loss: 0.2850 - accuracy: 0.9334 - val_loss: 0.2875 - val_accuracy: 0.9474\n",
      "Epoch 112/1000\n",
      "41/41 [==============================] - 0s 1ms/step - loss: 0.2892 - accuracy: 0.9389 - val_loss: 0.2859 - val_accuracy: 0.9474\n",
      "Epoch 113/1000\n",
      "41/41 [==============================] - 0s 1ms/step - loss: 0.2849 - accuracy: 0.9450 - val_loss: 0.2845 - val_accuracy: 0.9474\n",
      "Epoch 114/1000\n",
      "41/41 [==============================] - 0s 1ms/step - loss: 0.2847 - accuracy: 0.9389 - val_loss: 0.2833 - val_accuracy: 0.9474\n",
      "Epoch 115/1000\n",
      "41/41 [==============================] - 0s 1ms/step - loss: 0.2718 - accuracy: 0.9450 - val_loss: 0.2829 - val_accuracy: 0.9474\n",
      "Epoch 116/1000\n",
      "41/41 [==============================] - 0s 2ms/step - loss: 0.2845 - accuracy: 0.9389 - val_loss: 0.2815 - val_accuracy: 0.9505\n",
      "Epoch 117/1000\n",
      "41/41 [==============================] - 0s 2ms/step - loss: 0.2752 - accuracy: 0.9412 - val_loss: 0.2833 - val_accuracy: 0.9474\n",
      "Epoch 118/1000\n",
      "41/41 [==============================] - 0s 2ms/step - loss: 0.2802 - accuracy: 0.9435 - val_loss: 0.2803 - val_accuracy: 0.9505\n",
      "Epoch 119/1000\n",
      "41/41 [==============================] - 0s 2ms/step - loss: 0.2824 - accuracy: 0.9389 - val_loss: 0.2801 - val_accuracy: 0.9474\n",
      "Epoch 120/1000\n",
      "41/41 [==============================] - 0s 1ms/step - loss: 0.2794 - accuracy: 0.9412 - val_loss: 0.2799 - val_accuracy: 0.9443\n",
      "Epoch 121/1000\n",
      "41/41 [==============================] - 0s 1ms/step - loss: 0.2801 - accuracy: 0.9396 - val_loss: 0.2788 - val_accuracy: 0.9474\n",
      "Epoch 122/1000\n",
      "41/41 [==============================] - 0s 1ms/step - loss: 0.2710 - accuracy: 0.9497 - val_loss: 0.2798 - val_accuracy: 0.9474\n",
      "Epoch 123/1000\n",
      "41/41 [==============================] - 0s 1ms/step - loss: 0.2713 - accuracy: 0.9450 - val_loss: 0.2780 - val_accuracy: 0.9443\n",
      "Epoch 124/1000\n",
      "41/41 [==============================] - 0s 1ms/step - loss: 0.2674 - accuracy: 0.9420 - val_loss: 0.2782 - val_accuracy: 0.9443\n",
      "Epoch 125/1000\n",
      "41/41 [==============================] - 0s 2ms/step - loss: 0.2655 - accuracy: 0.9497 - val_loss: 0.2755 - val_accuracy: 0.9474\n",
      "Epoch 126/1000\n",
      "41/41 [==============================] - 0s 2ms/step - loss: 0.2669 - accuracy: 0.9450 - val_loss: 0.2762 - val_accuracy: 0.9474\n",
      "Epoch 127/1000\n",
      "41/41 [==============================] - 0s 2ms/step - loss: 0.2674 - accuracy: 0.9381 - val_loss: 0.2751 - val_accuracy: 0.9474\n",
      "Epoch 128/1000\n",
      "41/41 [==============================] - 0s 2ms/step - loss: 0.2694 - accuracy: 0.9427 - val_loss: 0.2744 - val_accuracy: 0.9474\n",
      "Epoch 129/1000\n",
      "41/41 [==============================] - 0s 1ms/step - loss: 0.2633 - accuracy: 0.9450 - val_loss: 0.2730 - val_accuracy: 0.9474\n",
      "Epoch 130/1000\n",
      "41/41 [==============================] - 0s 1ms/step - loss: 0.2759 - accuracy: 0.9373 - val_loss: 0.2718 - val_accuracy: 0.9474\n",
      "Epoch 131/1000\n",
      "41/41 [==============================] - 0s 1ms/step - loss: 0.2621 - accuracy: 0.9458 - val_loss: 0.2732 - val_accuracy: 0.9443\n",
      "Epoch 132/1000\n",
      "41/41 [==============================] - 0s 1ms/step - loss: 0.2672 - accuracy: 0.9427 - val_loss: 0.2724 - val_accuracy: 0.9474\n",
      "Epoch 133/1000\n",
      "41/41 [==============================] - 0s 1ms/step - loss: 0.2622 - accuracy: 0.9420 - val_loss: 0.2722 - val_accuracy: 0.9474\n",
      "Epoch 134/1000\n",
      "41/41 [==============================] - 0s 1ms/step - loss: 0.2667 - accuracy: 0.9396 - val_loss: 0.2707 - val_accuracy: 0.9474\n",
      "Epoch 135/1000\n",
      "41/41 [==============================] - 0s 2ms/step - loss: 0.2693 - accuracy: 0.9381 - val_loss: 0.2718 - val_accuracy: 0.9474\n",
      "Epoch 136/1000\n",
      "41/41 [==============================] - 0s 2ms/step - loss: 0.2544 - accuracy: 0.9412 - val_loss: 0.2707 - val_accuracy: 0.9474\n",
      "Epoch 137/1000\n",
      "41/41 [==============================] - 0s 2ms/step - loss: 0.2604 - accuracy: 0.9412 - val_loss: 0.2683 - val_accuracy: 0.9474\n",
      "Epoch 138/1000\n",
      "41/41 [==============================] - 0s 1ms/step - loss: 0.2572 - accuracy: 0.9458 - val_loss: 0.2678 - val_accuracy: 0.9443\n",
      "Epoch 139/1000\n",
      "41/41 [==============================] - 0s 1ms/step - loss: 0.2515 - accuracy: 0.9466 - val_loss: 0.2679 - val_accuracy: 0.9474\n",
      "Epoch 140/1000\n",
      "41/41 [==============================] - 0s 1ms/step - loss: 0.2521 - accuracy: 0.9474 - val_loss: 0.2663 - val_accuracy: 0.9474\n",
      "Epoch 141/1000\n",
      "41/41 [==============================] - 0s 1ms/step - loss: 0.2500 - accuracy: 0.9458 - val_loss: 0.2658 - val_accuracy: 0.9474\n",
      "Epoch 142/1000\n",
      "41/41 [==============================] - 0s 1ms/step - loss: 0.2481 - accuracy: 0.9497 - val_loss: 0.2654 - val_accuracy: 0.9474\n",
      "Epoch 143/1000\n",
      "41/41 [==============================] - 0s 2ms/step - loss: 0.2550 - accuracy: 0.9435 - val_loss: 0.2663 - val_accuracy: 0.9474\n",
      "Epoch 144/1000\n",
      "41/41 [==============================] - 0s 2ms/step - loss: 0.2563 - accuracy: 0.9427 - val_loss: 0.2658 - val_accuracy: 0.9443\n",
      "Epoch 145/1000\n",
      "41/41 [==============================] - 0s 2ms/step - loss: 0.2492 - accuracy: 0.9450 - val_loss: 0.2638 - val_accuracy: 0.9505\n",
      "Epoch 146/1000\n",
      "41/41 [==============================] - 0s 2ms/step - loss: 0.2562 - accuracy: 0.9458 - val_loss: 0.2633 - val_accuracy: 0.9505\n",
      "Epoch 147/1000\n",
      "41/41 [==============================] - 0s 1ms/step - loss: 0.2510 - accuracy: 0.9443 - val_loss: 0.2632 - val_accuracy: 0.9536\n",
      "Epoch 148/1000\n",
      "41/41 [==============================] - 0s 1ms/step - loss: 0.2498 - accuracy: 0.9404 - val_loss: 0.2620 - val_accuracy: 0.9536\n",
      "Epoch 149/1000\n",
      "41/41 [==============================] - 0s 1ms/step - loss: 0.2466 - accuracy: 0.9458 - val_loss: 0.2601 - val_accuracy: 0.9536\n",
      "Epoch 150/1000\n",
      "41/41 [==============================] - 0s 1ms/step - loss: 0.2489 - accuracy: 0.9489 - val_loss: 0.2605 - val_accuracy: 0.9536\n",
      "Epoch 151/1000\n",
      "41/41 [==============================] - 0s 2ms/step - loss: 0.2538 - accuracy: 0.9435 - val_loss: 0.2606 - val_accuracy: 0.9536\n",
      "Epoch 152/1000\n",
      "41/41 [==============================] - 0s 2ms/step - loss: 0.2419 - accuracy: 0.9474 - val_loss: 0.2601 - val_accuracy: 0.9505\n",
      "Epoch 153/1000\n",
      "41/41 [==============================] - 0s 2ms/step - loss: 0.2454 - accuracy: 0.9497 - val_loss: 0.2590 - val_accuracy: 0.9505\n",
      "Epoch 154/1000\n",
      "41/41 [==============================] - 0s 1ms/step - loss: 0.2425 - accuracy: 0.9443 - val_loss: 0.2586 - val_accuracy: 0.9505\n",
      "Epoch 155/1000\n",
      "41/41 [==============================] - 0s 1ms/step - loss: 0.2409 - accuracy: 0.9474 - val_loss: 0.2579 - val_accuracy: 0.9505\n",
      "Epoch 156/1000\n",
      "41/41 [==============================] - 0s 1ms/step - loss: 0.2409 - accuracy: 0.9481 - val_loss: 0.2594 - val_accuracy: 0.9505\n",
      "Epoch 157/1000\n",
      "41/41 [==============================] - 0s 2ms/step - loss: 0.2444 - accuracy: 0.9412 - val_loss: 0.2586 - val_accuracy: 0.9474\n",
      "Epoch 158/1000\n",
      "41/41 [==============================] - 0s 2ms/step - loss: 0.2432 - accuracy: 0.9489 - val_loss: 0.2569 - val_accuracy: 0.9474\n",
      "Epoch 159/1000\n",
      "41/41 [==============================] - 0s 2ms/step - loss: 0.2373 - accuracy: 0.9528 - val_loss: 0.2549 - val_accuracy: 0.9536\n",
      "Epoch 160/1000\n",
      "41/41 [==============================] - 0s 2ms/step - loss: 0.2378 - accuracy: 0.9443 - val_loss: 0.2544 - val_accuracy: 0.9505\n",
      "Epoch 161/1000\n",
      "41/41 [==============================] - 0s 1ms/step - loss: 0.2413 - accuracy: 0.9443 - val_loss: 0.2541 - val_accuracy: 0.9505\n",
      "Epoch 162/1000\n",
      "41/41 [==============================] - 0s 1ms/step - loss: 0.2295 - accuracy: 0.9481 - val_loss: 0.2545 - val_accuracy: 0.9505\n",
      "Epoch 163/1000\n",
      "41/41 [==============================] - 0s 2ms/step - loss: 0.2343 - accuracy: 0.9489 - val_loss: 0.2539 - val_accuracy: 0.9505\n",
      "Epoch 164/1000\n",
      "41/41 [==============================] - 0s 2ms/step - loss: 0.2359 - accuracy: 0.9466 - val_loss: 0.2519 - val_accuracy: 0.9505\n",
      "Epoch 165/1000\n",
      "41/41 [==============================] - 0s 2ms/step - loss: 0.2363 - accuracy: 0.9512 - val_loss: 0.2539 - val_accuracy: 0.9505\n",
      "Epoch 166/1000\n",
      "41/41 [==============================] - 0s 2ms/step - loss: 0.2307 - accuracy: 0.9450 - val_loss: 0.2543 - val_accuracy: 0.9505\n",
      "Epoch 167/1000\n",
      "41/41 [==============================] - 0s 1ms/step - loss: 0.2257 - accuracy: 0.9512 - val_loss: 0.2535 - val_accuracy: 0.9505\n",
      "Epoch 168/1000\n",
      "41/41 [==============================] - 0s 1ms/step - loss: 0.2335 - accuracy: 0.9420 - val_loss: 0.2516 - val_accuracy: 0.9536\n",
      "Epoch 169/1000\n",
      "41/41 [==============================] - 0s 2ms/step - loss: 0.2316 - accuracy: 0.9474 - val_loss: 0.2521 - val_accuracy: 0.9505\n",
      "Epoch 170/1000\n",
      "41/41 [==============================] - 0s 2ms/step - loss: 0.2306 - accuracy: 0.9443 - val_loss: 0.2522 - val_accuracy: 0.9505\n",
      "Epoch 171/1000\n",
      "41/41 [==============================] - 0s 2ms/step - loss: 0.2305 - accuracy: 0.9497 - val_loss: 0.2512 - val_accuracy: 0.9505\n",
      "Epoch 172/1000\n",
      "41/41 [==============================] - 0s 1ms/step - loss: 0.2344 - accuracy: 0.9481 - val_loss: 0.2510 - val_accuracy: 0.9505\n",
      "Epoch 173/1000\n",
      "41/41 [==============================] - 0s 2ms/step - loss: 0.2268 - accuracy: 0.9528 - val_loss: 0.2492 - val_accuracy: 0.9505\n",
      "Epoch 174/1000\n",
      "41/41 [==============================] - 0s 2ms/step - loss: 0.2254 - accuracy: 0.9497 - val_loss: 0.2488 - val_accuracy: 0.9505\n",
      "Epoch 175/1000\n",
      "41/41 [==============================] - 0s 2ms/step - loss: 0.2264 - accuracy: 0.9497 - val_loss: 0.2482 - val_accuracy: 0.9505\n",
      "Epoch 176/1000\n",
      "41/41 [==============================] - 0s 2ms/step - loss: 0.2233 - accuracy: 0.9559 - val_loss: 0.2484 - val_accuracy: 0.9505\n",
      "Epoch 177/1000\n",
      "41/41 [==============================] - 0s 1ms/step - loss: 0.2229 - accuracy: 0.9512 - val_loss: 0.2486 - val_accuracy: 0.9505\n",
      "Epoch 178/1000\n",
      "41/41 [==============================] - 0s 1ms/step - loss: 0.2258 - accuracy: 0.9443 - val_loss: 0.2487 - val_accuracy: 0.9505\n",
      "Epoch 179/1000\n",
      "41/41 [==============================] - 0s 2ms/step - loss: 0.2226 - accuracy: 0.9520 - val_loss: 0.2464 - val_accuracy: 0.9505\n",
      "Epoch 180/1000\n",
      "41/41 [==============================] - 0s 2ms/step - loss: 0.2186 - accuracy: 0.9512 - val_loss: 0.2457 - val_accuracy: 0.9505\n",
      "Epoch 181/1000\n",
      "41/41 [==============================] - 0s 2ms/step - loss: 0.2184 - accuracy: 0.9512 - val_loss: 0.2464 - val_accuracy: 0.9505\n",
      "Epoch 182/1000\n",
      "41/41 [==============================] - 0s 1ms/step - loss: 0.2229 - accuracy: 0.9543 - val_loss: 0.2457 - val_accuracy: 0.9505\n",
      "Epoch 183/1000\n",
      "41/41 [==============================] - 0s 1ms/step - loss: 0.2258 - accuracy: 0.9489 - val_loss: 0.2455 - val_accuracy: 0.9505\n",
      "Epoch 184/1000\n",
      "41/41 [==============================] - 0s 2ms/step - loss: 0.2210 - accuracy: 0.9497 - val_loss: 0.2445 - val_accuracy: 0.9474\n",
      "Epoch 185/1000\n",
      "41/41 [==============================] - 0s 2ms/step - loss: 0.2191 - accuracy: 0.9528 - val_loss: 0.2447 - val_accuracy: 0.9474\n",
      "Epoch 186/1000\n",
      "41/41 [==============================] - 0s 2ms/step - loss: 0.2171 - accuracy: 0.9536 - val_loss: 0.2438 - val_accuracy: 0.9505\n",
      "Epoch 187/1000\n",
      "41/41 [==============================] - 0s 2ms/step - loss: 0.2137 - accuracy: 0.9559 - val_loss: 0.2434 - val_accuracy: 0.9505\n",
      "Epoch 188/1000\n",
      "41/41 [==============================] - 0s 1ms/step - loss: 0.2178 - accuracy: 0.9497 - val_loss: 0.2434 - val_accuracy: 0.9505\n",
      "Epoch 189/1000\n",
      "41/41 [==============================] - 0s 1ms/step - loss: 0.2131 - accuracy: 0.9543 - val_loss: 0.2442 - val_accuracy: 0.9474\n",
      "Epoch 190/1000\n",
      "41/41 [==============================] - 0s 1ms/step - loss: 0.2175 - accuracy: 0.9528 - val_loss: 0.2442 - val_accuracy: 0.9474\n",
      "Epoch 191/1000\n",
      "41/41 [==============================] - 0s 1ms/step - loss: 0.2151 - accuracy: 0.9536 - val_loss: 0.2448 - val_accuracy: 0.9474\n",
      "Epoch 192/1000\n",
      "41/41 [==============================] - 0s 1ms/step - loss: 0.2138 - accuracy: 0.9512 - val_loss: 0.2428 - val_accuracy: 0.9505\n",
      "Epoch 193/1000\n",
      "41/41 [==============================] - 0s 2ms/step - loss: 0.2169 - accuracy: 0.9543 - val_loss: 0.2432 - val_accuracy: 0.9505\n",
      "Epoch 194/1000\n",
      "41/41 [==============================] - 0s 1ms/step - loss: 0.2119 - accuracy: 0.9505 - val_loss: 0.2409 - val_accuracy: 0.9474\n",
      "Epoch 195/1000\n",
      "41/41 [==============================] - 0s 1ms/step - loss: 0.2138 - accuracy: 0.9528 - val_loss: 0.2427 - val_accuracy: 0.9474\n",
      "Epoch 196/1000\n",
      "41/41 [==============================] - 0s 1ms/step - loss: 0.2093 - accuracy: 0.9567 - val_loss: 0.2417 - val_accuracy: 0.9474\n",
      "Epoch 197/1000\n",
      "41/41 [==============================] - 0s 1ms/step - loss: 0.2143 - accuracy: 0.9528 - val_loss: 0.2408 - val_accuracy: 0.9505\n",
      "Epoch 198/1000\n",
      "41/41 [==============================] - 0s 1ms/step - loss: 0.2109 - accuracy: 0.9551 - val_loss: 0.2396 - val_accuracy: 0.9474\n",
      "Epoch 199/1000\n",
      "41/41 [==============================] - 0s 1ms/step - loss: 0.2129 - accuracy: 0.9505 - val_loss: 0.2408 - val_accuracy: 0.9505\n",
      "Epoch 200/1000\n",
      "41/41 [==============================] - 0s 1ms/step - loss: 0.2093 - accuracy: 0.9551 - val_loss: 0.2412 - val_accuracy: 0.9474\n",
      "Epoch 201/1000\n",
      "41/41 [==============================] - 0s 1ms/step - loss: 0.2099 - accuracy: 0.9528 - val_loss: 0.2385 - val_accuracy: 0.9474\n",
      "Epoch 202/1000\n",
      "41/41 [==============================] - 0s 1ms/step - loss: 0.2109 - accuracy: 0.9528 - val_loss: 0.2400 - val_accuracy: 0.9474\n",
      "Epoch 203/1000\n",
      "41/41 [==============================] - 0s 1ms/step - loss: 0.2061 - accuracy: 0.9520 - val_loss: 0.2384 - val_accuracy: 0.9505\n",
      "Epoch 204/1000\n",
      "41/41 [==============================] - 0s 1ms/step - loss: 0.2021 - accuracy: 0.9567 - val_loss: 0.2373 - val_accuracy: 0.9505\n",
      "Epoch 205/1000\n",
      "41/41 [==============================] - 0s 1ms/step - loss: 0.2076 - accuracy: 0.9551 - val_loss: 0.2377 - val_accuracy: 0.9505\n",
      "Epoch 206/1000\n",
      "41/41 [==============================] - 0s 1ms/step - loss: 0.2083 - accuracy: 0.9450 - val_loss: 0.2369 - val_accuracy: 0.9505\n",
      "Epoch 207/1000\n",
      "41/41 [==============================] - 0s 1ms/step - loss: 0.2047 - accuracy: 0.9567 - val_loss: 0.2379 - val_accuracy: 0.9505\n",
      "Epoch 208/1000\n",
      "41/41 [==============================] - 0s 1ms/step - loss: 0.2072 - accuracy: 0.9574 - val_loss: 0.2370 - val_accuracy: 0.9505\n",
      "Epoch 209/1000\n",
      "41/41 [==============================] - 0s 2ms/step - loss: 0.2021 - accuracy: 0.9512 - val_loss: 0.2382 - val_accuracy: 0.9505\n",
      "Epoch 210/1000\n",
      "41/41 [==============================] - 0s 2ms/step - loss: 0.2055 - accuracy: 0.9528 - val_loss: 0.2377 - val_accuracy: 0.9505\n",
      "Epoch 211/1000\n",
      "41/41 [==============================] - 0s 2ms/step - loss: 0.2034 - accuracy: 0.9551 - val_loss: 0.2356 - val_accuracy: 0.9474\n",
      "Epoch 212/1000\n",
      "41/41 [==============================] - 0s 1ms/step - loss: 0.2058 - accuracy: 0.9520 - val_loss: 0.2347 - val_accuracy: 0.9474\n",
      "Epoch 213/1000\n",
      "41/41 [==============================] - 0s 2ms/step - loss: 0.2022 - accuracy: 0.9536 - val_loss: 0.2348 - val_accuracy: 0.9505\n",
      "Epoch 214/1000\n",
      "41/41 [==============================] - 0s 2ms/step - loss: 0.1967 - accuracy: 0.9543 - val_loss: 0.2336 - val_accuracy: 0.9536\n",
      "Epoch 215/1000\n",
      "41/41 [==============================] - 0s 2ms/step - loss: 0.1982 - accuracy: 0.9543 - val_loss: 0.2346 - val_accuracy: 0.9474\n",
      "Epoch 216/1000\n",
      "41/41 [==============================] - 0s 2ms/step - loss: 0.2044 - accuracy: 0.9505 - val_loss: 0.2327 - val_accuracy: 0.9505\n",
      "Epoch 217/1000\n",
      "41/41 [==============================] - 0s 1ms/step - loss: 0.1950 - accuracy: 0.9574 - val_loss: 0.2337 - val_accuracy: 0.9505\n",
      "Epoch 218/1000\n",
      "41/41 [==============================] - 0s 1ms/step - loss: 0.1959 - accuracy: 0.9559 - val_loss: 0.2325 - val_accuracy: 0.9536\n",
      "Epoch 219/1000\n",
      "41/41 [==============================] - 0s 2ms/step - loss: 0.1962 - accuracy: 0.9582 - val_loss: 0.2314 - val_accuracy: 0.9505\n",
      "Epoch 220/1000\n",
      "41/41 [==============================] - 0s 2ms/step - loss: 0.2071 - accuracy: 0.9551 - val_loss: 0.2324 - val_accuracy: 0.9505\n",
      "Epoch 221/1000\n",
      "41/41 [==============================] - 0s 2ms/step - loss: 0.1976 - accuracy: 0.9598 - val_loss: 0.2305 - val_accuracy: 0.9505\n",
      "Epoch 222/1000\n",
      "41/41 [==============================] - 0s 1ms/step - loss: 0.1991 - accuracy: 0.9559 - val_loss: 0.2307 - val_accuracy: 0.9536\n",
      "Epoch 223/1000\n",
      "41/41 [==============================] - 0s 1ms/step - loss: 0.1978 - accuracy: 0.9528 - val_loss: 0.2337 - val_accuracy: 0.9505\n",
      "Epoch 224/1000\n",
      "41/41 [==============================] - 0s 2ms/step - loss: 0.1959 - accuracy: 0.9559 - val_loss: 0.2325 - val_accuracy: 0.9505\n",
      "Epoch 225/1000\n",
      "41/41 [==============================] - 0s 2ms/step - loss: 0.1961 - accuracy: 0.9536 - val_loss: 0.2311 - val_accuracy: 0.9505\n",
      "Epoch 226/1000\n",
      "41/41 [==============================] - 0s 2ms/step - loss: 0.1964 - accuracy: 0.9520 - val_loss: 0.2299 - val_accuracy: 0.9536\n",
      "Epoch 227/1000\n",
      "41/41 [==============================] - 0s 1ms/step - loss: 0.1931 - accuracy: 0.9582 - val_loss: 0.2308 - val_accuracy: 0.9474\n",
      "Epoch 228/1000\n",
      "41/41 [==============================] - 0s 2ms/step - loss: 0.1897 - accuracy: 0.9551 - val_loss: 0.2298 - val_accuracy: 0.9536\n",
      "Epoch 229/1000\n",
      "41/41 [==============================] - 0s 2ms/step - loss: 0.1946 - accuracy: 0.9551 - val_loss: 0.2312 - val_accuracy: 0.9505\n",
      "Epoch 230/1000\n",
      "41/41 [==============================] - 0s 2ms/step - loss: 0.1885 - accuracy: 0.9582 - val_loss: 0.2293 - val_accuracy: 0.9536\n",
      "Epoch 231/1000\n",
      "41/41 [==============================] - 0s 1ms/step - loss: 0.1931 - accuracy: 0.9559 - val_loss: 0.2306 - val_accuracy: 0.9505\n",
      "Epoch 232/1000\n",
      "41/41 [==============================] - 0s 1ms/step - loss: 0.1894 - accuracy: 0.9590 - val_loss: 0.2302 - val_accuracy: 0.9536\n",
      "Epoch 233/1000\n",
      "41/41 [==============================] - 0s 1ms/step - loss: 0.1888 - accuracy: 0.9621 - val_loss: 0.2300 - val_accuracy: 0.9474\n",
      "Epoch 234/1000\n",
      "41/41 [==============================] - 0s 2ms/step - loss: 0.1908 - accuracy: 0.9559 - val_loss: 0.2289 - val_accuracy: 0.9474\n",
      "Epoch 235/1000\n",
      "41/41 [==============================] - 0s 1ms/step - loss: 0.1912 - accuracy: 0.9543 - val_loss: 0.2273 - val_accuracy: 0.9505\n",
      "Epoch 236/1000\n",
      "41/41 [==============================] - 0s 1ms/step - loss: 0.1913 - accuracy: 0.9582 - val_loss: 0.2279 - val_accuracy: 0.9505\n",
      "Epoch 237/1000\n",
      "41/41 [==============================] - 0s 1ms/step - loss: 0.1892 - accuracy: 0.9559 - val_loss: 0.2272 - val_accuracy: 0.9536\n",
      "Epoch 238/1000\n",
      "41/41 [==============================] - 0s 1ms/step - loss: 0.1901 - accuracy: 0.9567 - val_loss: 0.2274 - val_accuracy: 0.9474\n",
      "Epoch 239/1000\n",
      "41/41 [==============================] - 0s 1ms/step - loss: 0.1892 - accuracy: 0.9559 - val_loss: 0.2267 - val_accuracy: 0.9505\n",
      "Epoch 240/1000\n",
      "41/41 [==============================] - 0s 1ms/step - loss: 0.1898 - accuracy: 0.9551 - val_loss: 0.2268 - val_accuracy: 0.9505\n",
      "Epoch 241/1000\n",
      "41/41 [==============================] - 0s 1ms/step - loss: 0.1919 - accuracy: 0.9528 - val_loss: 0.2277 - val_accuracy: 0.9536\n",
      "Epoch 242/1000\n",
      "41/41 [==============================] - 0s 1ms/step - loss: 0.1841 - accuracy: 0.9574 - val_loss: 0.2269 - val_accuracy: 0.9505\n",
      "Epoch 243/1000\n",
      "41/41 [==============================] - 0s 1ms/step - loss: 0.1845 - accuracy: 0.9621 - val_loss: 0.2264 - val_accuracy: 0.9505\n",
      "Epoch 244/1000\n",
      "41/41 [==============================] - 0s 1ms/step - loss: 0.1812 - accuracy: 0.9621 - val_loss: 0.2274 - val_accuracy: 0.9443\n",
      "Epoch 245/1000\n",
      "41/41 [==============================] - 0s 1ms/step - loss: 0.1852 - accuracy: 0.9567 - val_loss: 0.2256 - val_accuracy: 0.9443\n",
      "Epoch 246/1000\n",
      "41/41 [==============================] - 0s 1ms/step - loss: 0.1834 - accuracy: 0.9543 - val_loss: 0.2261 - val_accuracy: 0.9443\n",
      "Epoch 247/1000\n",
      "41/41 [==============================] - 0s 1ms/step - loss: 0.1866 - accuracy: 0.9536 - val_loss: 0.2264 - val_accuracy: 0.9474\n",
      "Epoch 248/1000\n",
      "41/41 [==============================] - 0s 1ms/step - loss: 0.1864 - accuracy: 0.9551 - val_loss: 0.2257 - val_accuracy: 0.9443\n",
      "Epoch 249/1000\n",
      "41/41 [==============================] - 0s 1ms/step - loss: 0.1807 - accuracy: 0.9598 - val_loss: 0.2271 - val_accuracy: 0.9505\n",
      "Epoch 250/1000\n",
      "41/41 [==============================] - 0s 1ms/step - loss: 0.1856 - accuracy: 0.9536 - val_loss: 0.2265 - val_accuracy: 0.9474\n",
      "Epoch 251/1000\n",
      "41/41 [==============================] - 0s 1ms/step - loss: 0.1848 - accuracy: 0.9543 - val_loss: 0.2275 - val_accuracy: 0.9474\n",
      "Epoch 252/1000\n",
      "41/41 [==============================] - 0s 1ms/step - loss: 0.1852 - accuracy: 0.9582 - val_loss: 0.2248 - val_accuracy: 0.9443\n",
      "Epoch 253/1000\n",
      "41/41 [==============================] - 0s 1ms/step - loss: 0.1828 - accuracy: 0.9590 - val_loss: 0.2258 - val_accuracy: 0.9412\n",
      "Epoch 254/1000\n",
      "41/41 [==============================] - 0s 1ms/step - loss: 0.1820 - accuracy: 0.9598 - val_loss: 0.2248 - val_accuracy: 0.9443\n",
      "Epoch 255/1000\n",
      "41/41 [==============================] - 0s 1ms/step - loss: 0.1803 - accuracy: 0.9590 - val_loss: 0.2255 - val_accuracy: 0.9474\n",
      "Epoch 256/1000\n",
      "41/41 [==============================] - 0s 1ms/step - loss: 0.1791 - accuracy: 0.9582 - val_loss: 0.2254 - val_accuracy: 0.9505\n",
      "Epoch 257/1000\n",
      "41/41 [==============================] - 0s 1ms/step - loss: 0.1853 - accuracy: 0.9574 - val_loss: 0.2242 - val_accuracy: 0.9474\n",
      "Epoch 258/1000\n",
      "41/41 [==============================] - 0s 1ms/step - loss: 0.1804 - accuracy: 0.9598 - val_loss: 0.2233 - val_accuracy: 0.9474\n",
      "Epoch 259/1000\n",
      "41/41 [==============================] - 0s 1ms/step - loss: 0.1825 - accuracy: 0.9505 - val_loss: 0.2228 - val_accuracy: 0.9443\n",
      "Epoch 260/1000\n",
      "41/41 [==============================] - 0s 1ms/step - loss: 0.1736 - accuracy: 0.9636 - val_loss: 0.2232 - val_accuracy: 0.9443\n",
      "Epoch 261/1000\n",
      "41/41 [==============================] - 0s 1ms/step - loss: 0.1781 - accuracy: 0.9644 - val_loss: 0.2264 - val_accuracy: 0.9505\n",
      "Epoch 262/1000\n",
      "41/41 [==============================] - 0s 1ms/step - loss: 0.1765 - accuracy: 0.9590 - val_loss: 0.2259 - val_accuracy: 0.9505\n",
      "Epoch 263/1000\n",
      "41/41 [==============================] - 0s 1ms/step - loss: 0.1730 - accuracy: 0.9683 - val_loss: 0.2253 - val_accuracy: 0.9505\n",
      "Epoch 264/1000\n",
      "41/41 [==============================] - 0s 1ms/step - loss: 0.1740 - accuracy: 0.9574 - val_loss: 0.2238 - val_accuracy: 0.9474\n",
      "Epoch 265/1000\n",
      "41/41 [==============================] - 0s 1ms/step - loss: 0.1737 - accuracy: 0.9590 - val_loss: 0.2224 - val_accuracy: 0.9443\n",
      "Epoch 266/1000\n",
      "41/41 [==============================] - 0s 1ms/step - loss: 0.1762 - accuracy: 0.9582 - val_loss: 0.2220 - val_accuracy: 0.9443\n",
      "Epoch 267/1000\n",
      "41/41 [==============================] - 0s 1ms/step - loss: 0.1759 - accuracy: 0.9598 - val_loss: 0.2213 - val_accuracy: 0.9412\n",
      "Epoch 268/1000\n",
      "41/41 [==============================] - 0s 1ms/step - loss: 0.1730 - accuracy: 0.9613 - val_loss: 0.2223 - val_accuracy: 0.9412\n",
      "Epoch 269/1000\n",
      "41/41 [==============================] - 0s 1ms/step - loss: 0.1767 - accuracy: 0.9605 - val_loss: 0.2221 - val_accuracy: 0.9412\n",
      "Epoch 270/1000\n",
      "41/41 [==============================] - 0s 1ms/step - loss: 0.1762 - accuracy: 0.9598 - val_loss: 0.2231 - val_accuracy: 0.9443\n",
      "Epoch 271/1000\n",
      "41/41 [==============================] - 0s 1ms/step - loss: 0.1724 - accuracy: 0.9613 - val_loss: 0.2242 - val_accuracy: 0.9474\n",
      "Epoch 272/1000\n",
      "41/41 [==============================] - 0s 1ms/step - loss: 0.1684 - accuracy: 0.9652 - val_loss: 0.2212 - val_accuracy: 0.9412\n",
      "Epoch 273/1000\n",
      "41/41 [==============================] - 0s 1ms/step - loss: 0.1677 - accuracy: 0.9598 - val_loss: 0.2215 - val_accuracy: 0.9505\n",
      "Epoch 274/1000\n",
      "41/41 [==============================] - 0s 1ms/step - loss: 0.1686 - accuracy: 0.9652 - val_loss: 0.2223 - val_accuracy: 0.9474\n",
      "Epoch 275/1000\n",
      "41/41 [==============================] - 0s 2ms/step - loss: 0.1739 - accuracy: 0.9598 - val_loss: 0.2219 - val_accuracy: 0.9474\n",
      "Epoch 276/1000\n",
      "41/41 [==============================] - 0s 2ms/step - loss: 0.1716 - accuracy: 0.9613 - val_loss: 0.2211 - val_accuracy: 0.9474\n",
      "Epoch 277/1000\n",
      "41/41 [==============================] - 0s 1ms/step - loss: 0.1758 - accuracy: 0.9559 - val_loss: 0.2207 - val_accuracy: 0.9412\n",
      "Epoch 278/1000\n",
      "41/41 [==============================] - 0s 1ms/step - loss: 0.1671 - accuracy: 0.9590 - val_loss: 0.2211 - val_accuracy: 0.9412\n",
      "Epoch 279/1000\n",
      "41/41 [==============================] - 0s 1ms/step - loss: 0.1676 - accuracy: 0.9582 - val_loss: 0.2204 - val_accuracy: 0.9443\n",
      "Epoch 280/1000\n",
      "41/41 [==============================] - 0s 1ms/step - loss: 0.1715 - accuracy: 0.9621 - val_loss: 0.2217 - val_accuracy: 0.9443\n",
      "Epoch 281/1000\n",
      "41/41 [==============================] - 0s 1ms/step - loss: 0.1703 - accuracy: 0.9605 - val_loss: 0.2201 - val_accuracy: 0.9412\n",
      "Epoch 282/1000\n",
      "41/41 [==============================] - 0s 1ms/step - loss: 0.1684 - accuracy: 0.9652 - val_loss: 0.2189 - val_accuracy: 0.9443\n",
      "Epoch 283/1000\n",
      "41/41 [==============================] - 0s 1ms/step - loss: 0.1674 - accuracy: 0.9628 - val_loss: 0.2203 - val_accuracy: 0.9412\n",
      "Epoch 284/1000\n",
      "41/41 [==============================] - 0s 1ms/step - loss: 0.1688 - accuracy: 0.9598 - val_loss: 0.2216 - val_accuracy: 0.9443\n",
      "Epoch 285/1000\n",
      "41/41 [==============================] - 0s 1ms/step - loss: 0.1687 - accuracy: 0.9567 - val_loss: 0.2207 - val_accuracy: 0.9443\n",
      "Epoch 286/1000\n",
      "41/41 [==============================] - 0s 1ms/step - loss: 0.1690 - accuracy: 0.9621 - val_loss: 0.2222 - val_accuracy: 0.9474\n",
      "Epoch 287/1000\n",
      "41/41 [==============================] - 0s 1ms/step - loss: 0.1655 - accuracy: 0.9644 - val_loss: 0.2203 - val_accuracy: 0.9443\n",
      "Epoch 288/1000\n",
      "41/41 [==============================] - 0s 1ms/step - loss: 0.1686 - accuracy: 0.9628 - val_loss: 0.2206 - val_accuracy: 0.9474\n",
      "Epoch 289/1000\n",
      "41/41 [==============================] - 0s 1ms/step - loss: 0.1687 - accuracy: 0.9598 - val_loss: 0.2191 - val_accuracy: 0.9443\n",
      "Epoch 290/1000\n",
      "41/41 [==============================] - 0s 1ms/step - loss: 0.1683 - accuracy: 0.9582 - val_loss: 0.2189 - val_accuracy: 0.9412\n",
      "Epoch 291/1000\n",
      "41/41 [==============================] - 0s 1ms/step - loss: 0.1671 - accuracy: 0.9613 - val_loss: 0.2188 - val_accuracy: 0.9443\n",
      "Epoch 292/1000\n",
      "41/41 [==============================] - 0s 1ms/step - loss: 0.1624 - accuracy: 0.9659 - val_loss: 0.2202 - val_accuracy: 0.9505\n",
      "Epoch 293/1000\n",
      "41/41 [==============================] - 0s 1ms/step - loss: 0.1639 - accuracy: 0.9675 - val_loss: 0.2181 - val_accuracy: 0.9474\n",
      "Epoch 294/1000\n",
      "41/41 [==============================] - 0s 1ms/step - loss: 0.1694 - accuracy: 0.9590 - val_loss: 0.2182 - val_accuracy: 0.9443\n",
      "Epoch 295/1000\n",
      "41/41 [==============================] - 0s 1ms/step - loss: 0.1625 - accuracy: 0.9644 - val_loss: 0.2170 - val_accuracy: 0.9443\n",
      "Epoch 296/1000\n",
      "41/41 [==============================] - 0s 1ms/step - loss: 0.1621 - accuracy: 0.9659 - val_loss: 0.2170 - val_accuracy: 0.9443\n",
      "Epoch 297/1000\n",
      "41/41 [==============================] - 0s 1ms/step - loss: 0.1590 - accuracy: 0.9628 - val_loss: 0.2194 - val_accuracy: 0.9443\n",
      "Epoch 298/1000\n",
      "41/41 [==============================] - 0s 1ms/step - loss: 0.1621 - accuracy: 0.9644 - val_loss: 0.2171 - val_accuracy: 0.9412\n",
      "Epoch 299/1000\n",
      "41/41 [==============================] - 0s 1ms/step - loss: 0.1699 - accuracy: 0.9590 - val_loss: 0.2178 - val_accuracy: 0.9474\n",
      "Epoch 300/1000\n",
      "41/41 [==============================] - 0s 1ms/step - loss: 0.1629 - accuracy: 0.9636 - val_loss: 0.2178 - val_accuracy: 0.9443\n",
      "Epoch 301/1000\n",
      "41/41 [==============================] - 0s 1ms/step - loss: 0.1560 - accuracy: 0.9675 - val_loss: 0.2170 - val_accuracy: 0.9474\n",
      "Epoch 302/1000\n",
      "41/41 [==============================] - 0s 1ms/step - loss: 0.1643 - accuracy: 0.9598 - val_loss: 0.2174 - val_accuracy: 0.9474\n",
      "Epoch 303/1000\n",
      "41/41 [==============================] - 0s 1ms/step - loss: 0.1651 - accuracy: 0.9590 - val_loss: 0.2175 - val_accuracy: 0.9474\n",
      "Epoch 304/1000\n",
      "41/41 [==============================] - 0s 1ms/step - loss: 0.1558 - accuracy: 0.9644 - val_loss: 0.2187 - val_accuracy: 0.9443\n",
      "Epoch 305/1000\n",
      "41/41 [==============================] - 0s 1ms/step - loss: 0.1538 - accuracy: 0.9683 - val_loss: 0.2185 - val_accuracy: 0.9474\n",
      "Epoch 306/1000\n",
      "41/41 [==============================] - 0s 1ms/step - loss: 0.1626 - accuracy: 0.9644 - val_loss: 0.2198 - val_accuracy: 0.9443\n",
      "Epoch 307/1000\n",
      "41/41 [==============================] - 0s 1ms/step - loss: 0.1552 - accuracy: 0.9690 - val_loss: 0.2182 - val_accuracy: 0.9443\n",
      "Epoch 308/1000\n",
      "41/41 [==============================] - 0s 1ms/step - loss: 0.1606 - accuracy: 0.9675 - val_loss: 0.2170 - val_accuracy: 0.9443\n",
      "Epoch 309/1000\n",
      "41/41 [==============================] - 0s 1ms/step - loss: 0.1569 - accuracy: 0.9667 - val_loss: 0.2193 - val_accuracy: 0.9474\n",
      "Epoch 310/1000\n",
      "41/41 [==============================] - 0s 1ms/step - loss: 0.1618 - accuracy: 0.9598 - val_loss: 0.2184 - val_accuracy: 0.9443\n",
      "Epoch 311/1000\n",
      "41/41 [==============================] - 0s 1ms/step - loss: 0.1579 - accuracy: 0.9667 - val_loss: 0.2170 - val_accuracy: 0.9474\n"
     ]
    }
   ],
   "source": [
    "class_report, cf_matrix, history = test_model(g2v_dataset, labels, np.unique(labels_str))"
   ],
   "metadata": {
    "collapsed": false,
    "pycharm": {
     "name": "#%%\n"
    }
   }
  },
  {
   "cell_type": "code",
   "execution_count": 161,
   "outputs": [
    {
     "data": {
      "text/plain": "<Figure size 720x288 with 2 Axes>",
      "image/png": "[encoded data removed]"
     },
     "metadata": {
      "needs_background": "light"
     },
     "output_type": "display_data"
    }
   ],
   "source": [
    "plot_history(history)"
   ],
   "metadata": {
    "collapsed": false,
    "pycharm": {
     "name": "#%%\n"
    }
   }
  },
  {
   "cell_type": "code",
   "execution_count": 162,
   "outputs": [
    {
     "name": "stdout",
     "output_type": "stream",
     "text": [
      "Classification report\n",
      "              precision    recall  f1-score   support\n",
      "\n",
      "          DE       0.87      0.84      0.85       108\n",
      "          ES       0.98      0.97      0.97        90\n",
      "          IE       0.89      0.95      0.92        98\n",
      "          RO       0.94      0.92      0.93       108\n",
      "\n",
      "    accuracy                           0.92       404\n",
      "   macro avg       0.92      0.92      0.92       404\n",
      "weighted avg       0.92      0.92      0.92       404\n",
      "\n"
     ]
    }
   ],
   "source": [
    "print(\"Classification report\")\n",
    "print(class_report)"
   ],
   "metadata": {
    "collapsed": false,
    "pycharm": {
     "name": "#%%\n"
    }
   }
  },
  {
   "cell_type": "code",
   "execution_count": 163,
   "outputs": [
    {
     "name": "stdout",
     "output_type": "stream",
     "text": [
      "Confusion matrix\n"
     ]
    },
    {
     "data": {
      "text/plain": "<Figure size 360x360 with 2 Axes>",
      "image/png": "[encoded data removed]"
     },
     "metadata": {
      "needs_background": "light"
     },
     "output_type": "display_data"
    }
   ],
   "source": [
    "print(\"Confusion matrix\")\n",
    "cf_display = ConfusionMatrixDisplay(cf_matrix, display_labels=np.unique(labels_str))\n",
    "f, ax = plt.subplots(figsize=(5, 5))\n",
    "cf_display.plot(ax=ax)\n",
    "plt.show()"
   ],
   "metadata": {
    "collapsed": false,
    "pycharm": {
     "name": "#%%\n"
    }
   }
  },
  {
   "cell_type": "markdown",
   "source": [
    "## Un problème plus difficile : 17 pays d'Europe\n",
    "\n",
    "### Création de l'échantillon\n"
   ],
   "metadata": {
    "collapsed": false
   }
  },
  {
   "cell_type": "code",
   "execution_count": 139,
   "outputs": [],
   "source": [
    "# création d'un échantillon 2040 instances\n",
    "groups = graph_properties.sample(frac=1).groupby('label')\n",
    "min_graph_count = min(120,groups.size().sort_values().iloc[0])\n",
    "ech_properties = groups.nth(list(range(min_graph_count)))\n",
    "ech_properties = ech_properties.reset_index(level=0)\n",
    "ech_properties['label'] = ech_properties['label'].astype('category').cat.codes"
   ],
   "metadata": {
    "collapsed": false,
    "pycharm": {
     "name": "#%%\n"
    }
   }
  },
  {
   "cell_type": "code",
   "execution_count": 140,
   "outputs": [],
   "source": [
    "ech_nodes = graph_nodes[graph_nodes['graph_id'].isin(ech_properties['graph_id'])]\n",
    "ech_edges = graph_edges[graph_edges['graph_id'].isin(ech_properties['graph_id'])]"
   ],
   "metadata": {
    "collapsed": false,
    "pycharm": {
     "name": "#%%\n"
    }
   }
  },
  {
   "cell_type": "code",
   "execution_count": 141,
   "outputs": [
    {
     "name": "stdout",
     "output_type": "stream",
     "text": [
      "# instances : 2040\n",
      "# classes : 17\n",
      "# nodes (min.) : 1\n",
      "# nodes (avg.) : 24.56\n",
      "# nodes (max.) : 407\n",
      "# edges (min.) : 1\n",
      "# edges (avg.) : 44.16\n",
      "# edges (max.) : 883\n",
      "# distinct node labels : 44\n"
     ]
    }
   ],
   "source": [
    "describe_graphs_data(ech_properties, ech_nodes, ech_edges)"
   ],
   "metadata": {
    "collapsed": false,
    "pycharm": {
     "name": "#%%\n"
    }
   }
  },
  {
   "cell_type": "code",
   "execution_count": 142,
   "outputs": [],
   "source": [
    "communes_nx_dataset = NxClassDataset(properties=ech_properties,\n",
    "                                     nodes=ech_nodes,\n",
    "                                     edges=ech_edges)"
   ],
   "metadata": {
    "collapsed": false,
    "pycharm": {
     "name": "#%%\n"
    }
   }
  },
  {
   "cell_type": "code",
   "execution_count": 143,
   "outputs": [],
   "source": [
    "graphs = communes_nx_dataset.get_graphs()\n",
    "labels = np.array(communes_nx_dataset.get_labels())\n",
    "labels_str = np.array(communes_nx_dataset.get_labels_str())"
   ],
   "metadata": {
    "collapsed": false,
    "pycharm": {
     "name": "#%%\n"
    }
   }
  },
  {
   "cell_type": "markdown",
   "source": [
    "### Embedding\n"
   ],
   "metadata": {
    "collapsed": false
   }
  },
  {
   "cell_type": "code",
   "execution_count": 144,
   "outputs": [],
   "source": [
    "g2v_dataset = g2v_embedding(graphs, epochs=100)"
   ],
   "metadata": {
    "collapsed": false,
    "pycharm": {
     "name": "#%%\n"
    }
   }
  },
  {
   "cell_type": "markdown",
   "source": [
    "### Classification"
   ],
   "metadata": {
    "collapsed": false
   }
  },
  {
   "cell_type": "code",
   "execution_count": 145,
   "outputs": [
    {
     "name": "stdout",
     "output_type": "stream",
     "text": [
      "Epoch 1/1000\n",
      "41/41 [==============================] - 0s 4ms/step - loss: 3.0570 - accuracy: 0.0416 - val_loss: 3.0393 - val_accuracy: 0.0492\n",
      "Epoch 2/1000\n",
      "41/41 [==============================] - 0s 1ms/step - loss: 3.0326 - accuracy: 0.0570 - val_loss: 3.0219 - val_accuracy: 0.0646\n",
      "Epoch 3/1000\n",
      "41/41 [==============================] - 0s 2ms/step - loss: 3.0168 - accuracy: 0.0624 - val_loss: 3.0068 - val_accuracy: 0.0923\n",
      "Epoch 4/1000\n",
      "41/41 [==============================] - 0s 2ms/step - loss: 2.9999 - accuracy: 0.0770 - val_loss: 2.9934 - val_accuracy: 0.1077\n",
      "Epoch 5/1000\n",
      "41/41 [==============================] - 0s 2ms/step - loss: 2.9846 - accuracy: 0.0978 - val_loss: 2.9798 - val_accuracy: 0.1138\n",
      "Epoch 6/1000\n",
      "41/41 [==============================] - 0s 2ms/step - loss: 2.9696 - accuracy: 0.1055 - val_loss: 2.9657 - val_accuracy: 0.1262\n",
      "Epoch 7/1000\n",
      "41/41 [==============================] - 0s 2ms/step - loss: 2.9550 - accuracy: 0.1085 - val_loss: 2.9511 - val_accuracy: 0.1385\n",
      "Epoch 8/1000\n",
      "41/41 [==============================] - 0s 1ms/step - loss: 2.9364 - accuracy: 0.1316 - val_loss: 2.9358 - val_accuracy: 0.1292\n",
      "Epoch 9/1000\n",
      "41/41 [==============================] - 0s 1ms/step - loss: 2.9207 - accuracy: 0.1339 - val_loss: 2.9200 - val_accuracy: 0.1385\n",
      "Epoch 10/1000\n",
      "41/41 [==============================] - 0s 1ms/step - loss: 2.9035 - accuracy: 0.1578 - val_loss: 2.9036 - val_accuracy: 0.1538\n",
      "Epoch 11/1000\n",
      "41/41 [==============================] - 0s 1ms/step - loss: 2.8882 - accuracy: 0.1501 - val_loss: 2.8867 - val_accuracy: 0.1662\n",
      "Epoch 12/1000\n",
      "41/41 [==============================] - 0s 1ms/step - loss: 2.8699 - accuracy: 0.1717 - val_loss: 2.8701 - val_accuracy: 0.1692\n",
      "Epoch 13/1000\n",
      "41/41 [==============================] - 0s 1ms/step - loss: 2.8521 - accuracy: 0.1624 - val_loss: 2.8534 - val_accuracy: 0.1815\n",
      "Epoch 14/1000\n",
      "41/41 [==============================] - 0s 1ms/step - loss: 2.8325 - accuracy: 0.1832 - val_loss: 2.8359 - val_accuracy: 0.1846\n",
      "Epoch 15/1000\n",
      "41/41 [==============================] - 0s 1ms/step - loss: 2.8156 - accuracy: 0.1778 - val_loss: 2.8182 - val_accuracy: 0.1846\n",
      "Epoch 16/1000\n",
      "41/41 [==============================] - 0s 1ms/step - loss: 2.7971 - accuracy: 0.1909 - val_loss: 2.8001 - val_accuracy: 0.1938\n",
      "Epoch 17/1000\n",
      "41/41 [==============================] - 0s 1ms/step - loss: 2.7715 - accuracy: 0.2002 - val_loss: 2.7815 - val_accuracy: 0.1969\n",
      "Epoch 18/1000\n",
      "41/41 [==============================] - 0s 1ms/step - loss: 2.7548 - accuracy: 0.2179 - val_loss: 2.7629 - val_accuracy: 0.1938\n",
      "Epoch 19/1000\n",
      "41/41 [==============================] - 0s 1ms/step - loss: 2.7398 - accuracy: 0.2163 - val_loss: 2.7442 - val_accuracy: 0.1969\n",
      "Epoch 20/1000\n",
      "41/41 [==============================] - 0s 1ms/step - loss: 2.7132 - accuracy: 0.2225 - val_loss: 2.7251 - val_accuracy: 0.2031\n",
      "Epoch 21/1000\n",
      "41/41 [==============================] - 0s 1ms/step - loss: 2.6963 - accuracy: 0.2286 - val_loss: 2.7052 - val_accuracy: 0.2062\n",
      "Epoch 22/1000\n",
      "41/41 [==============================] - 0s 1ms/step - loss: 2.6642 - accuracy: 0.2294 - val_loss: 2.6855 - val_accuracy: 0.2000\n",
      "Epoch 23/1000\n",
      "41/41 [==============================] - 0s 1ms/step - loss: 2.6527 - accuracy: 0.2363 - val_loss: 2.6661 - val_accuracy: 0.2092\n",
      "Epoch 24/1000\n",
      "41/41 [==============================] - 0s 1ms/step - loss: 2.6321 - accuracy: 0.2386 - val_loss: 2.6452 - val_accuracy: 0.2215\n",
      "Epoch 25/1000\n",
      "41/41 [==============================] - 0s 1ms/step - loss: 2.6051 - accuracy: 0.2363 - val_loss: 2.6246 - val_accuracy: 0.2400\n",
      "Epoch 26/1000\n",
      "41/41 [==============================] - 0s 1ms/step - loss: 2.5809 - accuracy: 0.2510 - val_loss: 2.6042 - val_accuracy: 0.2677\n",
      "Epoch 27/1000\n",
      "41/41 [==============================] - 0s 1ms/step - loss: 2.5622 - accuracy: 0.2617 - val_loss: 2.5828 - val_accuracy: 0.2800\n",
      "Epoch 28/1000\n",
      "41/41 [==============================] - 0s 1ms/step - loss: 2.5421 - accuracy: 0.2671 - val_loss: 2.5622 - val_accuracy: 0.2862\n",
      "Epoch 29/1000\n",
      "41/41 [==============================] - 0s 1ms/step - loss: 2.5244 - accuracy: 0.2679 - val_loss: 2.5414 - val_accuracy: 0.3015\n",
      "Epoch 30/1000\n",
      "41/41 [==============================] - 0s 1ms/step - loss: 2.4958 - accuracy: 0.2995 - val_loss: 2.5192 - val_accuracy: 0.2985\n",
      "Epoch 31/1000\n",
      "41/41 [==============================] - 0s 1ms/step - loss: 2.4731 - accuracy: 0.3018 - val_loss: 2.4972 - val_accuracy: 0.3231\n",
      "Epoch 32/1000\n",
      "41/41 [==============================] - 0s 1ms/step - loss: 2.4491 - accuracy: 0.3048 - val_loss: 2.4758 - val_accuracy: 0.3385\n",
      "Epoch 33/1000\n",
      "41/41 [==============================] - 0s 1ms/step - loss: 2.4280 - accuracy: 0.3172 - val_loss: 2.4547 - val_accuracy: 0.3569\n",
      "Epoch 34/1000\n",
      "41/41 [==============================] - 0s 1ms/step - loss: 2.4105 - accuracy: 0.3202 - val_loss: 2.4334 - val_accuracy: 0.3754\n",
      "Epoch 35/1000\n",
      "41/41 [==============================] - 0s 1ms/step - loss: 2.3898 - accuracy: 0.3279 - val_loss: 2.4115 - val_accuracy: 0.3815\n",
      "Epoch 36/1000\n",
      "41/41 [==============================] - 0s 1ms/step - loss: 2.3663 - accuracy: 0.3226 - val_loss: 2.3912 - val_accuracy: 0.3846\n",
      "Epoch 37/1000\n",
      "41/41 [==============================] - 0s 1ms/step - loss: 2.3443 - accuracy: 0.3380 - val_loss: 2.3702 - val_accuracy: 0.4031\n",
      "Epoch 38/1000\n",
      "41/41 [==============================] - 0s 1ms/step - loss: 2.3234 - accuracy: 0.3587 - val_loss: 2.3500 - val_accuracy: 0.4062\n",
      "Epoch 39/1000\n",
      "41/41 [==============================] - 0s 1ms/step - loss: 2.3044 - accuracy: 0.3518 - val_loss: 2.3296 - val_accuracy: 0.4246\n",
      "Epoch 40/1000\n",
      "41/41 [==============================] - 0s 1ms/step - loss: 2.2912 - accuracy: 0.3564 - val_loss: 2.3113 - val_accuracy: 0.4246\n",
      "Epoch 41/1000\n",
      "41/41 [==============================] - 0s 1ms/step - loss: 2.2842 - accuracy: 0.3557 - val_loss: 2.2928 - val_accuracy: 0.4400\n",
      "Epoch 42/1000\n",
      "41/41 [==============================] - 0s 1ms/step - loss: 2.2567 - accuracy: 0.3788 - val_loss: 2.2731 - val_accuracy: 0.4338\n",
      "Epoch 43/1000\n",
      "41/41 [==============================] - 0s 1ms/step - loss: 2.2414 - accuracy: 0.3780 - val_loss: 2.2544 - val_accuracy: 0.4338\n",
      "Epoch 44/1000\n",
      "41/41 [==============================] - 0s 1ms/step - loss: 2.2199 - accuracy: 0.3757 - val_loss: 2.2366 - val_accuracy: 0.4400\n",
      "Epoch 45/1000\n",
      "41/41 [==============================] - 0s 1ms/step - loss: 2.2072 - accuracy: 0.3772 - val_loss: 2.2179 - val_accuracy: 0.4431\n",
      "Epoch 46/1000\n",
      "41/41 [==============================] - 0s 1ms/step - loss: 2.1864 - accuracy: 0.3803 - val_loss: 2.2017 - val_accuracy: 0.4369\n",
      "Epoch 47/1000\n",
      "41/41 [==============================] - 0s 1ms/step - loss: 2.1468 - accuracy: 0.3941 - val_loss: 2.1836 - val_accuracy: 0.4462\n",
      "Epoch 48/1000\n",
      "41/41 [==============================] - 0s 1ms/step - loss: 2.1581 - accuracy: 0.3949 - val_loss: 2.1646 - val_accuracy: 0.4585\n",
      "Epoch 49/1000\n",
      "41/41 [==============================] - 0s 1ms/step - loss: 2.1317 - accuracy: 0.3957 - val_loss: 2.1495 - val_accuracy: 0.4585\n",
      "Epoch 50/1000\n",
      "41/41 [==============================] - 0s 1ms/step - loss: 2.1038 - accuracy: 0.4234 - val_loss: 2.1337 - val_accuracy: 0.4554\n",
      "Epoch 51/1000\n",
      "41/41 [==============================] - 0s 1ms/step - loss: 2.0872 - accuracy: 0.4273 - val_loss: 2.1190 - val_accuracy: 0.4585\n",
      "Epoch 52/1000\n",
      "41/41 [==============================] - 0s 1ms/step - loss: 2.0788 - accuracy: 0.4042 - val_loss: 2.1022 - val_accuracy: 0.4523\n",
      "Epoch 53/1000\n",
      "41/41 [==============================] - 0s 1ms/step - loss: 2.0588 - accuracy: 0.4242 - val_loss: 2.0886 - val_accuracy: 0.4646\n",
      "Epoch 54/1000\n",
      "41/41 [==============================] - 0s 1ms/step - loss: 2.0406 - accuracy: 0.4180 - val_loss: 2.0709 - val_accuracy: 0.4615\n",
      "Epoch 55/1000\n",
      "41/41 [==============================] - 0s 1ms/step - loss: 2.0458 - accuracy: 0.4288 - val_loss: 2.0603 - val_accuracy: 0.4677\n",
      "Epoch 56/1000\n",
      "41/41 [==============================] - 0s 1ms/step - loss: 2.0107 - accuracy: 0.4573 - val_loss: 2.0443 - val_accuracy: 0.4708\n",
      "Epoch 57/1000\n",
      "41/41 [==============================] - 0s 1ms/step - loss: 1.9974 - accuracy: 0.4396 - val_loss: 2.0334 - val_accuracy: 0.4738\n",
      "Epoch 58/1000\n",
      "41/41 [==============================] - 0s 1ms/step - loss: 1.9722 - accuracy: 0.4426 - val_loss: 2.0216 - val_accuracy: 0.4831\n",
      "Epoch 59/1000\n",
      "41/41 [==============================] - 0s 1ms/step - loss: 1.9675 - accuracy: 0.4511 - val_loss: 2.0075 - val_accuracy: 0.4923\n",
      "Epoch 60/1000\n",
      "41/41 [==============================] - 0s 1ms/step - loss: 1.9739 - accuracy: 0.4396 - val_loss: 1.9968 - val_accuracy: 0.4923\n",
      "Epoch 61/1000\n",
      "41/41 [==============================] - 0s 1ms/step - loss: 1.9604 - accuracy: 0.4296 - val_loss: 1.9849 - val_accuracy: 0.5015\n",
      "Epoch 62/1000\n",
      "41/41 [==============================] - 0s 1ms/step - loss: 1.9387 - accuracy: 0.4550 - val_loss: 1.9736 - val_accuracy: 0.4985\n",
      "Epoch 63/1000\n",
      "41/41 [==============================] - 0s 1ms/step - loss: 1.9467 - accuracy: 0.4496 - val_loss: 1.9613 - val_accuracy: 0.4923\n",
      "Epoch 64/1000\n",
      "41/41 [==============================] - 0s 1ms/step - loss: 1.9191 - accuracy: 0.4627 - val_loss: 1.9530 - val_accuracy: 0.5077\n",
      "Epoch 65/1000\n",
      "41/41 [==============================] - 0s 1ms/step - loss: 1.9177 - accuracy: 0.4573 - val_loss: 1.9431 - val_accuracy: 0.5138\n",
      "Epoch 66/1000\n",
      "41/41 [==============================] - 0s 1ms/step - loss: 1.9171 - accuracy: 0.4604 - val_loss: 1.9336 - val_accuracy: 0.5200\n",
      "Epoch 67/1000\n",
      "41/41 [==============================] - 0s 1ms/step - loss: 1.8696 - accuracy: 0.4758 - val_loss: 1.9225 - val_accuracy: 0.5077\n",
      "Epoch 68/1000\n",
      "41/41 [==============================] - 0s 1ms/step - loss: 1.8690 - accuracy: 0.4734 - val_loss: 1.9155 - val_accuracy: 0.5108\n",
      "Epoch 69/1000\n",
      "41/41 [==============================] - 0s 1ms/step - loss: 1.8712 - accuracy: 0.4673 - val_loss: 1.9082 - val_accuracy: 0.5108\n",
      "Epoch 70/1000\n",
      "41/41 [==============================] - 0s 1ms/step - loss: 1.8476 - accuracy: 0.4758 - val_loss: 1.8961 - val_accuracy: 0.5138\n",
      "Epoch 71/1000\n",
      "41/41 [==============================] - 0s 1ms/step - loss: 1.8369 - accuracy: 0.4796 - val_loss: 1.8889 - val_accuracy: 0.5108\n",
      "Epoch 72/1000\n",
      "41/41 [==============================] - 0s 1ms/step - loss: 1.8473 - accuracy: 0.4527 - val_loss: 1.8819 - val_accuracy: 0.5108\n",
      "Epoch 73/1000\n",
      "41/41 [==============================] - 0s 1ms/step - loss: 1.8189 - accuracy: 0.4888 - val_loss: 1.8738 - val_accuracy: 0.5077\n",
      "Epoch 74/1000\n",
      "41/41 [==============================] - 0s 1ms/step - loss: 1.8141 - accuracy: 0.4919 - val_loss: 1.8650 - val_accuracy: 0.5108\n",
      "Epoch 75/1000\n",
      "41/41 [==============================] - 0s 1ms/step - loss: 1.8077 - accuracy: 0.4796 - val_loss: 1.8582 - val_accuracy: 0.5108\n",
      "Epoch 76/1000\n",
      "41/41 [==============================] - 0s 1ms/step - loss: 1.7961 - accuracy: 0.4850 - val_loss: 1.8524 - val_accuracy: 0.5077\n",
      "Epoch 77/1000\n",
      "41/41 [==============================] - 0s 1ms/step - loss: 1.7879 - accuracy: 0.4834 - val_loss: 1.8434 - val_accuracy: 0.5200\n",
      "Epoch 78/1000\n",
      "41/41 [==============================] - 0s 1ms/step - loss: 1.7904 - accuracy: 0.4896 - val_loss: 1.8357 - val_accuracy: 0.5200\n",
      "Epoch 79/1000\n",
      "41/41 [==============================] - 0s 1ms/step - loss: 1.7705 - accuracy: 0.4904 - val_loss: 1.8321 - val_accuracy: 0.5231\n",
      "Epoch 80/1000\n",
      "41/41 [==============================] - 0s 1ms/step - loss: 1.7636 - accuracy: 0.4919 - val_loss: 1.8247 - val_accuracy: 0.5231\n",
      "Epoch 81/1000\n",
      "41/41 [==============================] - 0s 1ms/step - loss: 1.7556 - accuracy: 0.5227 - val_loss: 1.8171 - val_accuracy: 0.5292\n",
      "Epoch 82/1000\n",
      "41/41 [==============================] - 0s 1ms/step - loss: 1.7223 - accuracy: 0.5189 - val_loss: 1.8097 - val_accuracy: 0.5292\n",
      "Epoch 83/1000\n",
      "41/41 [==============================] - 0s 1ms/step - loss: 1.7355 - accuracy: 0.5089 - val_loss: 1.8067 - val_accuracy: 0.5292\n",
      "Epoch 84/1000\n",
      "41/41 [==============================] - 0s 1ms/step - loss: 1.7150 - accuracy: 0.5219 - val_loss: 1.7974 - val_accuracy: 0.5292\n",
      "Epoch 85/1000\n",
      "41/41 [==============================] - 0s 1ms/step - loss: 1.7242 - accuracy: 0.5096 - val_loss: 1.7966 - val_accuracy: 0.5231\n",
      "Epoch 86/1000\n",
      "41/41 [==============================] - 0s 1ms/step - loss: 1.7307 - accuracy: 0.4973 - val_loss: 1.7888 - val_accuracy: 0.5262\n",
      "Epoch 87/1000\n",
      "41/41 [==============================] - 0s 1ms/step - loss: 1.7071 - accuracy: 0.5204 - val_loss: 1.7844 - val_accuracy: 0.5323\n",
      "Epoch 88/1000\n",
      "41/41 [==============================] - 0s 1ms/step - loss: 1.6984 - accuracy: 0.5058 - val_loss: 1.7792 - val_accuracy: 0.5292\n",
      "Epoch 89/1000\n",
      "41/41 [==============================] - 0s 1ms/step - loss: 1.6923 - accuracy: 0.5150 - val_loss: 1.7743 - val_accuracy: 0.5292\n",
      "Epoch 90/1000\n",
      "41/41 [==============================] - 0s 1ms/step - loss: 1.6798 - accuracy: 0.5142 - val_loss: 1.7720 - val_accuracy: 0.5292\n",
      "Epoch 91/1000\n",
      "41/41 [==============================] - 0s 1ms/step - loss: 1.7055 - accuracy: 0.5112 - val_loss: 1.7636 - val_accuracy: 0.5323\n",
      "Epoch 92/1000\n",
      "41/41 [==============================] - 0s 1ms/step - loss: 1.6762 - accuracy: 0.5296 - val_loss: 1.7602 - val_accuracy: 0.5323\n",
      "Epoch 93/1000\n",
      "41/41 [==============================] - 0s 1ms/step - loss: 1.6660 - accuracy: 0.5212 - val_loss: 1.7566 - val_accuracy: 0.5385\n",
      "Epoch 94/1000\n",
      "41/41 [==============================] - 0s 1ms/step - loss: 1.6740 - accuracy: 0.5273 - val_loss: 1.7534 - val_accuracy: 0.5323\n",
      "Epoch 95/1000\n",
      "41/41 [==============================] - 0s 1ms/step - loss: 1.6658 - accuracy: 0.5227 - val_loss: 1.7475 - val_accuracy: 0.5385\n",
      "Epoch 96/1000\n",
      "41/41 [==============================] - 0s 1ms/step - loss: 1.6533 - accuracy: 0.5327 - val_loss: 1.7430 - val_accuracy: 0.5477\n",
      "Epoch 97/1000\n",
      "41/41 [==============================] - 0s 1ms/step - loss: 1.6716 - accuracy: 0.5150 - val_loss: 1.7422 - val_accuracy: 0.5415\n",
      "Epoch 98/1000\n",
      "41/41 [==============================] - 0s 1ms/step - loss: 1.6459 - accuracy: 0.5373 - val_loss: 1.7370 - val_accuracy: 0.5323\n",
      "Epoch 99/1000\n",
      "41/41 [==============================] - 0s 1ms/step - loss: 1.6301 - accuracy: 0.5450 - val_loss: 1.7307 - val_accuracy: 0.5446\n",
      "Epoch 100/1000\n",
      "41/41 [==============================] - 0s 1ms/step - loss: 1.6279 - accuracy: 0.5589 - val_loss: 1.7289 - val_accuracy: 0.5354\n",
      "Epoch 101/1000\n",
      "41/41 [==============================] - 0s 1ms/step - loss: 1.6396 - accuracy: 0.5366 - val_loss: 1.7289 - val_accuracy: 0.5446\n",
      "Epoch 102/1000\n",
      "41/41 [==============================] - 0s 1ms/step - loss: 1.6211 - accuracy: 0.5412 - val_loss: 1.7219 - val_accuracy: 0.5446\n",
      "Epoch 103/1000\n",
      "41/41 [==============================] - 0s 1ms/step - loss: 1.6007 - accuracy: 0.5373 - val_loss: 1.7211 - val_accuracy: 0.5446\n",
      "Epoch 104/1000\n",
      "41/41 [==============================] - 0s 1ms/step - loss: 1.6066 - accuracy: 0.5443 - val_loss: 1.7212 - val_accuracy: 0.5538\n",
      "Epoch 105/1000\n",
      "41/41 [==============================] - 0s 1ms/step - loss: 1.6293 - accuracy: 0.5304 - val_loss: 1.7149 - val_accuracy: 0.5538\n",
      "Epoch 106/1000\n",
      "41/41 [==============================] - 0s 1ms/step - loss: 1.6089 - accuracy: 0.5443 - val_loss: 1.7108 - val_accuracy: 0.5569\n",
      "Epoch 107/1000\n",
      "41/41 [==============================] - 0s 1ms/step - loss: 1.5996 - accuracy: 0.5427 - val_loss: 1.7058 - val_accuracy: 0.5569\n",
      "Epoch 108/1000\n",
      "41/41 [==============================] - 0s 1ms/step - loss: 1.5947 - accuracy: 0.5366 - val_loss: 1.7038 - val_accuracy: 0.5631\n",
      "Epoch 109/1000\n",
      "41/41 [==============================] - 0s 1ms/step - loss: 1.5833 - accuracy: 0.5512 - val_loss: 1.7004 - val_accuracy: 0.5569\n",
      "Epoch 110/1000\n",
      "41/41 [==============================] - 0s 1ms/step - loss: 1.5741 - accuracy: 0.5366 - val_loss: 1.6977 - val_accuracy: 0.5569\n",
      "Epoch 111/1000\n",
      "41/41 [==============================] - 0s 1ms/step - loss: 1.5648 - accuracy: 0.5635 - val_loss: 1.6954 - val_accuracy: 0.5600\n",
      "Epoch 112/1000\n",
      "41/41 [==============================] - 0s 1ms/step - loss: 1.5774 - accuracy: 0.5450 - val_loss: 1.6927 - val_accuracy: 0.5600\n",
      "Epoch 113/1000\n",
      "41/41 [==============================] - 0s 1ms/step - loss: 1.5623 - accuracy: 0.5435 - val_loss: 1.6879 - val_accuracy: 0.5600\n",
      "Epoch 114/1000\n",
      "41/41 [==============================] - 0s 1ms/step - loss: 1.5862 - accuracy: 0.5312 - val_loss: 1.6876 - val_accuracy: 0.5631\n",
      "Epoch 115/1000\n",
      "41/41 [==============================] - 0s 1ms/step - loss: 1.5478 - accuracy: 0.5574 - val_loss: 1.6811 - val_accuracy: 0.5569\n",
      "Epoch 116/1000\n",
      "41/41 [==============================] - 0s 1ms/step - loss: 1.5568 - accuracy: 0.5481 - val_loss: 1.6841 - val_accuracy: 0.5662\n",
      "Epoch 117/1000\n",
      "41/41 [==============================] - 0s 1ms/step - loss: 1.5550 - accuracy: 0.5574 - val_loss: 1.6815 - val_accuracy: 0.5723\n",
      "Epoch 118/1000\n",
      "41/41 [==============================] - 0s 1ms/step - loss: 1.5591 - accuracy: 0.5435 - val_loss: 1.6754 - val_accuracy: 0.5723\n",
      "Epoch 119/1000\n",
      "41/41 [==============================] - 0s 1ms/step - loss: 1.5386 - accuracy: 0.5581 - val_loss: 1.6718 - val_accuracy: 0.5692\n",
      "Epoch 120/1000\n",
      "41/41 [==============================] - 0s 1ms/step - loss: 1.5456 - accuracy: 0.5620 - val_loss: 1.6715 - val_accuracy: 0.5754\n",
      "Epoch 121/1000\n",
      "41/41 [==============================] - 0s 1ms/step - loss: 1.5375 - accuracy: 0.5520 - val_loss: 1.6691 - val_accuracy: 0.5785\n",
      "Epoch 122/1000\n",
      "41/41 [==============================] - 0s 1ms/step - loss: 1.5514 - accuracy: 0.5550 - val_loss: 1.6681 - val_accuracy: 0.5754\n",
      "Epoch 123/1000\n",
      "41/41 [==============================] - 0s 1ms/step - loss: 1.5268 - accuracy: 0.5758 - val_loss: 1.6693 - val_accuracy: 0.5785\n",
      "Epoch 124/1000\n",
      "41/41 [==============================] - 0s 1ms/step - loss: 1.5224 - accuracy: 0.5481 - val_loss: 1.6619 - val_accuracy: 0.5723\n",
      "Epoch 125/1000\n",
      "41/41 [==============================] - 0s 1ms/step - loss: 1.5144 - accuracy: 0.5735 - val_loss: 1.6651 - val_accuracy: 0.5754\n",
      "Epoch 126/1000\n",
      "41/41 [==============================] - 0s 1ms/step - loss: 1.5408 - accuracy: 0.5458 - val_loss: 1.6619 - val_accuracy: 0.5815\n",
      "Epoch 127/1000\n",
      "41/41 [==============================] - 0s 1ms/step - loss: 1.5236 - accuracy: 0.5643 - val_loss: 1.6572 - val_accuracy: 0.5754\n",
      "Epoch 128/1000\n",
      "41/41 [==============================] - 0s 1ms/step - loss: 1.5305 - accuracy: 0.5597 - val_loss: 1.6554 - val_accuracy: 0.5754\n",
      "Epoch 129/1000\n",
      "41/41 [==============================] - 0s 1ms/step - loss: 1.5080 - accuracy: 0.5689 - val_loss: 1.6527 - val_accuracy: 0.5785\n",
      "Epoch 130/1000\n",
      "41/41 [==============================] - 0s 1ms/step - loss: 1.5130 - accuracy: 0.5620 - val_loss: 1.6538 - val_accuracy: 0.5754\n",
      "Epoch 131/1000\n",
      "41/41 [==============================] - 0s 1ms/step - loss: 1.5004 - accuracy: 0.5520 - val_loss: 1.6514 - val_accuracy: 0.5815\n",
      "Epoch 132/1000\n",
      "41/41 [==============================] - 0s 1ms/step - loss: 1.4829 - accuracy: 0.5704 - val_loss: 1.6453 - val_accuracy: 0.5754\n",
      "Epoch 133/1000\n",
      "41/41 [==============================] - 0s 1ms/step - loss: 1.5005 - accuracy: 0.5620 - val_loss: 1.6529 - val_accuracy: 0.5877\n",
      "Epoch 134/1000\n",
      "41/41 [==============================] - 0s 1ms/step - loss: 1.4747 - accuracy: 0.5781 - val_loss: 1.6453 - val_accuracy: 0.5785\n",
      "Epoch 135/1000\n",
      "41/41 [==============================] - 0s 1ms/step - loss: 1.4727 - accuracy: 0.5789 - val_loss: 1.6432 - val_accuracy: 0.5815\n",
      "Epoch 136/1000\n",
      "41/41 [==============================] - 0s 1ms/step - loss: 1.4828 - accuracy: 0.5712 - val_loss: 1.6400 - val_accuracy: 0.5785\n",
      "Epoch 137/1000\n",
      "41/41 [==============================] - 0s 1ms/step - loss: 1.4790 - accuracy: 0.5612 - val_loss: 1.6393 - val_accuracy: 0.5815\n",
      "Epoch 138/1000\n",
      "41/41 [==============================] - 0s 1ms/step - loss: 1.4833 - accuracy: 0.5812 - val_loss: 1.6354 - val_accuracy: 0.5754\n",
      "Epoch 139/1000\n",
      "41/41 [==============================] - 0s 1ms/step - loss: 1.4975 - accuracy: 0.5643 - val_loss: 1.6343 - val_accuracy: 0.5785\n",
      "Epoch 140/1000\n",
      "41/41 [==============================] - 0s 1ms/step - loss: 1.4520 - accuracy: 0.5766 - val_loss: 1.6345 - val_accuracy: 0.5846\n",
      "Epoch 141/1000\n",
      "41/41 [==============================] - 0s 1ms/step - loss: 1.4744 - accuracy: 0.5812 - val_loss: 1.6313 - val_accuracy: 0.5785\n",
      "Epoch 142/1000\n",
      "41/41 [==============================] - 0s 1ms/step - loss: 1.4459 - accuracy: 0.5897 - val_loss: 1.6305 - val_accuracy: 0.5785\n",
      "Epoch 143/1000\n",
      "41/41 [==============================] - 0s 1ms/step - loss: 1.4715 - accuracy: 0.5758 - val_loss: 1.6283 - val_accuracy: 0.5846\n",
      "Epoch 144/1000\n",
      "41/41 [==============================] - 0s 1ms/step - loss: 1.4605 - accuracy: 0.5804 - val_loss: 1.6236 - val_accuracy: 0.5877\n",
      "Epoch 145/1000\n",
      "41/41 [==============================] - 0s 1ms/step - loss: 1.4754 - accuracy: 0.5758 - val_loss: 1.6256 - val_accuracy: 0.5815\n",
      "Epoch 146/1000\n",
      "41/41 [==============================] - 0s 1ms/step - loss: 1.4656 - accuracy: 0.5574 - val_loss: 1.6240 - val_accuracy: 0.5785\n",
      "Epoch 147/1000\n",
      "41/41 [==============================] - 0s 1ms/step - loss: 1.4664 - accuracy: 0.5751 - val_loss: 1.6256 - val_accuracy: 0.5846\n",
      "Epoch 148/1000\n",
      "41/41 [==============================] - 0s 1ms/step - loss: 1.4459 - accuracy: 0.5743 - val_loss: 1.6226 - val_accuracy: 0.5846\n",
      "Epoch 149/1000\n",
      "41/41 [==============================] - 0s 1ms/step - loss: 1.4593 - accuracy: 0.5781 - val_loss: 1.6188 - val_accuracy: 0.5877\n",
      "Epoch 150/1000\n",
      "41/41 [==============================] - 0s 1ms/step - loss: 1.4527 - accuracy: 0.5828 - val_loss: 1.6152 - val_accuracy: 0.5908\n",
      "Epoch 151/1000\n",
      "41/41 [==============================] - 0s 1ms/step - loss: 1.4439 - accuracy: 0.5789 - val_loss: 1.6147 - val_accuracy: 0.5877\n",
      "Epoch 152/1000\n",
      "41/41 [==============================] - 0s 1ms/step - loss: 1.4338 - accuracy: 0.5751 - val_loss: 1.6111 - val_accuracy: 0.5846\n",
      "Epoch 153/1000\n",
      "41/41 [==============================] - 0s 1ms/step - loss: 1.4325 - accuracy: 0.5905 - val_loss: 1.6149 - val_accuracy: 0.5846\n",
      "Epoch 154/1000\n",
      "41/41 [==============================] - 0s 1ms/step - loss: 1.4363 - accuracy: 0.5789 - val_loss: 1.6127 - val_accuracy: 0.5815\n",
      "Epoch 155/1000\n",
      "41/41 [==============================] - 0s 1ms/step - loss: 1.4352 - accuracy: 0.5851 - val_loss: 1.6085 - val_accuracy: 0.5877\n",
      "Epoch 156/1000\n",
      "41/41 [==============================] - 0s 1ms/step - loss: 1.4245 - accuracy: 0.5766 - val_loss: 1.6078 - val_accuracy: 0.5877\n",
      "Epoch 157/1000\n",
      "41/41 [==============================] - 0s 1ms/step - loss: 1.4229 - accuracy: 0.5851 - val_loss: 1.6090 - val_accuracy: 0.5815\n",
      "Epoch 158/1000\n",
      "41/41 [==============================] - 0s 1ms/step - loss: 1.4119 - accuracy: 0.5920 - val_loss: 1.6085 - val_accuracy: 0.5846\n",
      "Epoch 159/1000\n",
      "41/41 [==============================] - 0s 1ms/step - loss: 1.4112 - accuracy: 0.5920 - val_loss: 1.6066 - val_accuracy: 0.5908\n",
      "Epoch 160/1000\n",
      "41/41 [==============================] - 0s 1ms/step - loss: 1.4114 - accuracy: 0.5835 - val_loss: 1.6030 - val_accuracy: 0.5846\n",
      "Epoch 161/1000\n",
      "41/41 [==============================] - 0s 1ms/step - loss: 1.4036 - accuracy: 0.6112 - val_loss: 1.6008 - val_accuracy: 0.5969\n",
      "Epoch 162/1000\n",
      "41/41 [==============================] - 0s 1ms/step - loss: 1.4201 - accuracy: 0.5928 - val_loss: 1.5978 - val_accuracy: 0.5908\n",
      "Epoch 163/1000\n",
      "41/41 [==============================] - 0s 1ms/step - loss: 1.4213 - accuracy: 0.5851 - val_loss: 1.6014 - val_accuracy: 0.5908\n",
      "Epoch 164/1000\n",
      "41/41 [==============================] - 0s 1ms/step - loss: 1.4110 - accuracy: 0.5912 - val_loss: 1.6005 - val_accuracy: 0.5938\n",
      "Epoch 165/1000\n",
      "41/41 [==============================] - 0s 1ms/step - loss: 1.4001 - accuracy: 0.5797 - val_loss: 1.5994 - val_accuracy: 0.5815\n",
      "Epoch 166/1000\n",
      "41/41 [==============================] - 0s 1ms/step - loss: 1.3997 - accuracy: 0.5943 - val_loss: 1.5994 - val_accuracy: 0.5938\n",
      "Epoch 167/1000\n",
      "41/41 [==============================] - 0s 1ms/step - loss: 1.3981 - accuracy: 0.6028 - val_loss: 1.5979 - val_accuracy: 0.5846\n",
      "Epoch 168/1000\n",
      "41/41 [==============================] - 0s 1ms/step - loss: 1.3923 - accuracy: 0.5912 - val_loss: 1.5970 - val_accuracy: 0.5908\n",
      "Epoch 169/1000\n",
      "41/41 [==============================] - 0s 1ms/step - loss: 1.3782 - accuracy: 0.5989 - val_loss: 1.5928 - val_accuracy: 0.5908\n",
      "Epoch 170/1000\n",
      "41/41 [==============================] - 0s 1ms/step - loss: 1.3782 - accuracy: 0.5943 - val_loss: 1.5941 - val_accuracy: 0.5877\n",
      "Epoch 171/1000\n",
      "41/41 [==============================] - 0s 1ms/step - loss: 1.3900 - accuracy: 0.6059 - val_loss: 1.5901 - val_accuracy: 0.5908\n",
      "Epoch 172/1000\n",
      "41/41 [==============================] - 0s 1ms/step - loss: 1.3672 - accuracy: 0.6197 - val_loss: 1.5874 - val_accuracy: 0.5908\n",
      "Epoch 173/1000\n",
      "41/41 [==============================] - 0s 1ms/step - loss: 1.3844 - accuracy: 0.5966 - val_loss: 1.5874 - val_accuracy: 0.5969\n",
      "Epoch 174/1000\n",
      "41/41 [==============================] - 0s 1ms/step - loss: 1.3751 - accuracy: 0.6043 - val_loss: 1.5887 - val_accuracy: 0.5877\n",
      "Epoch 175/1000\n",
      "41/41 [==============================] - 0s 1ms/step - loss: 1.3751 - accuracy: 0.6035 - val_loss: 1.5883 - val_accuracy: 0.5969\n",
      "Epoch 176/1000\n",
      "41/41 [==============================] - 0s 1ms/step - loss: 1.3747 - accuracy: 0.6028 - val_loss: 1.5883 - val_accuracy: 0.5908\n",
      "Epoch 177/1000\n",
      "41/41 [==============================] - 0s 1ms/step - loss: 1.3850 - accuracy: 0.5974 - val_loss: 1.5880 - val_accuracy: 0.5938\n",
      "Epoch 178/1000\n",
      "41/41 [==============================] - 0s 1ms/step - loss: 1.3785 - accuracy: 0.5935 - val_loss: 1.5841 - val_accuracy: 0.5908\n",
      "Epoch 179/1000\n",
      "41/41 [==============================] - 0s 1ms/step - loss: 1.3683 - accuracy: 0.6051 - val_loss: 1.5824 - val_accuracy: 0.5908\n",
      "Epoch 180/1000\n",
      "41/41 [==============================] - 0s 1ms/step - loss: 1.3787 - accuracy: 0.6028 - val_loss: 1.5852 - val_accuracy: 0.5938\n",
      "Epoch 181/1000\n",
      "41/41 [==============================] - 0s 1ms/step - loss: 1.3851 - accuracy: 0.5974 - val_loss: 1.5840 - val_accuracy: 0.5877\n",
      "Epoch 182/1000\n",
      "41/41 [==============================] - 0s 1ms/step - loss: 1.3930 - accuracy: 0.6005 - val_loss: 1.5769 - val_accuracy: 0.6000\n",
      "Epoch 183/1000\n",
      "41/41 [==============================] - 0s 1ms/step - loss: 1.3580 - accuracy: 0.6043 - val_loss: 1.5782 - val_accuracy: 0.6000\n",
      "Epoch 184/1000\n",
      "41/41 [==============================] - 0s 1ms/step - loss: 1.3633 - accuracy: 0.6035 - val_loss: 1.5811 - val_accuracy: 0.6000\n",
      "Epoch 185/1000\n",
      "41/41 [==============================] - 0s 1ms/step - loss: 1.3622 - accuracy: 0.6082 - val_loss: 1.5777 - val_accuracy: 0.5908\n",
      "Epoch 186/1000\n",
      "41/41 [==============================] - 0s 1ms/step - loss: 1.3663 - accuracy: 0.5989 - val_loss: 1.5721 - val_accuracy: 0.5969\n",
      "Epoch 187/1000\n",
      "41/41 [==============================] - 0s 1ms/step - loss: 1.3723 - accuracy: 0.6051 - val_loss: 1.5744 - val_accuracy: 0.5938\n",
      "Epoch 188/1000\n",
      "41/41 [==============================] - 0s 1ms/step - loss: 1.3549 - accuracy: 0.6112 - val_loss: 1.5768 - val_accuracy: 0.5877\n",
      "Epoch 189/1000\n",
      "41/41 [==============================] - 0s 1ms/step - loss: 1.3488 - accuracy: 0.6105 - val_loss: 1.5777 - val_accuracy: 0.5969\n",
      "Epoch 190/1000\n",
      "41/41 [==============================] - 0s 1ms/step - loss: 1.3559 - accuracy: 0.6182 - val_loss: 1.5722 - val_accuracy: 0.5938\n",
      "Epoch 191/1000\n",
      "41/41 [==============================] - 0s 1ms/step - loss: 1.3521 - accuracy: 0.6028 - val_loss: 1.5738 - val_accuracy: 0.5908\n",
      "Epoch 192/1000\n",
      "41/41 [==============================] - 0s 1ms/step - loss: 1.3500 - accuracy: 0.6035 - val_loss: 1.5729 - val_accuracy: 0.5846\n",
      "Epoch 193/1000\n",
      "41/41 [==============================] - 0s 1ms/step - loss: 1.3575 - accuracy: 0.6051 - val_loss: 1.5727 - val_accuracy: 0.5908\n",
      "Epoch 194/1000\n",
      "41/41 [==============================] - 0s 1ms/step - loss: 1.3419 - accuracy: 0.6143 - val_loss: 1.5707 - val_accuracy: 0.5938\n",
      "Epoch 195/1000\n",
      "41/41 [==============================] - 0s 1ms/step - loss: 1.3302 - accuracy: 0.6166 - val_loss: 1.5688 - val_accuracy: 0.5938\n",
      "Epoch 196/1000\n",
      "41/41 [==============================] - 0s 1ms/step - loss: 1.3444 - accuracy: 0.6143 - val_loss: 1.5681 - val_accuracy: 0.5938\n",
      "Epoch 197/1000\n",
      "41/41 [==============================] - 0s 1ms/step - loss: 1.3498 - accuracy: 0.5974 - val_loss: 1.5695 - val_accuracy: 0.5908\n",
      "Epoch 198/1000\n",
      "41/41 [==============================] - 0s 1ms/step - loss: 1.3397 - accuracy: 0.6197 - val_loss: 1.5643 - val_accuracy: 0.5969\n",
      "Epoch 199/1000\n",
      "41/41 [==============================] - 0s 1ms/step - loss: 1.3355 - accuracy: 0.6097 - val_loss: 1.5646 - val_accuracy: 0.5908\n",
      "Epoch 200/1000\n",
      "41/41 [==============================] - 0s 1ms/step - loss: 1.3284 - accuracy: 0.6128 - val_loss: 1.5680 - val_accuracy: 0.5938\n",
      "Epoch 201/1000\n",
      "41/41 [==============================] - 0s 1ms/step - loss: 1.3346 - accuracy: 0.6089 - val_loss: 1.5653 - val_accuracy: 0.5908\n",
      "Epoch 202/1000\n",
      "41/41 [==============================] - 0s 1ms/step - loss: 1.3319 - accuracy: 0.6189 - val_loss: 1.5688 - val_accuracy: 0.5846\n",
      "Epoch 203/1000\n",
      "41/41 [==============================] - 0s 1ms/step - loss: 1.3133 - accuracy: 0.6351 - val_loss: 1.5627 - val_accuracy: 0.5908\n",
      "Epoch 204/1000\n",
      "41/41 [==============================] - 0s 1ms/step - loss: 1.3279 - accuracy: 0.6205 - val_loss: 1.5620 - val_accuracy: 0.5908\n",
      "Epoch 205/1000\n",
      "41/41 [==============================] - 0s 1ms/step - loss: 1.3249 - accuracy: 0.6012 - val_loss: 1.5615 - val_accuracy: 0.5908\n",
      "Epoch 206/1000\n",
      "41/41 [==============================] - 0s 1ms/step - loss: 1.3061 - accuracy: 0.6266 - val_loss: 1.5634 - val_accuracy: 0.5938\n",
      "Epoch 207/1000\n",
      "41/41 [==============================] - 0s 1ms/step - loss: 1.3193 - accuracy: 0.6274 - val_loss: 1.5596 - val_accuracy: 0.5969\n",
      "Epoch 208/1000\n",
      "41/41 [==============================] - 0s 1ms/step - loss: 1.3211 - accuracy: 0.6197 - val_loss: 1.5591 - val_accuracy: 0.5846\n",
      "Epoch 209/1000\n",
      "41/41 [==============================] - 0s 1ms/step - loss: 1.2999 - accuracy: 0.6212 - val_loss: 1.5589 - val_accuracy: 0.5877\n",
      "Epoch 210/1000\n",
      "41/41 [==============================] - 0s 1ms/step - loss: 1.3153 - accuracy: 0.6174 - val_loss: 1.5552 - val_accuracy: 0.5846\n",
      "Epoch 211/1000\n",
      "41/41 [==============================] - 0s 1ms/step - loss: 1.2854 - accuracy: 0.6289 - val_loss: 1.5563 - val_accuracy: 0.5908\n",
      "Epoch 212/1000\n",
      "41/41 [==============================] - 0s 1ms/step - loss: 1.3053 - accuracy: 0.6251 - val_loss: 1.5556 - val_accuracy: 0.5938\n",
      "Epoch 213/1000\n",
      "41/41 [==============================] - 0s 1ms/step - loss: 1.2990 - accuracy: 0.6289 - val_loss: 1.5545 - val_accuracy: 0.5908\n",
      "Epoch 214/1000\n",
      "41/41 [==============================] - 0s 1ms/step - loss: 1.3047 - accuracy: 0.6228 - val_loss: 1.5590 - val_accuracy: 0.5908\n",
      "Epoch 215/1000\n",
      "41/41 [==============================] - 0s 1ms/step - loss: 1.2997 - accuracy: 0.6243 - val_loss: 1.5596 - val_accuracy: 0.5938\n",
      "Epoch 216/1000\n",
      "41/41 [==============================] - 0s 1ms/step - loss: 1.2890 - accuracy: 0.6313 - val_loss: 1.5558 - val_accuracy: 0.5846\n",
      "Epoch 217/1000\n",
      "41/41 [==============================] - 0s 1ms/step - loss: 1.3076 - accuracy: 0.6151 - val_loss: 1.5534 - val_accuracy: 0.5846\n",
      "Epoch 218/1000\n",
      "41/41 [==============================] - 0s 1ms/step - loss: 1.3005 - accuracy: 0.6251 - val_loss: 1.5549 - val_accuracy: 0.5815\n",
      "Epoch 219/1000\n",
      "41/41 [==============================] - 0s 1ms/step - loss: 1.2907 - accuracy: 0.6343 - val_loss: 1.5533 - val_accuracy: 0.5938\n",
      "Epoch 220/1000\n",
      "41/41 [==============================] - 0s 1ms/step - loss: 1.2777 - accuracy: 0.6251 - val_loss: 1.5514 - val_accuracy: 0.5815\n",
      "Epoch 221/1000\n",
      "41/41 [==============================] - 0s 1ms/step - loss: 1.2899 - accuracy: 0.6228 - val_loss: 1.5495 - val_accuracy: 0.5908\n",
      "Epoch 222/1000\n",
      "41/41 [==============================] - 0s 1ms/step - loss: 1.2779 - accuracy: 0.6436 - val_loss: 1.5549 - val_accuracy: 0.5846\n",
      "Epoch 223/1000\n",
      "41/41 [==============================] - 0s 1ms/step - loss: 1.2746 - accuracy: 0.6351 - val_loss: 1.5487 - val_accuracy: 0.5877\n",
      "Epoch 224/1000\n",
      "41/41 [==============================] - 0s 1ms/step - loss: 1.2954 - accuracy: 0.6236 - val_loss: 1.5513 - val_accuracy: 0.5846\n",
      "Epoch 225/1000\n",
      "41/41 [==============================] - 0s 1ms/step - loss: 1.2979 - accuracy: 0.6482 - val_loss: 1.5496 - val_accuracy: 0.5908\n",
      "Epoch 226/1000\n",
      "41/41 [==============================] - 0s 1ms/step - loss: 1.2840 - accuracy: 0.6243 - val_loss: 1.5528 - val_accuracy: 0.5877\n",
      "Epoch 227/1000\n",
      "41/41 [==============================] - 0s 1ms/step - loss: 1.2836 - accuracy: 0.6382 - val_loss: 1.5444 - val_accuracy: 0.5938\n",
      "Epoch 228/1000\n",
      "41/41 [==============================] - 0s 1ms/step - loss: 1.2650 - accuracy: 0.6390 - val_loss: 1.5509 - val_accuracy: 0.5969\n",
      "Epoch 229/1000\n",
      "41/41 [==============================] - 0s 1ms/step - loss: 1.2924 - accuracy: 0.6282 - val_loss: 1.5486 - val_accuracy: 0.5877\n",
      "Epoch 230/1000\n",
      "41/41 [==============================] - 0s 1ms/step - loss: 1.2729 - accuracy: 0.6359 - val_loss: 1.5478 - val_accuracy: 0.5815\n",
      "Epoch 231/1000\n",
      "41/41 [==============================] - 0s 1ms/step - loss: 1.2661 - accuracy: 0.6297 - val_loss: 1.5437 - val_accuracy: 0.5877\n",
      "Epoch 232/1000\n",
      "41/41 [==============================] - 0s 1ms/step - loss: 1.2817 - accuracy: 0.6251 - val_loss: 1.5448 - val_accuracy: 0.5846\n",
      "Epoch 233/1000\n",
      "41/41 [==============================] - 0s 1ms/step - loss: 1.2751 - accuracy: 0.6328 - val_loss: 1.5487 - val_accuracy: 0.5846\n",
      "Epoch 234/1000\n",
      "41/41 [==============================] - 0s 1ms/step - loss: 1.2501 - accuracy: 0.6467 - val_loss: 1.5509 - val_accuracy: 0.5754\n",
      "Epoch 235/1000\n",
      "41/41 [==============================] - 0s 1ms/step - loss: 1.2858 - accuracy: 0.6197 - val_loss: 1.5458 - val_accuracy: 0.5908\n",
      "Epoch 236/1000\n",
      "41/41 [==============================] - 0s 1ms/step - loss: 1.2997 - accuracy: 0.6259 - val_loss: 1.5458 - val_accuracy: 0.5846\n",
      "Epoch 237/1000\n",
      "41/41 [==============================] - 0s 1ms/step - loss: 1.2791 - accuracy: 0.6282 - val_loss: 1.5421 - val_accuracy: 0.5846\n",
      "Epoch 238/1000\n",
      "41/41 [==============================] - 0s 1ms/step - loss: 1.2579 - accuracy: 0.6413 - val_loss: 1.5490 - val_accuracy: 0.5908\n",
      "Epoch 239/1000\n",
      "41/41 [==============================] - 0s 1ms/step - loss: 1.2650 - accuracy: 0.6282 - val_loss: 1.5421 - val_accuracy: 0.5877\n",
      "Epoch 240/1000\n",
      "41/41 [==============================] - 0s 1ms/step - loss: 1.2647 - accuracy: 0.6443 - val_loss: 1.5438 - val_accuracy: 0.5938\n",
      "Epoch 241/1000\n",
      "41/41 [==============================] - 0s 1ms/step - loss: 1.2620 - accuracy: 0.6366 - val_loss: 1.5430 - val_accuracy: 0.5815\n",
      "Epoch 242/1000\n",
      "41/41 [==============================] - 0s 1ms/step - loss: 1.2432 - accuracy: 0.6428 - val_loss: 1.5417 - val_accuracy: 0.5846\n",
      "Epoch 243/1000\n",
      "41/41 [==============================] - 0s 1ms/step - loss: 1.2504 - accuracy: 0.6313 - val_loss: 1.5448 - val_accuracy: 0.5908\n",
      "Epoch 244/1000\n",
      "41/41 [==============================] - 0s 1ms/step - loss: 1.2406 - accuracy: 0.6390 - val_loss: 1.5463 - val_accuracy: 0.5846\n",
      "Epoch 245/1000\n",
      "41/41 [==============================] - 0s 1ms/step - loss: 1.2534 - accuracy: 0.6297 - val_loss: 1.5419 - val_accuracy: 0.5938\n",
      "Epoch 246/1000\n",
      "41/41 [==============================] - 0s 1ms/step - loss: 1.2693 - accuracy: 0.6420 - val_loss: 1.5432 - val_accuracy: 0.5785\n",
      "Epoch 247/1000\n",
      "41/41 [==============================] - 0s 1ms/step - loss: 1.2414 - accuracy: 0.6482 - val_loss: 1.5411 - val_accuracy: 0.5969\n",
      "Epoch 248/1000\n",
      "41/41 [==============================] - 0s 1ms/step - loss: 1.2540 - accuracy: 0.6490 - val_loss: 1.5446 - val_accuracy: 0.5815\n",
      "Epoch 249/1000\n",
      "41/41 [==============================] - 0s 1ms/step - loss: 1.2590 - accuracy: 0.6366 - val_loss: 1.5389 - val_accuracy: 0.5969\n",
      "Epoch 250/1000\n",
      "41/41 [==============================] - 0s 1ms/step - loss: 1.2751 - accuracy: 0.6282 - val_loss: 1.5386 - val_accuracy: 0.5877\n",
      "Epoch 251/1000\n",
      "41/41 [==============================] - 0s 1ms/step - loss: 1.2522 - accuracy: 0.6351 - val_loss: 1.5362 - val_accuracy: 0.5969\n",
      "Epoch 252/1000\n",
      "41/41 [==============================] - 0s 1ms/step - loss: 1.2343 - accuracy: 0.6536 - val_loss: 1.5390 - val_accuracy: 0.5877\n",
      "Epoch 253/1000\n",
      "41/41 [==============================] - 0s 1ms/step - loss: 1.2504 - accuracy: 0.6428 - val_loss: 1.5432 - val_accuracy: 0.5815\n",
      "Epoch 254/1000\n",
      "41/41 [==============================] - 0s 1ms/step - loss: 1.2423 - accuracy: 0.6413 - val_loss: 1.5353 - val_accuracy: 0.5938\n",
      "Epoch 255/1000\n",
      "41/41 [==============================] - 0s 1ms/step - loss: 1.2624 - accuracy: 0.6351 - val_loss: 1.5390 - val_accuracy: 0.5908\n",
      "Epoch 256/1000\n",
      "41/41 [==============================] - 0s 1ms/step - loss: 1.2500 - accuracy: 0.6413 - val_loss: 1.5394 - val_accuracy: 0.5938\n",
      "Epoch 257/1000\n",
      "41/41 [==============================] - 0s 1ms/step - loss: 1.2302 - accuracy: 0.6451 - val_loss: 1.5370 - val_accuracy: 0.5908\n",
      "Epoch 258/1000\n",
      "41/41 [==============================] - 0s 1ms/step - loss: 1.2350 - accuracy: 0.6467 - val_loss: 1.5353 - val_accuracy: 0.5877\n",
      "Epoch 259/1000\n",
      "41/41 [==============================] - 0s 1ms/step - loss: 1.2320 - accuracy: 0.6390 - val_loss: 1.5392 - val_accuracy: 0.5908\n",
      "Epoch 260/1000\n",
      "41/41 [==============================] - 0s 1ms/step - loss: 1.2387 - accuracy: 0.6397 - val_loss: 1.5334 - val_accuracy: 0.5877\n",
      "Epoch 261/1000\n",
      "41/41 [==============================] - 0s 1ms/step - loss: 1.2491 - accuracy: 0.6305 - val_loss: 1.5401 - val_accuracy: 0.5846\n",
      "Epoch 262/1000\n",
      "41/41 [==============================] - 0s 1ms/step - loss: 1.2200 - accuracy: 0.6436 - val_loss: 1.5348 - val_accuracy: 0.5938\n",
      "Epoch 263/1000\n",
      "41/41 [==============================] - 0s 1ms/step - loss: 1.2409 - accuracy: 0.6428 - val_loss: 1.5334 - val_accuracy: 0.5877\n",
      "Epoch 264/1000\n",
      "41/41 [==============================] - 0s 1ms/step - loss: 1.2197 - accuracy: 0.6520 - val_loss: 1.5340 - val_accuracy: 0.5908\n",
      "Epoch 265/1000\n",
      "41/41 [==============================] - 0s 1ms/step - loss: 1.2137 - accuracy: 0.6390 - val_loss: 1.5337 - val_accuracy: 0.5938\n",
      "Epoch 266/1000\n",
      "41/41 [==============================] - 0s 1ms/step - loss: 1.2397 - accuracy: 0.6374 - val_loss: 1.5390 - val_accuracy: 0.5938\n",
      "Epoch 267/1000\n",
      "41/41 [==============================] - 0s 1ms/step - loss: 1.2164 - accuracy: 0.6543 - val_loss: 1.5355 - val_accuracy: 0.5877\n",
      "Epoch 268/1000\n",
      "41/41 [==============================] - 0s 1ms/step - loss: 1.2273 - accuracy: 0.6374 - val_loss: 1.5353 - val_accuracy: 0.5785\n",
      "Epoch 269/1000\n",
      "41/41 [==============================] - 0s 1ms/step - loss: 1.2193 - accuracy: 0.6567 - val_loss: 1.5286 - val_accuracy: 0.5846\n",
      "Epoch 270/1000\n",
      "41/41 [==============================] - 0s 1ms/step - loss: 1.2094 - accuracy: 0.6574 - val_loss: 1.5362 - val_accuracy: 0.5785\n",
      "Epoch 271/1000\n",
      "41/41 [==============================] - 0s 1ms/step - loss: 1.2191 - accuracy: 0.6413 - val_loss: 1.5318 - val_accuracy: 0.5938\n",
      "Epoch 272/1000\n",
      "41/41 [==============================] - 0s 1ms/step - loss: 1.2020 - accuracy: 0.6574 - val_loss: 1.5338 - val_accuracy: 0.5908\n",
      "Epoch 273/1000\n",
      "41/41 [==============================] - 0s 1ms/step - loss: 1.2078 - accuracy: 0.6351 - val_loss: 1.5280 - val_accuracy: 0.5969\n",
      "Epoch 274/1000\n",
      "41/41 [==============================] - 0s 1ms/step - loss: 1.2107 - accuracy: 0.6474 - val_loss: 1.5338 - val_accuracy: 0.6031\n",
      "Epoch 275/1000\n",
      "41/41 [==============================] - 0s 1ms/step - loss: 1.2051 - accuracy: 0.6520 - val_loss: 1.5383 - val_accuracy: 0.5815\n",
      "Epoch 276/1000\n",
      "41/41 [==============================] - 0s 1ms/step - loss: 1.2040 - accuracy: 0.6520 - val_loss: 1.5334 - val_accuracy: 0.5908\n",
      "Epoch 277/1000\n",
      "41/41 [==============================] - 0s 1ms/step - loss: 1.2103 - accuracy: 0.6474 - val_loss: 1.5310 - val_accuracy: 0.5908\n",
      "Epoch 278/1000\n",
      "41/41 [==============================] - 0s 1ms/step - loss: 1.2049 - accuracy: 0.6459 - val_loss: 1.5360 - val_accuracy: 0.5846\n",
      "Epoch 279/1000\n",
      "41/41 [==============================] - 0s 1ms/step - loss: 1.2217 - accuracy: 0.6374 - val_loss: 1.5335 - val_accuracy: 0.5877\n",
      "Epoch 280/1000\n",
      "41/41 [==============================] - 0s 1ms/step - loss: 1.1976 - accuracy: 0.6567 - val_loss: 1.5285 - val_accuracy: 0.5877\n",
      "Epoch 281/1000\n",
      "41/41 [==============================] - 0s 1ms/step - loss: 1.2054 - accuracy: 0.6559 - val_loss: 1.5276 - val_accuracy: 0.5877\n",
      "Epoch 282/1000\n",
      "41/41 [==============================] - 0s 1ms/step - loss: 1.2024 - accuracy: 0.6559 - val_loss: 1.5362 - val_accuracy: 0.5846\n",
      "Epoch 283/1000\n",
      "41/41 [==============================] - 0s 1ms/step - loss: 1.2174 - accuracy: 0.6451 - val_loss: 1.5339 - val_accuracy: 0.5877\n",
      "Epoch 284/1000\n",
      "41/41 [==============================] - 0s 1ms/step - loss: 1.1973 - accuracy: 0.6459 - val_loss: 1.5273 - val_accuracy: 0.5846\n",
      "Epoch 285/1000\n",
      "41/41 [==============================] - 0s 1ms/step - loss: 1.2184 - accuracy: 0.6467 - val_loss: 1.5298 - val_accuracy: 0.5846\n",
      "Epoch 286/1000\n",
      "41/41 [==============================] - 0s 1ms/step - loss: 1.2097 - accuracy: 0.6443 - val_loss: 1.5251 - val_accuracy: 0.5938\n",
      "Epoch 287/1000\n",
      "41/41 [==============================] - 0s 1ms/step - loss: 1.1977 - accuracy: 0.6559 - val_loss: 1.5306 - val_accuracy: 0.5938\n",
      "Epoch 288/1000\n",
      "41/41 [==============================] - 0s 1ms/step - loss: 1.2102 - accuracy: 0.6497 - val_loss: 1.5316 - val_accuracy: 0.5969\n",
      "Epoch 289/1000\n",
      "41/41 [==============================] - 0s 1ms/step - loss: 1.1930 - accuracy: 0.6528 - val_loss: 1.5312 - val_accuracy: 0.5877\n",
      "Epoch 290/1000\n",
      "41/41 [==============================] - 0s 1ms/step - loss: 1.2013 - accuracy: 0.6397 - val_loss: 1.5258 - val_accuracy: 0.5846\n",
      "Epoch 291/1000\n",
      "41/41 [==============================] - 0s 1ms/step - loss: 1.1823 - accuracy: 0.6628 - val_loss: 1.5306 - val_accuracy: 0.5938\n",
      "Epoch 292/1000\n",
      "41/41 [==============================] - 0s 1ms/step - loss: 1.1961 - accuracy: 0.6590 - val_loss: 1.5311 - val_accuracy: 0.5877\n",
      "Epoch 293/1000\n",
      "41/41 [==============================] - 0s 1ms/step - loss: 1.1921 - accuracy: 0.6590 - val_loss: 1.5336 - val_accuracy: 0.5877\n",
      "Epoch 294/1000\n",
      "41/41 [==============================] - 0s 1ms/step - loss: 1.1912 - accuracy: 0.6567 - val_loss: 1.5302 - val_accuracy: 0.5877\n",
      "Epoch 295/1000\n",
      "41/41 [==============================] - 0s 1ms/step - loss: 1.1986 - accuracy: 0.6605 - val_loss: 1.5325 - val_accuracy: 0.5908\n",
      "Epoch 296/1000\n",
      "41/41 [==============================] - 0s 1ms/step - loss: 1.2106 - accuracy: 0.6528 - val_loss: 1.5299 - val_accuracy: 0.5938\n"
     ]
    }
   ],
   "source": [
    "class_report, cf_matrix, history = test_model(g2v_dataset, labels, np.unique(labels_str))"
   ],
   "metadata": {
    "collapsed": false,
    "pycharm": {
     "name": "#%%\n"
    }
   }
  },
  {
   "cell_type": "code",
   "execution_count": 146,
   "outputs": [
    {
     "data": {
      "text/plain": "<Figure size 720x288 with 2 Axes>",
      "image/png": "[encoded data removed]"
     },
     "metadata": {
      "needs_background": "light"
     },
     "output_type": "display_data"
    }
   ],
   "source": [
    "plot_history(history)"
   ],
   "metadata": {
    "collapsed": false,
    "pycharm": {
     "name": "#%%\n"
    }
   }
  },
  {
   "cell_type": "code",
   "execution_count": 147,
   "outputs": [
    {
     "name": "stdout",
     "output_type": "stream",
     "text": [
      "Classification report\n",
      "              precision    recall  f1-score   support\n",
      "\n",
      "          AT       0.61      0.74      0.67        23\n",
      "          BG       0.50      0.58      0.54        24\n",
      "          CH       0.43      0.36      0.39        28\n",
      "          CZ       0.38      0.36      0.37        25\n",
      "          DE       0.73      0.52      0.60        31\n",
      "          DK       0.39      0.79      0.53        19\n",
      "          ES       0.65      0.68      0.67        22\n",
      "          FR       0.43      0.30      0.35        20\n",
      "          HU       0.46      0.52      0.49        21\n",
      "          IE       0.61      0.61      0.61        18\n",
      "          IT       0.23      0.32      0.27        19\n",
      "          MK       0.76      0.55      0.64        29\n",
      "          PL       0.70      0.80      0.74        20\n",
      "          PT       0.84      0.76      0.80        34\n",
      "          RO       0.68      0.62      0.65        24\n",
      "          SI       0.52      0.70      0.60        20\n",
      "          SK       0.50      0.24      0.33        29\n",
      "\n",
      "    accuracy                           0.55       406\n",
      "   macro avg       0.55      0.56      0.54       406\n",
      "weighted avg       0.57      0.55      0.55       406\n",
      "\n"
     ]
    }
   ],
   "source": [
    "print(\"Classification report\")\n",
    "print(class_report)"
   ],
   "metadata": {
    "collapsed": false,
    "pycharm": {
     "name": "#%%\n"
    }
   }
  },
  {
   "cell_type": "code",
   "execution_count": 148,
   "outputs": [
    {
     "name": "stdout",
     "output_type": "stream",
     "text": [
      "Confusion matrix\n"
     ]
    },
    {
     "data": {
      "text/plain": "<Figure size 576x576 with 2 Axes>",
      "image/png": "[encoded data removed]"
     },
     "metadata": {
      "needs_background": "light"
     },
     "output_type": "display_data"
    }
   ],
   "source": [
    "print(\"Confusion matrix\")\n",
    "cf_display = ConfusionMatrixDisplay(cf_matrix, display_labels=np.unique(labels_str))\n",
    "f, ax = plt.subplots(figsize=(8, 8))\n",
    "cf_display.plot(ax=ax)\n",
    "plt.show()"
   ],
   "metadata": {
    "collapsed": false,
    "pycharm": {
     "name": "#%%\n"
    }
   }
  },
  {
   "cell_type": "markdown",
   "source": [
    "On remarque qu'il y a des confusions entre les pays de même région, en particulier les pays de l'est.\n",
    "\n",
    "La France semble très difficile à identifier, ce qui semble relativement normal étant donné sa diversité.\n"
   ],
   "metadata": {
    "collapsed": false
   }
  },
  {
   "cell_type": "markdown",
   "source": [
    "Possibilités :\n",
    "\n",
    "- regrouper les pays trop proches (notamment les pays de l'Est)\n",
    "- faire une classification par région"
   ],
   "metadata": {
    "collapsed": false
   }
  },
  {
   "cell_type": "markdown",
   "source": [
    "### Hyperparameters tuning\n",
    "\n",
    "https://colab.research.google.com/drive/1dTVFtliuFPoOu4hVqlOVYqVD899qfA9K?usp=sharing"
   ],
   "metadata": {
    "collapsed": false,
    "pycharm": {
     "name": "#%% md\n"
    }
   }
  }
 ],
 "metadata": {
  "kernelspec": {
   "display_name": "Python 3 (ipykernel)",
   "language": "python",
   "name": "python3"
  },
  "language_info": {
   "codemirror_mode": {
    "name": "ipython",
    "version": 3
   },
   "file_extension": ".py",
   "mimetype": "text/x-python",
   "name": "python",
   "nbconvert_exporter": "python",
   "pygments_lexer": "ipython3",
   "version": "3.8.12"
  }
 },
 "nbformat": 4,
 "nbformat_minor": 1
}
