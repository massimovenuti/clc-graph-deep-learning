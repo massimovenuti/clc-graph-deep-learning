{
 "cells": [
  {
   "cell_type": "markdown",
   "source": [
    "# Classification de graphes"
   ],
   "metadata": {
    "collapsed": false
   }
  },
  {
   "cell_type": "code",
   "execution_count": 1,
   "outputs": [],
   "source": [
    "import geopandas as gpd\n",
    "import pandas as pd\n",
    "import numpy as np\n",
    "import matplotlib.pyplot as plt\n",
    "import shapely\n",
    "import networkx as nx\n",
    "import os\n",
    "import karateclub as kc\n",
    "import copy"
   ],
   "metadata": {
    "collapsed": false,
    "pycharm": {
     "name": "#%%\n"
    }
   }
  },
  {
   "cell_type": "markdown",
   "source": [
    "## Construction des graphes pour la classification de graphes\n",
    "\n",
    "## Prétraitement des données"
   ],
   "metadata": {
    "collapsed": false
   }
  },
  {
   "cell_type": "code",
   "execution_count": 2,
   "outputs": [],
   "source": [
    "def preprocessing(gdf, commune, rm_residual_areas=True, object_prop_th=0.50, total_prop_th=0.01):\n",
    "    assert len(gdf) != 0\n",
    "    # todo : gérer les nodata\n",
    "    gdf = gdf.clip(commune[\"geometry\"])\n",
    "\n",
    "    gdf[\"total_area\"] = gdf.area\n",
    "    gdf = gdf.drop(\"Area_Ha\", axis=\"columns\")\n",
    "\n",
    "    gdf = gdf.explode(index_parts=False)\n",
    "    gdf[\"object_proportion\"] = gdf.area / gdf[\"total_area\"]\n",
    "    gdf[\"total_proportion\"] = gdf.area / gdf.area.sum()\n",
    "\n",
    "    if rm_residual_areas is True:\n",
    "        gdf = gdf[(gdf[\"object_proportion\"] >= object_prop_th) | (gdf[\"total_proportion\"] >= total_prop_th)]\n",
    "\n",
    "    gdf['Node_ID'] = range(len(gdf))  # pour simplifier la création des graphes\n",
    "    gdf['Code_18'] = gdf['Code_18'].astype(str)\n",
    "\n",
    "    return gdf"
   ],
   "metadata": {
    "collapsed": false,
    "pycharm": {
     "name": "#%%\n"
    }
   }
  },
  {
   "cell_type": "markdown",
   "source": [
    "### Calcul du voisinage"
   ],
   "metadata": {
    "collapsed": false
   }
  },
  {
   "cell_type": "code",
   "execution_count": 3,
   "outputs": [],
   "source": [
    "def preprocess_border(border):\n",
    "    if border.geom_type == \"MultiLineString\":\n",
    "        # plusieurs frontières\n",
    "        border = shapely.ops.linemerge(border)\n",
    "    return border\n",
    "\n",
    "\n",
    "def calc_borders(area, neighbors):\n",
    "    borders_info = {\"total_border\": [], \"greatest_border\": [], \"nb_borders\": []}\n",
    "    borders = neighbors.geometry.intersection(area.geometry)\n",
    "    for border in borders:\n",
    "        border = preprocess_border(border)\n",
    "        if border.geom_type == \"MultiLineString\":\n",
    "            lengths = gpd.GeoSeries(border.geoms).length\n",
    "            borders_info[\"total_border\"].append(lengths.sum())\n",
    "            borders_info[\"greatest_border\"].append(max(lengths))\n",
    "            borders_info[\"nb_borders\"].append(len(lengths))\n",
    "        else:\n",
    "            length = border.length\n",
    "            borders_info[\"total_border\"].append(length)\n",
    "            borders_info[\"greatest_border\"].append(length)\n",
    "            borders_info[\"nb_borders\"].append(1)\n",
    "    return borders_info\n",
    "\n",
    "\n",
    "def calc_neighbors(gdf):\n",
    "    neighbors_dict = {\"src\": [], \"dest\": [], \"total_border\": [], \"greatest_border\": [], \"nb_borders\": []}\n",
    "\n",
    "    for index, area in gdf.iterrows():\n",
    "        neighbors = gdf[gdf.geometry.touches(area.geometry)]\n",
    "        neighbors = neighbors[~neighbors['Node_ID'].isin(neighbors_dict['src'])]\n",
    "\n",
    "        dest = neighbors['Node_ID'].tolist()\n",
    "        src = [area['Node_ID']] * neighbors.shape[0]\n",
    "\n",
    "        borders = calc_borders(area, neighbors)\n",
    "\n",
    "        neighbors_dict[\"src\"].extend(src)\n",
    "        neighbors_dict[\"dest\"].extend(dest)\n",
    "        neighbors_dict[\"total_border\"].extend(borders[\"total_border\"])\n",
    "        neighbors_dict[\"greatest_border\"].extend(borders[\"greatest_border\"])\n",
    "        neighbors_dict[\"nb_borders\"].extend(borders[\"nb_borders\"])\n",
    "\n",
    "    return neighbors_dict"
   ],
   "metadata": {
    "collapsed": false,
    "pycharm": {
     "name": "#%%\n"
    }
   }
  },
  {
   "cell_type": "markdown",
   "source": [
    "### Génération des données des graphes"
   ],
   "metadata": {
    "collapsed": false
   }
  },
  {
   "cell_type": "code",
   "execution_count": 4,
   "outputs": [],
   "source": [
    "def generate_graph_data(data_path, communes_path):\n",
    "    graph_properties_dict = {\"graph_id\": [], \"num_nodes\": []}\n",
    "    graph_nodes_dict = {\"graph_id\": [], \"node_id\": [], \"label\": []}\n",
    "    graph_edges_dict = {\"graph_id\": [], \"src\": [], \"dest\": [], \"total_border\": [], \"greatest_border\": [],\n",
    "                        \"nb_borders\": []}\n",
    "\n",
    "    communes = gpd.read_file(communes_path)\n",
    "\n",
    "    l = len(communes)\n",
    "    step = int(l * 0.05)\n",
    "    print(f\"Number of instances : {l}\")\n",
    "    i = 1\n",
    "\n",
    "    for _, commune in communes.iterrows():\n",
    "        if i % step == 1:\n",
    "            print(f\"{int((i / l) * 100)}%\", end=\"...\")\n",
    "\n",
    "        gdf = preprocessing(gpd.read_file(data_path, mask=commune['geometry']), commune)\n",
    "\n",
    "        neighbors = calc_neighbors(gdf)\n",
    "\n",
    "        graph_properties_dict[\"graph_id\"].append(commune['COMM_ID'])\n",
    "        graph_properties_dict[\"num_nodes\"].append(len(gdf))\n",
    "\n",
    "        graph_nodes_dict[\"graph_id\"].extend([commune['COMM_ID']] * len(gdf))\n",
    "        graph_nodes_dict[\"node_id\"].extend(gdf[\"Node_ID\"])\n",
    "        graph_nodes_dict[\"label\"].extend(gdf[\"Code_18\"])\n",
    "\n",
    "        graph_edges_dict[\"src\"].extend(neighbors[\"src\"])\n",
    "        graph_edges_dict[\"dest\"].extend(neighbors[\"dest\"])\n",
    "        graph_edges_dict[\"total_border\"].extend(neighbors[\"total_border\"])\n",
    "        graph_edges_dict[\"greatest_border\"].extend(neighbors[\"greatest_border\"])\n",
    "        graph_edges_dict[\"nb_borders\"].extend(neighbors[\"nb_borders\"])\n",
    "        graph_edges_dict[\"graph_id\"].extend([commune['COMM_ID']] * len(neighbors[\"src\"]))\n",
    "\n",
    "        i = i + 1\n",
    "\n",
    "    print(\"100%\")\n",
    "\n",
    "    graph_properties_df = pd.DataFrame(graph_properties_dict)\n",
    "    graph_nodes_df = pd.DataFrame(graph_nodes_dict)\n",
    "    graph_edges_df = pd.DataFrame(graph_edges_dict)\n",
    "\n",
    "    return graph_properties_df, graph_nodes_df, graph_edges_df"
   ],
   "metadata": {
    "collapsed": false,
    "pycharm": {
     "name": "#%%\n"
    }
   }
  },
  {
   "cell_type": "code",
   "execution_count": 5,
   "outputs": [],
   "source": [
    "clc_path = \"../data/raw_data/clc/u2018_clc2018_v2020_20u1_geoPackage/DATA/U2018_CLC2018_V2020_20u1.gpkg\"\n",
    "communes_dir = \"../data/communes/comm_17_1800\"\n",
    "communes_path = os.path.join(communes_dir, \"communes.gpkg\")"
   ],
   "metadata": {
    "collapsed": false,
    "pycharm": {
     "name": "#%%\n"
    }
   }
  },
  {
   "cell_type": "code",
   "execution_count": 9,
   "outputs": [
    {
     "name": "stdout",
     "output_type": "stream",
     "text": [
      "Number of instances : 30600\n",
      "0%...5%...10%...15%...20%...25%...30%...35%...40%...45%...50%...55%...60%...65%...70%...75%...80%...85%...90%...95%...100%\n"
     ]
    }
   ],
   "source": [
    "graph_properties, graph_nodes, graph_edges = generate_graph_data(clc_path, communes_path)\n",
    "\n",
    "graph_properties[\"label\"] = graph_properties[\"graph_id\"].str[:2].astype('category').cat.codes\n",
    "\n",
    "graph_properties.to_csv(os.path.join(communes_dir, \"graph_properties.csv\"))\n",
    "graph_nodes.to_csv(os.path.join(communes_dir, \"graph_nodes.csv\"))\n",
    "graph_edges.to_csv(os.path.join(communes_dir, \"graph_edges.csv\"))"
   ],
   "metadata": {
    "collapsed": false,
    "pycharm": {
     "name": "#%%\n"
    }
   }
  },
  {
   "cell_type": "markdown",
   "source": [
    "### Quelques statistiques"
   ],
   "metadata": {
    "collapsed": false
   }
  },
  {
   "cell_type": "code",
   "execution_count": 6,
   "outputs": [],
   "source": [
    "graph_properties = pd.read_csv(os.path.join(communes_dir, \"graph_properties.csv\"))\n",
    "graph_nodes = pd.read_csv(os.path.join(communes_dir, \"graph_nodes.csv\"))\n",
    "graph_edges = pd.read_csv(os.path.join(communes_dir, \"graph_edges.csv\"))"
   ],
   "metadata": {
    "collapsed": false,
    "pycharm": {
     "name": "#%%\n"
    }
   }
  },
  {
   "cell_type": "code",
   "execution_count": 7,
   "outputs": [],
   "source": [
    "# nombre d'instances\n",
    "instances = len(graph_properties)\n",
    "# nombre de classes\n",
    "classes = len(graph_properties['label'].astype('category').cat.categories)\n",
    "# nombre de noeuds en moyenne\n",
    "nodes_groups_sizes = graph_nodes.groupby('graph_id').size()\n",
    "min_nodes = np.round(nodes_groups_sizes.min(), 2)\n",
    "mean_nodes = np.round(nodes_groups_sizes.mean(), 2)\n",
    "max_nodes = np.round(nodes_groups_sizes.max(), 2)\n",
    "# nombre d'arcs en moyenne\n",
    "edges_groups_sizes = graph_edges.groupby('graph_id').size()\n",
    "min_edges = np.round(edges_groups_sizes.min(), 2)\n",
    "mean_edges = np.round(edges_groups_sizes.mean(), 2)\n",
    "max_edges = np.round(edges_groups_sizes.max(), 2)\n",
    "# nombre de labels distincts\n",
    "labels = len(graph_nodes['label'].astype('category').cat.categories)"
   ],
   "metadata": {
    "collapsed": false,
    "pycharm": {
     "name": "#%%\n"
    }
   }
  },
  {
   "cell_type": "code",
   "execution_count": 8,
   "outputs": [
    {
     "name": "stdout",
     "output_type": "stream",
     "text": [
      "# instances : 30600\n",
      "# classes : 17\n",
      "# nodes (min.) : 1\n",
      "# nodes (avg.) : 25.22\n",
      "# nodes (max.) : 597\n",
      "# edges (min.) : 1\n",
      "# edges (avg.) : 45.45\n",
      "# edges (max.) : 1410\n",
      "# distinct node labels : 44\n"
     ]
    }
   ],
   "source": [
    "print(f\"# instances : {instances}\")\n",
    "print(f\"# classes : {classes}\")\n",
    "print(f\"# nodes (min.) : {min_nodes}\")\n",
    "print(f\"# nodes (avg.) : {mean_nodes}\")\n",
    "print(f\"# nodes (max.) : {max_nodes}\")\n",
    "print(f\"# edges (min.) : {min_edges}\")\n",
    "print(f\"# edges (avg.) : {mean_edges}\")\n",
    "print(f\"# edges (max.) : {max_edges}\")\n",
    "print(f\"# distinct node labels : {labels}\")"
   ],
   "metadata": {
    "collapsed": false,
    "pycharm": {
     "name": "#%%\n"
    }
   }
  },
  {
   "cell_type": "markdown",
   "source": [
    "### Échantillonnage"
   ],
   "metadata": {
    "collapsed": false
   }
  },
  {
   "cell_type": "code",
   "execution_count": 9,
   "outputs": [],
   "source": [
    "# création d'un échantillon 2500 instances\n",
    "ech_properties = graph_properties.sample(frac=1).iloc[:2500]\n",
    "ech_nodes = graph_nodes[graph_nodes['graph_id'].isin(ech_properties['graph_id'])]\n",
    "ech_edges = graph_edges[graph_edges['graph_id'].isin(ech_properties['graph_id'])]"
   ],
   "metadata": {
    "collapsed": false,
    "pycharm": {
     "name": "#%%\n"
    }
   }
  },
  {
   "cell_type": "code",
   "execution_count": 10,
   "outputs": [],
   "source": [
    "# nombre d'instances\n",
    "instances = len(ech_properties)\n",
    "# nombre de classes\n",
    "classes = len(ech_properties['label'].astype('category').cat.categories)\n",
    "# nombre de noeuds en moyenne\n",
    "nodes_groups_sizes = ech_nodes.groupby('graph_id').size()\n",
    "min_nodes = np.round(nodes_groups_sizes.min(), 2)\n",
    "mean_nodes = np.round(nodes_groups_sizes.mean(), 2)\n",
    "max_nodes = np.round(nodes_groups_sizes.max(), 2)\n",
    "# nombre d'arcs en moyenne\n",
    "edges_groups_sizes = ech_edges.groupby('graph_id').size()\n",
    "min_edges = np.round(edges_groups_sizes.min(), 2)\n",
    "mean_edges = np.round(edges_groups_sizes.mean(), 2)\n",
    "max_edges = np.round(edges_groups_sizes.max(), 2)\n",
    "# nombre de labels distincts\n",
    "labels = len(ech_nodes['label'].astype('category').cat.categories)"
   ],
   "metadata": {
    "collapsed": false,
    "pycharm": {
     "name": "#%%\n"
    }
   }
  },
  {
   "cell_type": "code",
   "execution_count": 11,
   "outputs": [
    {
     "name": "stdout",
     "output_type": "stream",
     "text": [
      "# instances : 2500\n",
      "# classes : 17\n",
      "# nodes (min.) : 1\n",
      "# nodes (avg.) : 26.05\n",
      "# nodes (max.) : 407\n",
      "# edges (min.) : 1\n",
      "# edges (avg.) : 47.39\n",
      "# edges (max.) : 829\n",
      "# distinct node labels : 44\n"
     ]
    }
   ],
   "source": [
    "print(f\"# instances : {instances}\")\n",
    "print(f\"# classes : {classes}\")\n",
    "print(f\"# nodes (min.) : {min_nodes}\")\n",
    "print(f\"# nodes (avg.) : {mean_nodes}\")\n",
    "print(f\"# nodes (max.) : {max_nodes}\")\n",
    "print(f\"# edges (min.) : {min_edges}\")\n",
    "print(f\"# edges (avg.) : {mean_edges}\")\n",
    "print(f\"# edges (max.) : {max_edges}\")\n",
    "print(f\"# distinct node labels : {labels}\")"
   ],
   "metadata": {
    "collapsed": false,
    "pycharm": {
     "name": "#%%\n"
    }
   }
  },
  {
   "cell_type": "markdown",
   "source": [
    "### Création des graphes"
   ],
   "metadata": {
    "collapsed": false
   }
  },
  {
   "cell_type": "code",
   "execution_count": 12,
   "outputs": [],
   "source": [
    "# NetworkX dataset\n",
    "class NxClassDataset():\n",
    "    def __init__(self, properties, nodes, edges):\n",
    "        self.properties = properties\n",
    "        self.nodes = nodes\n",
    "        self.edges = edges\n",
    "        self.graphs = []\n",
    "        self.labels = []\n",
    "        self.ids = []\n",
    "        self.process()\n",
    "\n",
    "    def process(self):\n",
    "        # Create a graph for each graph ID from the edges table.\n",
    "        # First process the properties table into two dictionaries with graph IDs as keys.\n",
    "        # The label and number of nodes are values.\n",
    "        label_dict = {}\n",
    "        for _, row in self.properties.iterrows():\n",
    "            label_dict[row['graph_id']] = row['label']\n",
    "\n",
    "        # Group by graph IDs\n",
    "        edges_group = self.edges.groupby('graph_id')\n",
    "        nodes_group = self.nodes.groupby('graph_id')\n",
    "\n",
    "        # For each graph ID...\n",
    "        for graph_id in edges_group.groups:\n",
    "            edges_of_id = edges_group.get_group(graph_id)\n",
    "            nodes_of_id = nodes_group.get_group(graph_id)\n",
    "            label = label_dict[graph_id]\n",
    "\n",
    "            g = nx.Graph(label=label, id=graph_id)\n",
    "            for _, row in nodes_of_id.iterrows():\n",
    "                g.add_node(row['node_id'], feature=str(row['label']))\n",
    "            for _, row in edges_of_id.iterrows():\n",
    "                g.add_edge(row['src'], row['dest'], total_border=row['total_border'],\n",
    "                           greatest_border=row['greatest_border'],\n",
    "                           nb_borders=row['nb_borders'])\n",
    "\n",
    "            self.graphs.append(g)\n",
    "            self.labels.append(label)\n",
    "            self.ids.append(graph_id)\n",
    "\n",
    "    def __getitem__(self, i):\n",
    "        return self.graphs[i], self.labels[i], self.ids[i]\n",
    "\n",
    "    def get_graphs(self):\n",
    "        return self.graphs\n",
    "\n",
    "    def get_labels(self):\n",
    "        return self.labels\n",
    "\n",
    "    def get_ids(self):\n",
    "        return self.ids"
   ],
   "metadata": {
    "collapsed": false,
    "pycharm": {
     "name": "#%%\n"
    }
   }
  },
  {
   "cell_type": "code",
   "execution_count": 13,
   "outputs": [],
   "source": [
    "communes_nx_dataset = NxClassDataset(properties=ech_properties,\n",
    "                                     nodes=ech_nodes,\n",
    "                                     edges=ech_edges)"
   ],
   "metadata": {
    "collapsed": false,
    "pycharm": {
     "name": "#%%\n"
    }
   }
  },
  {
   "cell_type": "markdown",
   "source": [
    "### Visualisation des graphes"
   ],
   "metadata": {
    "collapsed": false
   }
  },
  {
   "cell_type": "code",
   "execution_count": 14,
   "outputs": [],
   "source": [
    "def draw_map_graph(nx_graph, gdf, column=None, legend=False, ax=None):\n",
    "    pos = {}\n",
    "    points = gdf.representative_point()\n",
    "    for i in range(len(gdf)):\n",
    "        area = gdf.iloc[i]\n",
    "        point = points.iloc[i]\n",
    "        pos[area['Node_ID']] = (point.x, point.y)\n",
    "\n",
    "    gdf.plot(column, legend=legend, ax=ax)\n",
    "    nx.draw(nx_graph, pos=pos, with_labels=True, ax=ax, node_color=[(0, 0, 0, 0.7)], font_color=\"white\")"
   ],
   "metadata": {
    "collapsed": false,
    "pycharm": {
     "name": "#%%\n"
    }
   }
  },
  {
   "cell_type": "code",
   "execution_count": 15,
   "outputs": [
    {
     "data": {
      "text/plain": "<Figure size 720x720 with 1 Axes>",
      "image/png": "[encoded data removed]"
     },
     "metadata": {},
     "output_type": "display_data"
    }
   ],
   "source": [
    "g_nx, g_label, g_id = communes_nx_dataset[5]\n",
    "f, ax = plt.subplots(figsize=(10, 10))\n",
    "communes = gpd.read_file(communes_path)\n",
    "commune = communes[communes['COMM_ID'] == g_id]\n",
    "gdf = preprocessing(gpd.read_file(clc_path, mask=commune['geometry']), commune)\n",
    "gdf.dissolve().exterior.plot(ax=ax, color=\"black\", linewidth=1)\n",
    "draw_map_graph(g_nx, gdf=gdf, column=np.array(range(len(gdf))), ax=ax)\n",
    "plt.title(f\"{g_id} - Superposition de la carte et du graphe\")\n",
    "plt.show()"
   ],
   "metadata": {
    "collapsed": false,
    "pycharm": {
     "name": "#%%\n"
    }
   }
  },
  {
   "cell_type": "markdown",
   "source": [
    "## Classification des graphes\n",
    "\n",
    "### Graph embedding"
   ],
   "metadata": {
    "collapsed": false
   }
  },
  {
   "cell_type": "code",
   "execution_count": 16,
   "outputs": [],
   "source": [
    "# karate club: https://karateclub.readthedocs.io/en/latest/index.html"
   ],
   "metadata": {
    "collapsed": false,
    "pycharm": {
     "name": "#%%\n"
    }
   }
  },
  {
   "cell_type": "code",
   "execution_count": 17,
   "outputs": [],
   "source": [
    "graphs = communes_nx_dataset.get_graphs()\n",
    "labels = np.array(communes_nx_dataset.get_labels())"
   ],
   "metadata": {
    "collapsed": false,
    "pycharm": {
     "name": "#%%\n"
    }
   }
  },
  {
   "cell_type": "code",
   "execution_count": 18,
   "outputs": [],
   "source": [
    "graph2vec = kc.Graph2Vec(epochs=100, attributed=True)\n",
    "graph2vec.fit(graphs)"
   ],
   "metadata": {
    "collapsed": false,
    "pycharm": {
     "name": "#%%\n"
    }
   }
  },
  {
   "cell_type": "code",
   "execution_count": 19,
   "outputs": [
    {
     "data": {
      "text/plain": "array([ 0.42947388, -0.07974118, -0.16884263,  0.46972597,  0.2868311 ,\n       -0.10461603,  0.07625651, -0.0672033 , -0.3057246 , -0.33169267,\n       -0.083284  ,  0.13254401, -0.5270998 ,  0.27351055,  0.15345791,\n        0.09033947, -0.3805125 , -0.07132233, -0.00637305,  0.06171957,\n        0.24767527,  0.2664998 , -0.28026307, -0.17018479, -0.14403349,\n        0.08161562,  0.03728957, -0.38168952, -0.23943426,  0.02567533,\n       -0.20416279, -0.120894  ,  0.04183592, -0.08879651,  0.07818737,\n        0.13284838,  0.04225663, -0.04397239,  0.05796266,  0.06551588,\n       -0.154101  , -0.07126874, -0.08860785,  0.16879103, -0.19386986,\n        0.11877839, -0.17631191, -0.08626506,  0.18054104,  0.15148775,\n        0.20975576, -0.05650167,  0.15749098, -0.35202134,  0.17722188,\n        0.19842115,  0.31047347, -0.4698097 , -0.14150056,  0.33202216,\n       -0.07170964,  0.27162686, -0.0205622 ,  0.31854483,  0.13939524,\n       -0.13764767,  0.03078124, -0.11451749,  0.32885915,  0.268506  ,\n        0.07497635, -0.19672447, -0.12150923, -0.12232181,  0.25133783,\n       -0.15707605,  0.08265824, -0.26565087,  0.03660614,  0.30951202,\n       -0.10491793, -0.23844579, -0.22019607, -0.03678024, -0.04246655,\n        0.16371402,  0.10054464, -0.00398686,  0.36984324,  0.01087433,\n        0.1713497 , -0.29448637,  0.04156587,  0.2866111 ,  0.14911185,\n       -0.06128945,  0.02359724, -0.08041542,  0.36547464, -0.07233458,\n       -0.12210787, -0.17754973,  0.06898951,  0.08643337,  0.2669226 ,\n        0.00300591, -0.03053508, -0.18852483, -0.00520033, -0.1100654 ,\n       -0.13599056, -0.14247438,  0.04307451, -0.0843205 , -0.01569261,\n       -0.0563042 , -0.27203882,  0.14082079,  0.35285836,  0.1086548 ,\n       -0.07883842,  0.04375038,  0.1007202 ,  0.0266083 , -0.2780644 ,\n        0.38142222,  0.22162469,  0.3333186 ], dtype=float32)"
     },
     "execution_count": 19,
     "metadata": {},
     "output_type": "execute_result"
    }
   ],
   "source": [
    "g2v_dataset = graph2vec.get_embedding()\n",
    "g2v_dataset[0]"
   ],
   "metadata": {
    "collapsed": false,
    "pycharm": {
     "name": "#%%\n"
    }
   }
  },
  {
   "cell_type": "markdown",
   "source": [
    "### Classification"
   ],
   "metadata": {
    "collapsed": false
   }
  },
  {
   "cell_type": "code",
   "execution_count": 20,
   "outputs": [],
   "source": [
    "from sklearn.model_selection import train_test_split\n",
    "\n",
    "X_train, X_test, y_train, y_test = train_test_split(g2v_dataset, np.array(labels),\n",
    "                                                    test_size=0.2)"
   ],
   "metadata": {
    "collapsed": false,
    "pycharm": {
     "name": "#%%\n"
    }
   }
  },
  {
   "cell_type": "code",
   "execution_count": 33,
   "outputs": [],
   "source": [
    "from tensorflow import keras\n",
    "\n",
    "\n",
    "def make_model(input_shape):\n",
    "    return keras.models.Sequential([\n",
    "        keras.layers.Input(input_shape),\n",
    "        keras.layers.Dense(100, activation='relu'),\n",
    "        keras.layers.Dense(80, activation='relu'),\n",
    "        keras.layers.Dense(64, activation='relu'),\n",
    "        keras.layers.Dense(32, activation='relu', kernel_regularizer=keras.regularizers.l2(0.005)),\n",
    "        keras.layers.Dropout(rate=0.1),\n",
    "        keras.layers.Dense(17, activation='softmax')\n",
    "    ])"
   ],
   "metadata": {
    "collapsed": false,
    "pycharm": {
     "name": "#%%\n"
    }
   }
  },
  {
   "cell_type": "code",
   "execution_count": 34,
   "outputs": [],
   "source": [
    "model = make_model(X_train[0].shape)"
   ],
   "metadata": {
    "collapsed": false,
    "pycharm": {
     "name": "#%%\n"
    }
   }
  },
  {
   "cell_type": "code",
   "execution_count": 35,
   "outputs": [
    {
     "name": "stdout",
     "output_type": "stream",
     "text": [
      "Model: \"sequential_2\"\n",
      "_________________________________________________________________\n",
      " Layer (type)                Output Shape              Param #   \n",
      "=================================================================\n",
      " dense_7 (Dense)             (None, 100)               12900     \n",
      "                                                                 \n",
      " dense_8 (Dense)             (None, 80)                8080      \n",
      "                                                                 \n",
      " dense_9 (Dense)             (None, 64)                5184      \n",
      "                                                                 \n",
      " dense_10 (Dense)            (None, 32)                2080      \n",
      "                                                                 \n",
      " dropout_2 (Dropout)         (None, 32)                0         \n",
      "                                                                 \n",
      " dense_11 (Dense)            (None, 17)                561       \n",
      "                                                                 \n",
      "=================================================================\n",
      "Total params: 28,805\n",
      "Trainable params: 28,805\n",
      "Non-trainable params: 0\n",
      "_________________________________________________________________\n"
     ]
    }
   ],
   "source": [
    "model.summary()"
   ],
   "metadata": {
    "collapsed": false,
    "pycharm": {
     "name": "#%%\n"
    }
   }
  },
  {
   "cell_type": "code",
   "execution_count": 36,
   "outputs": [],
   "source": [
    "model.compile(optimizer=keras.optimizers.SGD(),\n",
    "              loss=keras.losses.SparseCategoricalCrossentropy(),\n",
    "              metrics=['accuracy'])"
   ],
   "metadata": {
    "collapsed": false,
    "pycharm": {
     "name": "#%%\n"
    }
   }
  },
  {
   "cell_type": "code",
   "execution_count": 37,
   "outputs": [
    {
     "name": "stdout",
     "output_type": "stream",
     "text": [
      "Epoch 1/1000\n",
      "50/50 [==============================] - 1s 4ms/step - loss: 3.0490 - accuracy: 0.0605 - val_loss: 3.0348 - val_accuracy: 0.0856\n",
      "Epoch 2/1000\n",
      "50/50 [==============================] - 0s 2ms/step - loss: 3.0366 - accuracy: 0.0793 - val_loss: 3.0246 - val_accuracy: 0.1083\n",
      "Epoch 3/1000\n",
      "50/50 [==============================] - 0s 3ms/step - loss: 3.0254 - accuracy: 0.0856 - val_loss: 3.0150 - val_accuracy: 0.1310\n",
      "Epoch 4/1000\n",
      "50/50 [==============================] - 0s 2ms/step - loss: 3.0153 - accuracy: 0.1001 - val_loss: 3.0045 - val_accuracy: 0.1537\n",
      "Epoch 5/1000\n",
      "50/50 [==============================] - 0s 2ms/step - loss: 3.0043 - accuracy: 0.1259 - val_loss: 2.9931 - val_accuracy: 0.1662\n",
      "Epoch 6/1000\n",
      "50/50 [==============================] - 0s 2ms/step - loss: 2.9931 - accuracy: 0.1385 - val_loss: 2.9806 - val_accuracy: 0.1814\n",
      "Epoch 7/1000\n",
      "50/50 [==============================] - 0s 2ms/step - loss: 2.9795 - accuracy: 0.1455 - val_loss: 2.9667 - val_accuracy: 0.1914\n",
      "Epoch 8/1000\n",
      "50/50 [==============================] - 0s 2ms/step - loss: 2.9673 - accuracy: 0.1530 - val_loss: 2.9516 - val_accuracy: 0.1940\n",
      "Epoch 9/1000\n",
      "50/50 [==============================] - 0s 2ms/step - loss: 2.9501 - accuracy: 0.1707 - val_loss: 2.9345 - val_accuracy: 0.1990\n",
      "Epoch 10/1000\n",
      "50/50 [==============================] - 0s 2ms/step - loss: 2.9335 - accuracy: 0.1788 - val_loss: 2.9146 - val_accuracy: 0.2040\n",
      "Epoch 11/1000\n",
      "50/50 [==============================] - 0s 2ms/step - loss: 2.9132 - accuracy: 0.1839 - val_loss: 2.8923 - val_accuracy: 0.2040\n",
      "Epoch 12/1000\n",
      "50/50 [==============================] - 0s 2ms/step - loss: 2.8914 - accuracy: 0.1895 - val_loss: 2.8656 - val_accuracy: 0.2317\n",
      "Epoch 13/1000\n",
      "50/50 [==============================] - 0s 2ms/step - loss: 2.8588 - accuracy: 0.1977 - val_loss: 2.8338 - val_accuracy: 0.2368\n",
      "Epoch 14/1000\n",
      "50/50 [==============================] - 0s 2ms/step - loss: 2.8288 - accuracy: 0.1965 - val_loss: 2.7967 - val_accuracy: 0.2443\n",
      "Epoch 15/1000\n",
      "50/50 [==============================] - 0s 2ms/step - loss: 2.7919 - accuracy: 0.2128 - val_loss: 2.7548 - val_accuracy: 0.2494\n",
      "Epoch 16/1000\n",
      "50/50 [==============================] - 0s 2ms/step - loss: 2.7428 - accuracy: 0.2343 - val_loss: 2.7084 - val_accuracy: 0.2418\n",
      "Epoch 17/1000\n",
      "50/50 [==============================] - 0s 2ms/step - loss: 2.7007 - accuracy: 0.2191 - val_loss: 2.6599 - val_accuracy: 0.2368\n",
      "Epoch 18/1000\n",
      "50/50 [==============================] - 0s 2ms/step - loss: 2.6472 - accuracy: 0.2242 - val_loss: 2.6109 - val_accuracy: 0.2418\n",
      "Epoch 19/1000\n",
      "50/50 [==============================] - 0s 2ms/step - loss: 2.5963 - accuracy: 0.2343 - val_loss: 2.5618 - val_accuracy: 0.2469\n",
      "Epoch 20/1000\n",
      "50/50 [==============================] - 0s 2ms/step - loss: 2.5480 - accuracy: 0.2387 - val_loss: 2.5154 - val_accuracy: 0.2569\n",
      "Epoch 21/1000\n",
      "50/50 [==============================] - 0s 3ms/step - loss: 2.4976 - accuracy: 0.2531 - val_loss: 2.4718 - val_accuracy: 0.2645\n",
      "Epoch 22/1000\n",
      "50/50 [==============================] - 0s 2ms/step - loss: 2.4616 - accuracy: 0.2494 - val_loss: 2.4319 - val_accuracy: 0.2821\n",
      "Epoch 23/1000\n",
      "50/50 [==============================] - 0s 2ms/step - loss: 2.4152 - accuracy: 0.2802 - val_loss: 2.3921 - val_accuracy: 0.2897\n",
      "Epoch 24/1000\n",
      "50/50 [==============================] - 0s 2ms/step - loss: 2.3641 - accuracy: 0.2991 - val_loss: 2.3513 - val_accuracy: 0.3249\n",
      "Epoch 25/1000\n",
      "50/50 [==============================] - 0s 2ms/step - loss: 2.3304 - accuracy: 0.3130 - val_loss: 2.3191 - val_accuracy: 0.3476\n",
      "Epoch 26/1000\n",
      "50/50 [==============================] - 0s 2ms/step - loss: 2.2929 - accuracy: 0.3111 - val_loss: 2.2834 - val_accuracy: 0.3426\n",
      "Epoch 27/1000\n",
      "50/50 [==============================] - 0s 2ms/step - loss: 2.2631 - accuracy: 0.3212 - val_loss: 2.2571 - val_accuracy: 0.3375\n",
      "Epoch 28/1000\n",
      "50/50 [==============================] - 0s 3ms/step - loss: 2.2356 - accuracy: 0.3293 - val_loss: 2.2309 - val_accuracy: 0.3426\n",
      "Epoch 29/1000\n",
      "50/50 [==============================] - 0s 2ms/step - loss: 2.1886 - accuracy: 0.3388 - val_loss: 2.2014 - val_accuracy: 0.3627\n",
      "Epoch 30/1000\n",
      "50/50 [==============================] - 0s 2ms/step - loss: 2.1858 - accuracy: 0.3445 - val_loss: 2.1844 - val_accuracy: 0.3552\n",
      "Epoch 31/1000\n",
      "50/50 [==============================] - 0s 2ms/step - loss: 2.1415 - accuracy: 0.3577 - val_loss: 2.1569 - val_accuracy: 0.3602\n",
      "Epoch 32/1000\n",
      "50/50 [==============================] - 0s 2ms/step - loss: 2.1109 - accuracy: 0.3634 - val_loss: 2.1412 - val_accuracy: 0.3829\n",
      "Epoch 33/1000\n",
      "50/50 [==============================] - 0s 2ms/step - loss: 2.0888 - accuracy: 0.3671 - val_loss: 2.1129 - val_accuracy: 0.3879\n",
      "Epoch 34/1000\n",
      "50/50 [==============================] - 0s 2ms/step - loss: 2.0649 - accuracy: 0.3772 - val_loss: 2.0925 - val_accuracy: 0.3778\n",
      "Epoch 35/1000\n",
      "50/50 [==============================] - 0s 2ms/step - loss: 2.0427 - accuracy: 0.3873 - val_loss: 2.0753 - val_accuracy: 0.4055\n",
      "Epoch 36/1000\n",
      "50/50 [==============================] - 0s 2ms/step - loss: 2.0282 - accuracy: 0.3980 - val_loss: 2.0572 - val_accuracy: 0.3854\n",
      "Epoch 37/1000\n",
      "50/50 [==============================] - 0s 2ms/step - loss: 2.0036 - accuracy: 0.3904 - val_loss: 2.0412 - val_accuracy: 0.4156\n",
      "Epoch 38/1000\n",
      "50/50 [==============================] - 0s 2ms/step - loss: 1.9848 - accuracy: 0.4024 - val_loss: 2.0280 - val_accuracy: 0.4181\n",
      "Epoch 39/1000\n",
      "50/50 [==============================] - 0s 2ms/step - loss: 1.9566 - accuracy: 0.4181 - val_loss: 1.9973 - val_accuracy: 0.4207\n",
      "Epoch 40/1000\n",
      "50/50 [==============================] - 0s 2ms/step - loss: 1.9510 - accuracy: 0.4156 - val_loss: 1.9793 - val_accuracy: 0.4156\n",
      "Epoch 41/1000\n",
      "50/50 [==============================] - 0s 2ms/step - loss: 1.9208 - accuracy: 0.4358 - val_loss: 1.9687 - val_accuracy: 0.4383\n",
      "Epoch 42/1000\n",
      "50/50 [==============================] - 0s 2ms/step - loss: 1.8994 - accuracy: 0.4465 - val_loss: 1.9571 - val_accuracy: 0.4408\n",
      "Epoch 43/1000\n",
      "50/50 [==============================] - 0s 2ms/step - loss: 1.8843 - accuracy: 0.4440 - val_loss: 1.9429 - val_accuracy: 0.4458\n",
      "Epoch 44/1000\n",
      "50/50 [==============================] - 0s 3ms/step - loss: 1.8644 - accuracy: 0.4383 - val_loss: 1.9216 - val_accuracy: 0.4559\n",
      "Epoch 45/1000\n",
      "50/50 [==============================] - 0s 2ms/step - loss: 1.8299 - accuracy: 0.4477 - val_loss: 1.9120 - val_accuracy: 0.4433\n",
      "Epoch 46/1000\n",
      "50/50 [==============================] - 0s 2ms/step - loss: 1.8418 - accuracy: 0.4509 - val_loss: 1.8907 - val_accuracy: 0.4559\n",
      "Epoch 47/1000\n",
      "50/50 [==============================] - 0s 2ms/step - loss: 1.8112 - accuracy: 0.4628 - val_loss: 1.8805 - val_accuracy: 0.4610\n",
      "Epoch 48/1000\n",
      "50/50 [==============================] - 0s 2ms/step - loss: 1.8091 - accuracy: 0.4534 - val_loss: 1.8730 - val_accuracy: 0.4710\n",
      "Epoch 49/1000\n",
      "50/50 [==============================] - 0s 2ms/step - loss: 1.7917 - accuracy: 0.4754 - val_loss: 1.8498 - val_accuracy: 0.4584\n",
      "Epoch 50/1000\n",
      "50/50 [==============================] - 0s 2ms/step - loss: 1.7701 - accuracy: 0.4817 - val_loss: 1.8449 - val_accuracy: 0.4761\n",
      "Epoch 51/1000\n",
      "50/50 [==============================] - 0s 2ms/step - loss: 1.7565 - accuracy: 0.4849 - val_loss: 1.8187 - val_accuracy: 0.4761\n",
      "Epoch 52/1000\n",
      "50/50 [==============================] - 0s 2ms/step - loss: 1.7439 - accuracy: 0.4780 - val_loss: 1.8117 - val_accuracy: 0.4786\n",
      "Epoch 53/1000\n",
      "50/50 [==============================] - 0s 3ms/step - loss: 1.7353 - accuracy: 0.4849 - val_loss: 1.7859 - val_accuracy: 0.4685\n",
      "Epoch 54/1000\n",
      "50/50 [==============================] - 0s 2ms/step - loss: 1.7170 - accuracy: 0.4906 - val_loss: 1.7851 - val_accuracy: 0.4811\n",
      "Epoch 55/1000\n",
      "50/50 [==============================] - 0s 2ms/step - loss: 1.7018 - accuracy: 0.4918 - val_loss: 1.7640 - val_accuracy: 0.4761\n",
      "Epoch 56/1000\n",
      "50/50 [==============================] - 0s 2ms/step - loss: 1.6828 - accuracy: 0.5132 - val_loss: 1.7530 - val_accuracy: 0.5038\n",
      "Epoch 57/1000\n",
      "50/50 [==============================] - 0s 2ms/step - loss: 1.6745 - accuracy: 0.5170 - val_loss: 1.7582 - val_accuracy: 0.4937\n",
      "Epoch 58/1000\n",
      "50/50 [==============================] - 0s 2ms/step - loss: 1.6519 - accuracy: 0.5063 - val_loss: 1.7440 - val_accuracy: 0.4937\n",
      "Epoch 59/1000\n",
      "50/50 [==============================] - 0s 2ms/step - loss: 1.6622 - accuracy: 0.5120 - val_loss: 1.7383 - val_accuracy: 0.4912\n",
      "Epoch 60/1000\n",
      "50/50 [==============================] - 0s 2ms/step - loss: 1.6428 - accuracy: 0.5082 - val_loss: 1.7348 - val_accuracy: 0.4836\n",
      "Epoch 61/1000\n",
      "50/50 [==============================] - 0s 2ms/step - loss: 1.6286 - accuracy: 0.5202 - val_loss: 1.7091 - val_accuracy: 0.5038\n",
      "Epoch 62/1000\n",
      "50/50 [==============================] - 0s 2ms/step - loss: 1.6308 - accuracy: 0.5170 - val_loss: 1.7365 - val_accuracy: 0.4861\n",
      "Epoch 63/1000\n",
      "50/50 [==============================] - 0s 2ms/step - loss: 1.6215 - accuracy: 0.5101 - val_loss: 1.6926 - val_accuracy: 0.4861\n",
      "Epoch 64/1000\n",
      "50/50 [==============================] - 0s 3ms/step - loss: 1.6160 - accuracy: 0.5271 - val_loss: 1.6945 - val_accuracy: 0.5038\n",
      "Epoch 65/1000\n",
      "50/50 [==============================] - 0s 2ms/step - loss: 1.5956 - accuracy: 0.5378 - val_loss: 1.6852 - val_accuracy: 0.5038\n",
      "Epoch 66/1000\n",
      "50/50 [==============================] - 0s 2ms/step - loss: 1.5858 - accuracy: 0.5327 - val_loss: 1.6672 - val_accuracy: 0.5088\n",
      "Epoch 67/1000\n",
      "50/50 [==============================] - 0s 2ms/step - loss: 1.5819 - accuracy: 0.5378 - val_loss: 1.6684 - val_accuracy: 0.5038\n",
      "Epoch 68/1000\n",
      "50/50 [==============================] - 0s 2ms/step - loss: 1.5793 - accuracy: 0.5340 - val_loss: 1.6640 - val_accuracy: 0.5139\n",
      "Epoch 69/1000\n",
      "50/50 [==============================] - 0s 2ms/step - loss: 1.5519 - accuracy: 0.5365 - val_loss: 1.6486 - val_accuracy: 0.5038\n",
      "Epoch 70/1000\n",
      "50/50 [==============================] - 0s 2ms/step - loss: 1.5553 - accuracy: 0.5453 - val_loss: 1.6408 - val_accuracy: 0.5164\n",
      "Epoch 71/1000\n",
      "50/50 [==============================] - 0s 2ms/step - loss: 1.5307 - accuracy: 0.5705 - val_loss: 1.6341 - val_accuracy: 0.5113\n",
      "Epoch 72/1000\n",
      "50/50 [==============================] - 0s 3ms/step - loss: 1.5288 - accuracy: 0.5592 - val_loss: 1.6282 - val_accuracy: 0.5139\n",
      "Epoch 73/1000\n",
      "50/50 [==============================] - 0s 2ms/step - loss: 1.5230 - accuracy: 0.5642 - val_loss: 1.6308 - val_accuracy: 0.5164\n",
      "Epoch 74/1000\n",
      "50/50 [==============================] - 0s 2ms/step - loss: 1.4932 - accuracy: 0.5630 - val_loss: 1.6203 - val_accuracy: 0.5189\n",
      "Epoch 75/1000\n",
      "50/50 [==============================] - 0s 2ms/step - loss: 1.5087 - accuracy: 0.5466 - val_loss: 1.6148 - val_accuracy: 0.5113\n",
      "Epoch 76/1000\n",
      "50/50 [==============================] - 0s 2ms/step - loss: 1.4865 - accuracy: 0.5680 - val_loss: 1.6007 - val_accuracy: 0.5113\n",
      "Epoch 77/1000\n",
      "50/50 [==============================] - 0s 2ms/step - loss: 1.4970 - accuracy: 0.5649 - val_loss: 1.6033 - val_accuracy: 0.5164\n",
      "Epoch 78/1000\n",
      "50/50 [==============================] - 0s 2ms/step - loss: 1.4729 - accuracy: 0.5737 - val_loss: 1.6152 - val_accuracy: 0.5189\n",
      "Epoch 79/1000\n",
      "50/50 [==============================] - 0s 2ms/step - loss: 1.4781 - accuracy: 0.5737 - val_loss: 1.5881 - val_accuracy: 0.5214\n",
      "Epoch 80/1000\n",
      "50/50 [==============================] - 0s 2ms/step - loss: 1.4597 - accuracy: 0.5699 - val_loss: 1.5926 - val_accuracy: 0.5164\n",
      "Epoch 81/1000\n",
      "50/50 [==============================] - 0s 2ms/step - loss: 1.4445 - accuracy: 0.5806 - val_loss: 1.5873 - val_accuracy: 0.5239\n",
      "Epoch 82/1000\n",
      "50/50 [==============================] - 0s 2ms/step - loss: 1.4550 - accuracy: 0.5812 - val_loss: 1.5713 - val_accuracy: 0.5164\n",
      "Epoch 83/1000\n",
      "50/50 [==============================] - 0s 2ms/step - loss: 1.4427 - accuracy: 0.5831 - val_loss: 1.5756 - val_accuracy: 0.5239\n",
      "Epoch 84/1000\n",
      "50/50 [==============================] - 0s 2ms/step - loss: 1.4350 - accuracy: 0.5882 - val_loss: 1.5701 - val_accuracy: 0.5290\n",
      "Epoch 85/1000\n",
      "50/50 [==============================] - 0s 2ms/step - loss: 1.4151 - accuracy: 0.5926 - val_loss: 1.5642 - val_accuracy: 0.5239\n",
      "Epoch 86/1000\n",
      "50/50 [==============================] - 0s 2ms/step - loss: 1.4165 - accuracy: 0.5869 - val_loss: 1.5588 - val_accuracy: 0.5239\n",
      "Epoch 87/1000\n",
      "50/50 [==============================] - 0s 2ms/step - loss: 1.4170 - accuracy: 0.5907 - val_loss: 1.5677 - val_accuracy: 0.5214\n",
      "Epoch 88/1000\n",
      "50/50 [==============================] - 0s 2ms/step - loss: 1.3966 - accuracy: 0.5919 - val_loss: 1.5675 - val_accuracy: 0.5214\n",
      "Epoch 89/1000\n",
      "50/50 [==============================] - 0s 2ms/step - loss: 1.4027 - accuracy: 0.5863 - val_loss: 1.5505 - val_accuracy: 0.5239\n",
      "Epoch 90/1000\n",
      "50/50 [==============================] - 0s 2ms/step - loss: 1.3955 - accuracy: 0.5945 - val_loss: 1.5329 - val_accuracy: 0.5315\n",
      "Epoch 91/1000\n",
      "50/50 [==============================] - 0s 2ms/step - loss: 1.3926 - accuracy: 0.5932 - val_loss: 1.5391 - val_accuracy: 0.5239\n",
      "Epoch 92/1000\n",
      "50/50 [==============================] - 0s 2ms/step - loss: 1.3812 - accuracy: 0.6001 - val_loss: 1.5484 - val_accuracy: 0.5340\n",
      "Epoch 93/1000\n",
      "50/50 [==============================] - 0s 2ms/step - loss: 1.3658 - accuracy: 0.6115 - val_loss: 1.5338 - val_accuracy: 0.5365\n",
      "Epoch 94/1000\n",
      "50/50 [==============================] - 0s 2ms/step - loss: 1.3721 - accuracy: 0.6008 - val_loss: 1.5309 - val_accuracy: 0.5315\n",
      "Epoch 95/1000\n",
      "50/50 [==============================] - 0s 2ms/step - loss: 1.3508 - accuracy: 0.6127 - val_loss: 1.5294 - val_accuracy: 0.5264\n",
      "Epoch 96/1000\n",
      "50/50 [==============================] - 0s 2ms/step - loss: 1.3367 - accuracy: 0.6178 - val_loss: 1.5218 - val_accuracy: 0.5340\n",
      "Epoch 97/1000\n",
      "50/50 [==============================] - 0s 2ms/step - loss: 1.3251 - accuracy: 0.6102 - val_loss: 1.5203 - val_accuracy: 0.5239\n",
      "Epoch 98/1000\n",
      "50/50 [==============================] - 0s 2ms/step - loss: 1.3239 - accuracy: 0.6178 - val_loss: 1.5180 - val_accuracy: 0.5315\n",
      "Epoch 99/1000\n",
      "50/50 [==============================] - 0s 2ms/step - loss: 1.3241 - accuracy: 0.6215 - val_loss: 1.5223 - val_accuracy: 0.5365\n",
      "Epoch 100/1000\n",
      "50/50 [==============================] - 0s 2ms/step - loss: 1.3294 - accuracy: 0.6196 - val_loss: 1.5146 - val_accuracy: 0.5466\n",
      "Epoch 101/1000\n",
      "50/50 [==============================] - 0s 2ms/step - loss: 1.3139 - accuracy: 0.6272 - val_loss: 1.5038 - val_accuracy: 0.5390\n",
      "Epoch 102/1000\n",
      "50/50 [==============================] - 0s 2ms/step - loss: 1.3023 - accuracy: 0.6322 - val_loss: 1.5115 - val_accuracy: 0.5441\n",
      "Epoch 103/1000\n",
      "50/50 [==============================] - 0s 2ms/step - loss: 1.3258 - accuracy: 0.6335 - val_loss: 1.5038 - val_accuracy: 0.5365\n",
      "Epoch 104/1000\n",
      "50/50 [==============================] - 0s 2ms/step - loss: 1.2866 - accuracy: 0.6404 - val_loss: 1.4948 - val_accuracy: 0.5491\n",
      "Epoch 105/1000\n",
      "50/50 [==============================] - 0s 2ms/step - loss: 1.2949 - accuracy: 0.6322 - val_loss: 1.5033 - val_accuracy: 0.5390\n",
      "Epoch 106/1000\n",
      "50/50 [==============================] - 0s 2ms/step - loss: 1.2906 - accuracy: 0.6215 - val_loss: 1.4966 - val_accuracy: 0.5466\n",
      "Epoch 107/1000\n",
      "50/50 [==============================] - 0s 2ms/step - loss: 1.2844 - accuracy: 0.6278 - val_loss: 1.4999 - val_accuracy: 0.5516\n",
      "Epoch 108/1000\n",
      "50/50 [==============================] - 0s 2ms/step - loss: 1.2835 - accuracy: 0.6341 - val_loss: 1.5014 - val_accuracy: 0.5441\n",
      "Epoch 109/1000\n",
      "50/50 [==============================] - 0s 2ms/step - loss: 1.2784 - accuracy: 0.6385 - val_loss: 1.4822 - val_accuracy: 0.5441\n",
      "Epoch 110/1000\n",
      "50/50 [==============================] - 0s 2ms/step - loss: 1.2637 - accuracy: 0.6385 - val_loss: 1.4838 - val_accuracy: 0.5466\n",
      "Epoch 111/1000\n",
      "50/50 [==============================] - 0s 2ms/step - loss: 1.2560 - accuracy: 0.6467 - val_loss: 1.4764 - val_accuracy: 0.5466\n",
      "Epoch 112/1000\n",
      "50/50 [==============================] - 0s 2ms/step - loss: 1.2601 - accuracy: 0.6341 - val_loss: 1.4894 - val_accuracy: 0.5466\n",
      "Epoch 113/1000\n",
      "50/50 [==============================] - 0s 2ms/step - loss: 1.2447 - accuracy: 0.6423 - val_loss: 1.4728 - val_accuracy: 0.5466\n",
      "Epoch 114/1000\n",
      "50/50 [==============================] - 0s 2ms/step - loss: 1.2511 - accuracy: 0.6480 - val_loss: 1.4844 - val_accuracy: 0.5542\n",
      "Epoch 115/1000\n",
      "50/50 [==============================] - 0s 2ms/step - loss: 1.2291 - accuracy: 0.6568 - val_loss: 1.4697 - val_accuracy: 0.5466\n",
      "Epoch 116/1000\n",
      "50/50 [==============================] - 0s 2ms/step - loss: 1.2231 - accuracy: 0.6455 - val_loss: 1.4696 - val_accuracy: 0.5516\n",
      "Epoch 117/1000\n",
      "50/50 [==============================] - 0s 2ms/step - loss: 1.2080 - accuracy: 0.6593 - val_loss: 1.4762 - val_accuracy: 0.5567\n",
      "Epoch 118/1000\n",
      "50/50 [==============================] - 0s 2ms/step - loss: 1.2323 - accuracy: 0.6373 - val_loss: 1.4951 - val_accuracy: 0.5668\n",
      "Epoch 119/1000\n",
      "50/50 [==============================] - 0s 2ms/step - loss: 1.2349 - accuracy: 0.6530 - val_loss: 1.4719 - val_accuracy: 0.5416\n",
      "Epoch 120/1000\n",
      "50/50 [==============================] - 0s 2ms/step - loss: 1.2117 - accuracy: 0.6505 - val_loss: 1.4696 - val_accuracy: 0.5441\n",
      "Epoch 121/1000\n",
      "50/50 [==============================] - 0s 2ms/step - loss: 1.1997 - accuracy: 0.6644 - val_loss: 1.4610 - val_accuracy: 0.5340\n",
      "Epoch 122/1000\n",
      "50/50 [==============================] - 0s 2ms/step - loss: 1.2097 - accuracy: 0.6518 - val_loss: 1.4871 - val_accuracy: 0.5466\n",
      "Epoch 123/1000\n",
      "50/50 [==============================] - 0s 3ms/step - loss: 1.2153 - accuracy: 0.6518 - val_loss: 1.4738 - val_accuracy: 0.5592\n",
      "Epoch 124/1000\n",
      "50/50 [==============================] - 0s 2ms/step - loss: 1.1876 - accuracy: 0.6637 - val_loss: 1.4491 - val_accuracy: 0.5567\n",
      "Epoch 125/1000\n",
      "50/50 [==============================] - 0s 2ms/step - loss: 1.1667 - accuracy: 0.6650 - val_loss: 1.4650 - val_accuracy: 0.5668\n",
      "Epoch 126/1000\n",
      "50/50 [==============================] - 0s 2ms/step - loss: 1.1887 - accuracy: 0.6599 - val_loss: 1.4636 - val_accuracy: 0.5718\n",
      "Epoch 127/1000\n",
      "50/50 [==============================] - 0s 2ms/step - loss: 1.1806 - accuracy: 0.6650 - val_loss: 1.4635 - val_accuracy: 0.5516\n",
      "Epoch 128/1000\n",
      "50/50 [==============================] - 0s 2ms/step - loss: 1.1670 - accuracy: 0.6669 - val_loss: 1.4522 - val_accuracy: 0.5592\n",
      "Epoch 129/1000\n",
      "50/50 [==============================] - 0s 3ms/step - loss: 1.1635 - accuracy: 0.6581 - val_loss: 1.4615 - val_accuracy: 0.5668\n",
      "Epoch 130/1000\n",
      "50/50 [==============================] - 0s 2ms/step - loss: 1.1648 - accuracy: 0.6694 - val_loss: 1.4524 - val_accuracy: 0.5592\n",
      "Epoch 131/1000\n",
      "50/50 [==============================] - 0s 2ms/step - loss: 1.1593 - accuracy: 0.6725 - val_loss: 1.4633 - val_accuracy: 0.5516\n",
      "Epoch 132/1000\n",
      "50/50 [==============================] - 0s 2ms/step - loss: 1.1593 - accuracy: 0.6738 - val_loss: 1.4657 - val_accuracy: 0.5542\n",
      "Epoch 133/1000\n",
      "50/50 [==============================] - 0s 2ms/step - loss: 1.1610 - accuracy: 0.6763 - val_loss: 1.4582 - val_accuracy: 0.5642\n",
      "Epoch 134/1000\n",
      "50/50 [==============================] - 0s 2ms/step - loss: 1.1391 - accuracy: 0.6688 - val_loss: 1.4671 - val_accuracy: 0.5617\n"
     ]
    }
   ],
   "source": [
    "early_stopping_cb = keras.callbacks.EarlyStopping(patience=10, restore_best_weights=True)\n",
    "history = model.fit(X_train, y_train, epochs=1000, validation_split=0.2,\n",
    "                    callbacks=[early_stopping_cb])"
   ],
   "metadata": {
    "collapsed": false,
    "pycharm": {
     "name": "#%%\n"
    }
   }
  },
  {
   "cell_type": "code",
   "execution_count": 38,
   "outputs": [
    {
     "name": "stdout",
     "output_type": "stream",
     "text": [
      "16/16 [==============================] - 0s 874us/step - loss: 1.4778 - accuracy: 0.5815\n"
     ]
    },
    {
     "data": {
      "text/plain": "[1.4778201580047607, 0.5814889073371887]"
     },
     "execution_count": 38,
     "metadata": {},
     "output_type": "execute_result"
    }
   ],
   "source": [
    "model.evaluate(X_test, y_test)"
   ],
   "metadata": {
    "collapsed": false,
    "pycharm": {
     "name": "#%%\n"
    }
   }
  },
  {
   "cell_type": "code",
   "execution_count": 39,
   "outputs": [
    {
     "data": {
      "text/plain": "<Figure size 720x288 with 2 Axes>",
      "image/png": "[encoded data removed]"
     },
     "metadata": {
      "needs_background": "light"
     },
     "output_type": "display_data"
    }
   ],
   "source": [
    "training_loss = history.history['loss']\n",
    "training_acc = history.history['accuracy']\n",
    "val_loss = history.history['val_loss']\n",
    "val_acc = history.history['val_accuracy']\n",
    "\n",
    "import matplotlib.pyplot as plt\n",
    "\n",
    "f = plt.figure(figsize=(10, 4))\n",
    "ax = plt.subplot(121)\n",
    "plt.plot(training_loss, label=\"Train loss\")\n",
    "plt.plot(val_loss, label=\"Validation loss\")\n",
    "plt.legend()\n",
    "ax = plt.subplot(122)\n",
    "plt.plot(training_acc, label=\"Train accuracy\")\n",
    "plt.plot(val_acc, label=\"Validation accuracy\")\n",
    "plt.legend()\n",
    "plt.show()"
   ],
   "metadata": {
    "collapsed": false,
    "pycharm": {
     "name": "#%%\n"
    }
   }
  },
  {
   "cell_type": "markdown",
   "source": [
    "### Hyperparameters tuning\n",
    "\n",
    "https://colab.research.google.com/drive/1K19tjJzQG6vI8NQqAC5GH-CIQG4HhvnC?usp=sharing"
   ],
   "metadata": {
    "collapsed": false,
    "pycharm": {
     "name": "#%% md\n"
    }
   }
  },
  {
   "cell_type": "code",
   "execution_count": null,
   "outputs": [],
   "source": [],
   "metadata": {
    "collapsed": false,
    "pycharm": {
     "name": "#%%\n"
    }
   }
  }
 ],
 "metadata": {
  "kernelspec": {
   "display_name": "Python 3",
   "language": "python",
   "name": "python3"
  },
  "language_info": {
   "codemirror_mode": {
    "name": "ipython",
    "version": 2
   },
   "file_extension": ".py",
   "mimetype": "text/x-python",
   "name": "python",
   "nbconvert_exporter": "python",
   "pygments_lexer": "ipython2",
   "version": "2.7.6"
  }
 },
 "nbformat": 4,
 "nbformat_minor": 0
}