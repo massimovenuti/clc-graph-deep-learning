{
 "cells": [
  {
   "cell_type": "markdown",
   "source": [
    "# Classification de graphes"
   ],
   "metadata": {
    "collapsed": false
   }
  },
  {
   "cell_type": "code",
   "execution_count": 30,
   "outputs": [],
   "source": [
    "import geopandas as gpd\n",
    "import pandas as pd\n",
    "import numpy as np\n",
    "import matplotlib.pyplot as plt\n",
    "import shapely\n",
    "import networkx as nx\n",
    "import os\n",
    "import karateclub as kc\n",
    "import copy"
   ],
   "metadata": {
    "collapsed": false,
    "pycharm": {
     "name": "#%%\n"
    }
   }
  },
  {
   "cell_type": "markdown",
   "source": [
    "## Construction des graphes pour la classification de graphes\n",
    "\n",
    "## Prétraitement des données"
   ],
   "metadata": {
    "collapsed": false
   }
  },
  {
   "cell_type": "code",
   "execution_count": 31,
   "outputs": [],
   "source": [
    "def preprocessing(gdf, commune, rm_residual_areas=True, object_prop_th=0.50, total_prop_th=0.01):\n",
    "    assert len(gdf) != 0\n",
    "    # todo : gérer les nodata\n",
    "    gdf = gdf.clip(commune[\"geometry\"])\n",
    "\n",
    "    gdf[\"total_area\"] = gdf.area\n",
    "    gdf = gdf.drop(\"Area_Ha\", axis=\"columns\")\n",
    "\n",
    "    gdf = gdf.explode(index_parts=False)\n",
    "    gdf[\"object_proportion\"] = gdf.area / gdf[\"total_area\"]\n",
    "    gdf[\"total_proportion\"] = gdf.area / gdf.area.sum()\n",
    "\n",
    "    if rm_residual_areas is True:\n",
    "        gdf = gdf[(gdf[\"object_proportion\"] >= object_prop_th) | (gdf[\"total_proportion\"] >= total_prop_th)]\n",
    "\n",
    "    gdf['Node_ID'] = range(len(gdf))  # pour simplifier la création des graphes\n",
    "    gdf['Code_18'] = gdf['Code_18'].astype(str)\n",
    "\n",
    "    return gdf"
   ],
   "metadata": {
    "collapsed": false,
    "pycharm": {
     "name": "#%%\n"
    }
   }
  },
  {
   "cell_type": "markdown",
   "source": [
    "### Calcul du voisinage"
   ],
   "metadata": {
    "collapsed": false
   }
  },
  {
   "cell_type": "code",
   "execution_count": 32,
   "outputs": [],
   "source": [
    "def preprocess_border(border):\n",
    "    if border.geom_type == \"MultiLineString\":\n",
    "        # plusieurs frontières\n",
    "        border = shapely.ops.linemerge(border)\n",
    "    return border\n",
    "\n",
    "\n",
    "def calc_borders(area, neighbors):\n",
    "    borders_info = {\"total_border\": [], \"greatest_border\": [], \"nb_borders\": []}\n",
    "    borders = neighbors.geometry.intersection(area.geometry)\n",
    "    for border in borders:\n",
    "        border = preprocess_border(border)\n",
    "        if border.geom_type == \"MultiLineString\":\n",
    "            lengths = gpd.GeoSeries(border.geoms).length\n",
    "            borders_info[\"total_border\"].append(lengths.sum())\n",
    "            borders_info[\"greatest_border\"].append(max(lengths))\n",
    "            borders_info[\"nb_borders\"].append(len(lengths))\n",
    "        else:\n",
    "            length = border.length\n",
    "            borders_info[\"total_border\"].append(length)\n",
    "            borders_info[\"greatest_border\"].append(length)\n",
    "            borders_info[\"nb_borders\"].append(1)\n",
    "    return borders_info\n",
    "\n",
    "\n",
    "def calc_neighbors(gdf):\n",
    "    neighbors_dict = {\"src\": [], \"dest\": [], \"total_border\": [], \"greatest_border\": [], \"nb_borders\": []}\n",
    "\n",
    "    for index, area in gdf.iterrows():\n",
    "        neighbors = gdf[gdf.geometry.touches(area.geometry)]\n",
    "        neighbors = neighbors[~neighbors['Node_ID'].isin(neighbors_dict['src'])]\n",
    "\n",
    "        dest = neighbors['Node_ID'].tolist()\n",
    "        src = [area['Node_ID']] * neighbors.shape[0]\n",
    "\n",
    "        borders = calc_borders(area, neighbors)\n",
    "\n",
    "        neighbors_dict[\"src\"].extend(src)\n",
    "        neighbors_dict[\"dest\"].extend(dest)\n",
    "        neighbors_dict[\"total_border\"].extend(borders[\"total_border\"])\n",
    "        neighbors_dict[\"greatest_border\"].extend(borders[\"greatest_border\"])\n",
    "        neighbors_dict[\"nb_borders\"].extend(borders[\"nb_borders\"])\n",
    "\n",
    "    return neighbors_dict"
   ],
   "metadata": {
    "collapsed": false,
    "pycharm": {
     "name": "#%%\n"
    }
   }
  },
  {
   "cell_type": "markdown",
   "source": [
    "### Génération des données des graphes"
   ],
   "metadata": {
    "collapsed": false
   }
  },
  {
   "cell_type": "code",
   "execution_count": 33,
   "outputs": [],
   "source": [
    "def generate_graph_data(data_path, communes_path):\n",
    "    graph_properties_dict = {\"graph_id\": [], \"num_nodes\": []}\n",
    "    graph_nodes_dict = {\"graph_id\": [], \"node_id\": [], \"label\": []}\n",
    "    graph_edges_dict = {\"graph_id\": [], \"src\": [], \"dest\": [], \"total_border\": [], \"greatest_border\": [],\n",
    "                        \"nb_borders\": []}\n",
    "\n",
    "    communes = gpd.read_file(communes_path)\n",
    "\n",
    "    l = len(communes)\n",
    "    step = int(l * 0.05)\n",
    "    print(f\"Number of instances : {l}\")\n",
    "    i = 1\n",
    "\n",
    "    for _, commune in communes.iterrows():\n",
    "        if i % step == 1:\n",
    "            print(f\"{int((i / l) * 100)}%\", end=\"...\")\n",
    "\n",
    "        gdf = preprocessing(gpd.read_file(data_path, mask=commune['geometry']), commune)\n",
    "\n",
    "        neighbors = calc_neighbors(gdf)\n",
    "\n",
    "        graph_properties_dict[\"graph_id\"].append(commune['COMM_ID'])\n",
    "        graph_properties_dict[\"num_nodes\"].append(len(gdf))\n",
    "\n",
    "        graph_nodes_dict[\"graph_id\"].extend([commune['COMM_ID']] * len(gdf))\n",
    "        graph_nodes_dict[\"node_id\"].extend(gdf[\"Node_ID\"])\n",
    "        graph_nodes_dict[\"label\"].extend(gdf[\"Code_18\"])\n",
    "\n",
    "        graph_edges_dict[\"src\"].extend(neighbors[\"src\"])\n",
    "        graph_edges_dict[\"dest\"].extend(neighbors[\"dest\"])\n",
    "        graph_edges_dict[\"total_border\"].extend(neighbors[\"total_border\"])\n",
    "        graph_edges_dict[\"greatest_border\"].extend(neighbors[\"greatest_border\"])\n",
    "        graph_edges_dict[\"nb_borders\"].extend(neighbors[\"nb_borders\"])\n",
    "        graph_edges_dict[\"graph_id\"].extend([commune['COMM_ID']] * len(neighbors[\"src\"]))\n",
    "\n",
    "        i = i + 1\n",
    "\n",
    "    print(\"100%\")\n",
    "\n",
    "    graph_properties_df = pd.DataFrame(graph_properties_dict)\n",
    "    graph_nodes_df = pd.DataFrame(graph_nodes_dict)\n",
    "    graph_edges_df = pd.DataFrame(graph_edges_dict)\n",
    "\n",
    "    return graph_properties_df, graph_nodes_df, graph_edges_df"
   ],
   "metadata": {
    "collapsed": false,
    "pycharm": {
     "name": "#%%\n"
    }
   }
  },
  {
   "cell_type": "code",
   "execution_count": 34,
   "outputs": [],
   "source": [
    "clc_path = \"../data/raw_data/clc/u2018_clc2018_v2020_20u1_geoPackage/DATA/U2018_CLC2018_V2020_20u1.gpkg\"\n",
    "communes_dir = \"../data/communes/comm_17_1800\"\n",
    "communes_path = os.path.join(communes_dir, \"communes.gpkg\")"
   ],
   "metadata": {
    "collapsed": false,
    "pycharm": {
     "name": "#%%\n"
    }
   }
  },
  {
   "cell_type": "code",
   "execution_count": 9,
   "outputs": [
    {
     "name": "stdout",
     "output_type": "stream",
     "text": [
      "Number of instances : 30600\n",
      "0%...5%...10%...15%...20%...25%...30%...35%...40%...45%...50%...55%...60%...65%...70%...75%...80%...85%...90%...95%...100%\n"
     ]
    }
   ],
   "source": [
    "graph_properties, graph_nodes, graph_edges = generate_graph_data(clc_path, communes_path)\n",
    "\n",
    "graph_properties[\"label\"] = graph_properties[\"graph_id\"].str[:2].astype('category').cat.codes\n",
    "\n",
    "graph_properties.to_csv(os.path.join(communes_dir, \"graph_properties.csv\"))\n",
    "graph_nodes.to_csv(os.path.join(communes_dir, \"graph_nodes.csv\"))\n",
    "graph_edges.to_csv(os.path.join(communes_dir, \"graph_edges.csv\"))"
   ],
   "metadata": {
    "collapsed": false,
    "pycharm": {
     "name": "#%%\n"
    }
   }
  },
  {
   "cell_type": "markdown",
   "source": [
    "### Quelques statistiques"
   ],
   "metadata": {
    "collapsed": false
   }
  },
  {
   "cell_type": "code",
   "execution_count": 35,
   "outputs": [],
   "source": [
    "graph_properties = pd.read_csv(os.path.join(communes_dir, \"graph_properties.csv\"))\n",
    "graph_nodes = pd.read_csv(os.path.join(communes_dir, \"graph_nodes.csv\"))\n",
    "graph_edges = pd.read_csv(os.path.join(communes_dir, \"graph_edges.csv\"))"
   ],
   "metadata": {
    "collapsed": false,
    "pycharm": {
     "name": "#%%\n"
    }
   }
  },
  {
   "cell_type": "code",
   "execution_count": 36,
   "outputs": [],
   "source": [
    "# nombre d'instances\n",
    "instances = len(graph_properties)\n",
    "# nombre de classes\n",
    "classes = len(graph_properties['label'].astype('category').cat.categories)\n",
    "# nombre de noeuds en moyenne\n",
    "nodes_groups_sizes = graph_nodes.groupby('graph_id').size()\n",
    "min_nodes = np.round(nodes_groups_sizes.min(), 2)\n",
    "mean_nodes = np.round(nodes_groups_sizes.mean(), 2)\n",
    "max_nodes = np.round(nodes_groups_sizes.max(), 2)\n",
    "# nombre d'arcs en moyenne\n",
    "edges_groups_sizes = graph_edges.groupby('graph_id').size()\n",
    "min_edges = np.round(edges_groups_sizes.min(), 2)\n",
    "mean_edges = np.round(edges_groups_sizes.mean(), 2)\n",
    "max_edges = np.round(edges_groups_sizes.max(), 2)\n",
    "# nombre de labels distincts\n",
    "labels = len(graph_nodes['label'].astype('category').cat.categories)"
   ],
   "metadata": {
    "collapsed": false,
    "pycharm": {
     "name": "#%%\n"
    }
   }
  },
  {
   "cell_type": "code",
   "execution_count": 37,
   "outputs": [
    {
     "name": "stdout",
     "output_type": "stream",
     "text": [
      "# instances : 30600\n",
      "# classes : 17\n",
      "# nodes (min.) : 1\n",
      "# nodes (avg.) : 25.22\n",
      "# nodes (max.) : 597\n",
      "# edges (min.) : 1\n",
      "# edges (avg.) : 45.45\n",
      "# edges (max.) : 1410\n",
      "# distinct node labels : 44\n"
     ]
    }
   ],
   "source": [
    "print(f\"# instances : {instances}\")\n",
    "print(f\"# classes : {classes}\")\n",
    "print(f\"# nodes (min.) : {min_nodes}\")\n",
    "print(f\"# nodes (avg.) : {mean_nodes}\")\n",
    "print(f\"# nodes (max.) : {max_nodes}\")\n",
    "print(f\"# edges (min.) : {min_edges}\")\n",
    "print(f\"# edges (avg.) : {mean_edges}\")\n",
    "print(f\"# edges (max.) : {max_edges}\")\n",
    "print(f\"# distinct node labels : {labels}\")"
   ],
   "metadata": {
    "collapsed": false,
    "pycharm": {
     "name": "#%%\n"
    }
   }
  },
  {
   "cell_type": "markdown",
   "source": [
    "### Échantillonnage"
   ],
   "metadata": {
    "collapsed": false
   }
  },
  {
   "cell_type": "code",
   "execution_count": 38,
   "outputs": [],
   "source": [
    "# création d'un échantillon 5000 instances\n",
    "ech_properties = graph_properties.sample(frac=1).iloc[:2500]\n",
    "ech_nodes = graph_nodes[graph_nodes['graph_id'].isin(ech_properties['graph_id'])]\n",
    "ech_edges = graph_edges[graph_edges['graph_id'].isin(ech_properties['graph_id'])]"
   ],
   "metadata": {
    "collapsed": false,
    "pycharm": {
     "name": "#%%\n"
    }
   }
  },
  {
   "cell_type": "code",
   "execution_count": 39,
   "outputs": [],
   "source": [
    "# nombre d'instances\n",
    "instances = len(ech_properties)\n",
    "# nombre de classes\n",
    "classes = len(ech_properties['label'].astype('category').cat.categories)\n",
    "# nombre de noeuds en moyenne\n",
    "nodes_groups_sizes = ech_nodes.groupby('graph_id').size()\n",
    "min_nodes = np.round(nodes_groups_sizes.min(), 2)\n",
    "mean_nodes = np.round(nodes_groups_sizes.mean(), 2)\n",
    "max_nodes = np.round(nodes_groups_sizes.max(), 2)\n",
    "# nombre d'arcs en moyenne\n",
    "edges_groups_sizes = ech_edges.groupby('graph_id').size()\n",
    "min_edges = np.round(edges_groups_sizes.min(), 2)\n",
    "mean_edges = np.round(edges_groups_sizes.mean(), 2)\n",
    "max_edges = np.round(edges_groups_sizes.max(), 2)\n",
    "# nombre de labels distincts\n",
    "labels = len(ech_nodes['label'].astype('category').cat.categories)"
   ],
   "metadata": {
    "collapsed": false,
    "pycharm": {
     "name": "#%%\n"
    }
   }
  },
  {
   "cell_type": "code",
   "execution_count": 40,
   "outputs": [
    {
     "name": "stdout",
     "output_type": "stream",
     "text": [
      "# instances : 2500\n",
      "# classes : 17\n",
      "# nodes (min.) : 1\n",
      "# nodes (avg.) : 25.26\n",
      "# nodes (max.) : 273\n",
      "# edges (min.) : 1\n",
      "# edges (avg.) : 45.69\n",
      "# edges (max.) : 643\n",
      "# distinct node labels : 44\n"
     ]
    }
   ],
   "source": [
    "print(f\"# instances : {instances}\")\n",
    "print(f\"# classes : {classes}\")\n",
    "print(f\"# nodes (min.) : {min_nodes}\")\n",
    "print(f\"# nodes (avg.) : {mean_nodes}\")\n",
    "print(f\"# nodes (max.) : {max_nodes}\")\n",
    "print(f\"# edges (min.) : {min_edges}\")\n",
    "print(f\"# edges (avg.) : {mean_edges}\")\n",
    "print(f\"# edges (max.) : {max_edges}\")\n",
    "print(f\"# distinct node labels : {labels}\")"
   ],
   "metadata": {
    "collapsed": false,
    "pycharm": {
     "name": "#%%\n"
    }
   }
  },
  {
   "cell_type": "markdown",
   "source": [
    "### Création des graphes"
   ],
   "metadata": {
    "collapsed": false
   }
  },
  {
   "cell_type": "code",
   "execution_count": 41,
   "outputs": [],
   "source": [
    "# NetworkX dataset\n",
    "class NxClassDataset():\n",
    "    def __init__(self, properties, nodes, edges):\n",
    "        self.properties = properties\n",
    "        self.nodes = nodes\n",
    "        self.edges = edges\n",
    "        self.graphs = []\n",
    "        self.labels = []\n",
    "        self.ids = []\n",
    "        self.process()\n",
    "\n",
    "    def process(self):\n",
    "        # Create a graph for each graph ID from the edges table.\n",
    "        # First process the properties table into two dictionaries with graph IDs as keys.\n",
    "        # The label and number of nodes are values.\n",
    "        label_dict = {}\n",
    "        for _, row in self.properties.iterrows():\n",
    "            label_dict[row['graph_id']] = row['label']\n",
    "\n",
    "        # Group by graph IDs\n",
    "        edges_group = self.edges.groupby('graph_id')\n",
    "        nodes_group = self.nodes.groupby('graph_id')\n",
    "\n",
    "        # For each graph ID...\n",
    "        for graph_id in edges_group.groups:\n",
    "            edges_of_id = edges_group.get_group(graph_id)\n",
    "            nodes_of_id = nodes_group.get_group(graph_id)\n",
    "            label = label_dict[graph_id]\n",
    "\n",
    "            g = nx.Graph(label=label, id=graph_id)\n",
    "            for _, row in nodes_of_id.iterrows():\n",
    "                g.add_node(row['node_id'], feature=str(row['label']))\n",
    "            for _, row in edges_of_id.iterrows():\n",
    "                g.add_edge(row['src'], row['dest'], total_border=row['total_border'],\n",
    "                           greatest_border=row['greatest_border'],\n",
    "                           nb_borders=row['nb_borders'])\n",
    "\n",
    "            self.graphs.append(g)\n",
    "            self.labels.append(label)\n",
    "            self.ids.append(graph_id)\n",
    "\n",
    "    def __getitem__(self, i):\n",
    "        return self.graphs[i], self.labels[i], self.ids[i]\n",
    "\n",
    "    def get_graphs(self):\n",
    "        return self.graphs\n",
    "\n",
    "    def get_labels(self):\n",
    "        return self.labels\n",
    "\n",
    "    def get_ids(self):\n",
    "        return self.ids"
   ],
   "metadata": {
    "collapsed": false,
    "pycharm": {
     "name": "#%%\n"
    }
   }
  },
  {
   "cell_type": "code",
   "execution_count": 42,
   "outputs": [],
   "source": [
    "communes_nx_dataset = NxClassDataset(properties=ech_properties,\n",
    "                                     nodes=ech_nodes,\n",
    "                                     edges=ech_edges)"
   ],
   "metadata": {
    "collapsed": false,
    "pycharm": {
     "name": "#%%\n"
    }
   }
  },
  {
   "cell_type": "markdown",
   "source": [
    "### Visualisation des graphes"
   ],
   "metadata": {
    "collapsed": false
   }
  },
  {
   "cell_type": "code",
   "execution_count": 43,
   "outputs": [],
   "source": [
    "def draw_map_graph(nx_graph, gdf, column=None, legend=False, ax=None):\n",
    "    pos = {}\n",
    "    points = gdf.representative_point()\n",
    "    for i in range(len(gdf)):\n",
    "        area = gdf.iloc[i]\n",
    "        point = points.iloc[i]\n",
    "        pos[area['Node_ID']] = (point.x, point.y)\n",
    "\n",
    "    gdf.plot(column, legend=legend, ax=ax)\n",
    "    nx.draw(nx_graph, pos=pos, with_labels=True, ax=ax, node_color=[(0, 0, 0, 0.7)], font_color=\"white\")"
   ],
   "metadata": {
    "collapsed": false,
    "pycharm": {
     "name": "#%%\n"
    }
   }
  },
  {
   "cell_type": "code",
   "execution_count": 17,
   "outputs": [
    {
     "data": {
      "text/plain": "<Figure size 720x720 with 1 Axes>",
      "image/png": "[encoded data removed]"
     },
     "metadata": {},
     "output_type": "display_data"
    }
   ],
   "source": [
    "g_nx, g_label, g_id = communes_nx_dataset[5]\n",
    "f, ax = plt.subplots(figsize=(10, 10))\n",
    "communes = gpd.read_file(communes_path)\n",
    "commune = communes[communes['COMM_ID'] == g_id]\n",
    "gdf = preprocessing(gpd.read_file(clc_path, mask=commune['geometry']), commune)\n",
    "gdf.dissolve().exterior.plot(ax=ax, color=\"black\", linewidth=1)\n",
    "draw_map_graph(g_nx, gdf=gdf, column=np.array(range(len(gdf))), ax=ax)\n",
    "plt.title(f\"{g_id} - Superposition de la carte et du graphe\")\n",
    "plt.show()"
   ],
   "metadata": {
    "collapsed": false,
    "pycharm": {
     "name": "#%%\n"
    }
   }
  },
  {
   "cell_type": "markdown",
   "source": [
    "## Classification des graphes\n",
    "\n",
    "### Graph embedding"
   ],
   "metadata": {
    "collapsed": false
   }
  },
  {
   "cell_type": "code",
   "execution_count": 18,
   "outputs": [],
   "source": [
    "# karate club: https://karateclub.readthedocs.io/en/latest/index.html"
   ],
   "metadata": {
    "collapsed": false,
    "pycharm": {
     "name": "#%%\n"
    }
   }
  },
  {
   "cell_type": "code",
   "execution_count": 45,
   "outputs": [],
   "source": [
    "graphs = communes_nx_dataset.get_graphs()\n",
    "labels = np.array(communes_nx_dataset.get_labels())"
   ],
   "metadata": {
    "collapsed": false,
    "pycharm": {
     "name": "#%%\n"
    }
   }
  },
  {
   "cell_type": "code",
   "execution_count": 46,
   "outputs": [],
   "source": [
    "graph2vec = kc.Graph2Vec(epochs=100, attributed=True)\n",
    "graph2vec.fit(graphs)"
   ],
   "metadata": {
    "collapsed": false,
    "pycharm": {
     "name": "#%%\n"
    }
   }
  },
  {
   "cell_type": "code",
   "execution_count": 47,
   "outputs": [
    {
     "data": {
      "text/plain": "array([ 0.27415177, -0.06868446, -0.33472303,  0.24771538, -0.18375176,\n        0.03820599,  0.23999217, -0.4497961 , -0.07602786, -0.2599326 ,\n       -0.1586671 ,  0.3532228 , -0.4717651 , -0.07908452, -0.24804272,\n        0.05634255, -0.19637895, -0.24637312,  0.03120737,  0.09949216,\n       -0.176024  ,  0.04759078,  0.23814413, -0.14479268, -0.13971104,\n       -0.22142585,  0.05373291, -0.26142   , -0.17738439, -0.21667424,\n        0.01573996,  0.09748729,  0.10423452,  0.42197973, -0.20570414,\n        0.07837646, -0.09407911,  0.10360274, -0.1166483 ,  0.15702008,\n       -0.45479828,  0.11180934, -0.25636026, -0.25739828,  0.01714262,\n        0.13495882, -0.29474708,  0.04024161,  0.25722295,  0.1200195 ,\n        0.12994874, -0.00948463,  0.10530682, -0.35046506,  0.10401163,\n        0.13377522,  0.12778704, -0.1932558 ,  0.10187484,  0.2973681 ,\n       -0.05006002,  0.08825461,  0.01903657,  0.24632193,  0.07460295,\n       -0.1421827 , -0.03559141,  0.19202293,  0.35961717, -0.06184953,\n        0.07164776, -0.41424906,  0.1970898 ,  0.22779681,  0.23367934,\n       -0.3005818 , -0.21281546, -0.11055221, -0.01538778,  0.0268584 ,\n        0.15094481, -0.08680081, -0.16971518,  0.16068596,  0.152674  ,\n        0.28571385, -0.20147863,  0.04157434,  0.17404822, -0.03067552,\n        0.25829458, -0.2800662 ,  0.06843024,  0.13081463,  0.22435616,\n        0.29625514,  0.34240085,  0.06779283,  0.5168419 , -0.2917553 ,\n       -0.03411968, -0.13136919, -0.03748234, -0.09210677, -0.22025262,\n       -0.02945688,  0.16054767, -0.074224  ,  0.31943956, -0.00992036,\n       -0.1539767 ,  0.46731228,  0.27174717,  0.08354742, -0.10559771,\n        0.27693674, -0.4397016 ,  0.01259345, -0.14837432,  0.20420283,\n        0.03129528, -0.23797518,  0.067839  , -0.27538806, -0.43157202,\n        0.21674056, -0.1467568 , -0.08220243], dtype=float32)"
     },
     "execution_count": 47,
     "metadata": {},
     "output_type": "execute_result"
    }
   ],
   "source": [
    "g2v_dataset = graph2vec.get_embedding()\n",
    "g2v_dataset[0]"
   ],
   "metadata": {
    "collapsed": false,
    "pycharm": {
     "name": "#%%\n"
    }
   }
  },
  {
   "cell_type": "markdown",
   "source": [
    "### Classification"
   ],
   "metadata": {
    "collapsed": false
   }
  },
  {
   "cell_type": "code",
   "execution_count": 48,
   "outputs": [],
   "source": [
    "from sklearn.model_selection import train_test_split\n",
    "\n",
    "X_train, X_test, y_train, y_test = train_test_split(g2v_dataset, np.array(labels),\n",
    "                                                    test_size=0.2)"
   ],
   "metadata": {
    "collapsed": false,
    "pycharm": {
     "name": "#%%\n"
    }
   }
  },
  {
   "cell_type": "code",
   "execution_count": 49,
   "outputs": [],
   "source": [
    "from tensorflow import keras\n",
    "\n",
    "\n",
    "def make_model(input_shape):\n",
    "    return keras.models.Sequential([\n",
    "        keras.layers.Input(input_shape),\n",
    "        keras.layers.Dense(64, activation='relu'),\n",
    "        keras.layers.Dense(32, activation='relu'),\n",
    "        keras.layers.Dense(16, activation='relu', kernel_regularizer=keras.regularizers.l2(0.005)),\n",
    "        keras.layers.Dropout(rate=0.1),\n",
    "        keras.layers.Dense(17, activation='softmax')\n",
    "    ])"
   ],
   "metadata": {
    "collapsed": false,
    "pycharm": {
     "name": "#%%\n"
    }
   }
  },
  {
   "cell_type": "code",
   "execution_count": 50,
   "outputs": [],
   "source": [
    "model = make_model(X_train[0].shape)"
   ],
   "metadata": {
    "collapsed": false,
    "pycharm": {
     "name": "#%%\n"
    }
   }
  },
  {
   "cell_type": "code",
   "execution_count": 51,
   "outputs": [
    {
     "name": "stdout",
     "output_type": "stream",
     "text": [
      "Model: \"sequential_1\"\n",
      "_________________________________________________________________\n",
      " Layer (type)                Output Shape              Param #   \n",
      "=================================================================\n",
      " dense_4 (Dense)             (None, 64)                8256      \n",
      "                                                                 \n",
      " dense_5 (Dense)             (None, 32)                2080      \n",
      "                                                                 \n",
      " dense_6 (Dense)             (None, 16)                528       \n",
      "                                                                 \n",
      " dropout (Dropout)           (None, 16)                0         \n",
      "                                                                 \n",
      " dense_7 (Dense)             (None, 17)                289       \n",
      "                                                                 \n",
      "=================================================================\n",
      "Total params: 11,153\n",
      "Trainable params: 11,153\n",
      "Non-trainable params: 0\n",
      "_________________________________________________________________\n"
     ]
    }
   ],
   "source": [
    "model.summary()"
   ],
   "metadata": {
    "collapsed": false,
    "pycharm": {
     "name": "#%%\n"
    }
   }
  },
  {
   "cell_type": "code",
   "execution_count": 52,
   "outputs": [],
   "source": [
    "model.compile(optimizer=keras.optimizers.SGD(),\n",
    "              loss=keras.losses.SparseCategoricalCrossentropy(),\n",
    "              metrics=['accuracy'])"
   ],
   "metadata": {
    "collapsed": false,
    "pycharm": {
     "name": "#%%\n"
    }
   }
  },
  {
   "cell_type": "code",
   "execution_count": 53,
   "outputs": [
    {
     "name": "stdout",
     "output_type": "stream",
     "text": [
      "Epoch 1/1000\n",
      "50/50 [==============================] - 1s 5ms/step - loss: 2.9363 - accuracy: 0.0597 - val_loss: 2.9279 - val_accuracy: 0.0352\n",
      "Epoch 2/1000\n",
      "50/50 [==============================] - 0s 2ms/step - loss: 2.9241 - accuracy: 0.0478 - val_loss: 2.9177 - val_accuracy: 0.0377\n",
      "Epoch 3/1000\n",
      "50/50 [==============================] - 0s 2ms/step - loss: 2.9135 - accuracy: 0.0717 - val_loss: 2.9090 - val_accuracy: 0.0503\n",
      "Epoch 4/1000\n",
      "50/50 [==============================] - 0s 2ms/step - loss: 2.9042 - accuracy: 0.0792 - val_loss: 2.9006 - val_accuracy: 0.0528\n",
      "Epoch 5/1000\n",
      "50/50 [==============================] - 0s 2ms/step - loss: 2.8979 - accuracy: 0.0862 - val_loss: 2.8927 - val_accuracy: 0.0603\n",
      "Epoch 6/1000\n",
      "50/50 [==============================] - 0s 2ms/step - loss: 2.8880 - accuracy: 0.0969 - val_loss: 2.8846 - val_accuracy: 0.0804\n",
      "Epoch 7/1000\n",
      "50/50 [==============================] - 0s 2ms/step - loss: 2.8786 - accuracy: 0.1082 - val_loss: 2.8759 - val_accuracy: 0.0879\n",
      "Epoch 8/1000\n",
      "50/50 [==============================] - 0s 2ms/step - loss: 2.8680 - accuracy: 0.1132 - val_loss: 2.8673 - val_accuracy: 0.0905\n",
      "Epoch 9/1000\n",
      "50/50 [==============================] - 0s 2ms/step - loss: 2.8554 - accuracy: 0.1138 - val_loss: 2.8584 - val_accuracy: 0.0879\n",
      "Epoch 10/1000\n",
      "50/50 [==============================] - 0s 2ms/step - loss: 2.8437 - accuracy: 0.1270 - val_loss: 2.8485 - val_accuracy: 0.1005\n",
      "Epoch 11/1000\n",
      "50/50 [==============================] - 0s 2ms/step - loss: 2.8321 - accuracy: 0.1352 - val_loss: 2.8374 - val_accuracy: 0.1080\n",
      "Epoch 12/1000\n",
      "50/50 [==============================] - 0s 2ms/step - loss: 2.8250 - accuracy: 0.1346 - val_loss: 2.8259 - val_accuracy: 0.1281\n",
      "Epoch 13/1000\n",
      "50/50 [==============================] - 0s 2ms/step - loss: 2.8079 - accuracy: 0.1541 - val_loss: 2.8140 - val_accuracy: 0.1432\n",
      "Epoch 14/1000\n",
      "50/50 [==============================] - 0s 2ms/step - loss: 2.7938 - accuracy: 0.1522 - val_loss: 2.8009 - val_accuracy: 0.1558\n",
      "Epoch 15/1000\n",
      "50/50 [==============================] - 0s 2ms/step - loss: 2.7794 - accuracy: 0.1704 - val_loss: 2.7870 - val_accuracy: 0.1734\n",
      "Epoch 16/1000\n",
      "50/50 [==============================] - 0s 2ms/step - loss: 2.7635 - accuracy: 0.1818 - val_loss: 2.7716 - val_accuracy: 0.1884\n",
      "Epoch 17/1000\n",
      "50/50 [==============================] - 0s 2ms/step - loss: 2.7495 - accuracy: 0.1868 - val_loss: 2.7544 - val_accuracy: 0.2136\n",
      "Epoch 18/1000\n",
      "50/50 [==============================] - 0s 2ms/step - loss: 2.7238 - accuracy: 0.2082 - val_loss: 2.7365 - val_accuracy: 0.2337\n",
      "Epoch 19/1000\n",
      "50/50 [==============================] - 0s 2ms/step - loss: 2.7025 - accuracy: 0.2170 - val_loss: 2.7184 - val_accuracy: 0.2362\n",
      "Epoch 20/1000\n",
      "50/50 [==============================] - 0s 2ms/step - loss: 2.6773 - accuracy: 0.2214 - val_loss: 2.6984 - val_accuracy: 0.2437\n",
      "Epoch 21/1000\n",
      "50/50 [==============================] - 0s 2ms/step - loss: 2.6520 - accuracy: 0.2289 - val_loss: 2.6782 - val_accuracy: 0.2437\n",
      "Epoch 22/1000\n",
      "50/50 [==============================] - 0s 2ms/step - loss: 2.6266 - accuracy: 0.2346 - val_loss: 2.6574 - val_accuracy: 0.2462\n",
      "Epoch 23/1000\n",
      "50/50 [==============================] - 0s 2ms/step - loss: 2.6040 - accuracy: 0.2491 - val_loss: 2.6364 - val_accuracy: 0.2462\n",
      "Epoch 24/1000\n",
      "50/50 [==============================] - 0s 2ms/step - loss: 2.5746 - accuracy: 0.2610 - val_loss: 2.6140 - val_accuracy: 0.2462\n",
      "Epoch 25/1000\n",
      "50/50 [==============================] - 0s 3ms/step - loss: 2.5559 - accuracy: 0.2522 - val_loss: 2.5928 - val_accuracy: 0.2513\n",
      "Epoch 26/1000\n",
      "50/50 [==============================] - 0s 3ms/step - loss: 2.5230 - accuracy: 0.2648 - val_loss: 2.5694 - val_accuracy: 0.2588\n",
      "Epoch 27/1000\n",
      "50/50 [==============================] - 0s 3ms/step - loss: 2.5014 - accuracy: 0.2673 - val_loss: 2.5471 - val_accuracy: 0.2588\n",
      "Epoch 28/1000\n",
      "50/50 [==============================] - 0s 3ms/step - loss: 2.4716 - accuracy: 0.2761 - val_loss: 2.5258 - val_accuracy: 0.2638\n",
      "Epoch 29/1000\n",
      "50/50 [==============================] - 0s 2ms/step - loss: 2.4483 - accuracy: 0.2824 - val_loss: 2.5015 - val_accuracy: 0.2739\n",
      "Epoch 30/1000\n",
      "50/50 [==============================] - 0s 2ms/step - loss: 2.4094 - accuracy: 0.2906 - val_loss: 2.4791 - val_accuracy: 0.2739\n",
      "Epoch 31/1000\n",
      "50/50 [==============================] - 0s 2ms/step - loss: 2.3942 - accuracy: 0.2912 - val_loss: 2.4555 - val_accuracy: 0.2764\n",
      "Epoch 32/1000\n",
      "50/50 [==============================] - 0s 2ms/step - loss: 2.3577 - accuracy: 0.3006 - val_loss: 2.4320 - val_accuracy: 0.2789\n",
      "Epoch 33/1000\n",
      "50/50 [==============================] - 0s 2ms/step - loss: 2.3304 - accuracy: 0.3063 - val_loss: 2.4077 - val_accuracy: 0.2789\n",
      "Epoch 34/1000\n",
      "50/50 [==============================] - 0s 2ms/step - loss: 2.3061 - accuracy: 0.3151 - val_loss: 2.3842 - val_accuracy: 0.2915\n",
      "Epoch 35/1000\n",
      "50/50 [==============================] - 0s 2ms/step - loss: 2.2798 - accuracy: 0.3371 - val_loss: 2.3647 - val_accuracy: 0.2990\n",
      "Epoch 36/1000\n",
      "50/50 [==============================] - 0s 2ms/step - loss: 2.2581 - accuracy: 0.3220 - val_loss: 2.3398 - val_accuracy: 0.3191\n",
      "Epoch 37/1000\n",
      "50/50 [==============================] - 0s 2ms/step - loss: 2.2424 - accuracy: 0.3258 - val_loss: 2.3190 - val_accuracy: 0.3216\n",
      "Epoch 38/1000\n",
      "50/50 [==============================] - 0s 2ms/step - loss: 2.2015 - accuracy: 0.3440 - val_loss: 2.2974 - val_accuracy: 0.3266\n",
      "Epoch 39/1000\n",
      "50/50 [==============================] - 0s 2ms/step - loss: 2.1902 - accuracy: 0.3484 - val_loss: 2.2741 - val_accuracy: 0.3367\n",
      "Epoch 40/1000\n",
      "50/50 [==============================] - 0s 3ms/step - loss: 2.1624 - accuracy: 0.3654 - val_loss: 2.2521 - val_accuracy: 0.3467\n",
      "Epoch 41/1000\n",
      "50/50 [==============================] - 0s 2ms/step - loss: 2.1386 - accuracy: 0.3642 - val_loss: 2.2332 - val_accuracy: 0.3518\n",
      "Epoch 42/1000\n",
      "50/50 [==============================] - 0s 2ms/step - loss: 2.1262 - accuracy: 0.3742 - val_loss: 2.2128 - val_accuracy: 0.3618\n",
      "Epoch 43/1000\n",
      "50/50 [==============================] - 0s 2ms/step - loss: 2.0986 - accuracy: 0.3774 - val_loss: 2.1956 - val_accuracy: 0.3844\n",
      "Epoch 44/1000\n",
      "50/50 [==============================] - 0s 2ms/step - loss: 2.0765 - accuracy: 0.3887 - val_loss: 2.1739 - val_accuracy: 0.3894\n",
      "Epoch 45/1000\n",
      "50/50 [==============================] - 0s 2ms/step - loss: 2.0788 - accuracy: 0.3786 - val_loss: 2.1570 - val_accuracy: 0.3894\n",
      "Epoch 46/1000\n",
      "50/50 [==============================] - 0s 2ms/step - loss: 2.0287 - accuracy: 0.4082 - val_loss: 2.1393 - val_accuracy: 0.3945\n",
      "Epoch 47/1000\n",
      "50/50 [==============================] - 0s 2ms/step - loss: 2.0248 - accuracy: 0.3962 - val_loss: 2.1194 - val_accuracy: 0.3995\n",
      "Epoch 48/1000\n",
      "50/50 [==============================] - 0s 2ms/step - loss: 1.9987 - accuracy: 0.3987 - val_loss: 2.1010 - val_accuracy: 0.4095\n",
      "Epoch 49/1000\n",
      "50/50 [==============================] - 0s 2ms/step - loss: 1.9911 - accuracy: 0.4164 - val_loss: 2.0868 - val_accuracy: 0.4070\n",
      "Epoch 50/1000\n",
      "50/50 [==============================] - 0s 2ms/step - loss: 1.9679 - accuracy: 0.4138 - val_loss: 2.0699 - val_accuracy: 0.4095\n",
      "Epoch 51/1000\n",
      "50/50 [==============================] - 0s 2ms/step - loss: 1.9432 - accuracy: 0.4264 - val_loss: 2.0506 - val_accuracy: 0.4070\n",
      "Epoch 52/1000\n",
      "50/50 [==============================] - 0s 2ms/step - loss: 1.9326 - accuracy: 0.4352 - val_loss: 2.0405 - val_accuracy: 0.4095\n",
      "Epoch 53/1000\n",
      "50/50 [==============================] - 0s 2ms/step - loss: 1.9143 - accuracy: 0.4321 - val_loss: 2.0189 - val_accuracy: 0.4196\n",
      "Epoch 54/1000\n",
      "50/50 [==============================] - 0s 2ms/step - loss: 1.9028 - accuracy: 0.4283 - val_loss: 2.0051 - val_accuracy: 0.4246\n",
      "Epoch 55/1000\n",
      "50/50 [==============================] - 0s 2ms/step - loss: 1.8806 - accuracy: 0.4390 - val_loss: 1.9911 - val_accuracy: 0.4322\n",
      "Epoch 56/1000\n",
      "50/50 [==============================] - 0s 2ms/step - loss: 1.8758 - accuracy: 0.4403 - val_loss: 1.9783 - val_accuracy: 0.4347\n",
      "Epoch 57/1000\n",
      "50/50 [==============================] - 0s 2ms/step - loss: 1.8615 - accuracy: 0.4491 - val_loss: 1.9652 - val_accuracy: 0.4271\n",
      "Epoch 58/1000\n",
      "50/50 [==============================] - 0s 2ms/step - loss: 1.8508 - accuracy: 0.4484 - val_loss: 1.9547 - val_accuracy: 0.4372\n",
      "Epoch 59/1000\n",
      "50/50 [==============================] - 0s 2ms/step - loss: 1.8278 - accuracy: 0.4428 - val_loss: 1.9407 - val_accuracy: 0.4372\n",
      "Epoch 60/1000\n",
      "50/50 [==============================] - 0s 2ms/step - loss: 1.8106 - accuracy: 0.4465 - val_loss: 1.9284 - val_accuracy: 0.4397\n",
      "Epoch 61/1000\n",
      "50/50 [==============================] - 0s 2ms/step - loss: 1.8083 - accuracy: 0.4491 - val_loss: 1.9256 - val_accuracy: 0.4397\n",
      "Epoch 62/1000\n",
      "50/50 [==============================] - 0s 2ms/step - loss: 1.8052 - accuracy: 0.4434 - val_loss: 1.9139 - val_accuracy: 0.4548\n",
      "Epoch 63/1000\n",
      "50/50 [==============================] - 0s 2ms/step - loss: 1.7866 - accuracy: 0.4535 - val_loss: 1.9046 - val_accuracy: 0.4372\n",
      "Epoch 64/1000\n",
      "50/50 [==============================] - 0s 2ms/step - loss: 1.7671 - accuracy: 0.4522 - val_loss: 1.8933 - val_accuracy: 0.4447\n",
      "Epoch 65/1000\n",
      "50/50 [==============================] - 0s 2ms/step - loss: 1.7418 - accuracy: 0.4704 - val_loss: 1.8885 - val_accuracy: 0.4447\n",
      "Epoch 66/1000\n",
      "50/50 [==============================] - 0s 3ms/step - loss: 1.7496 - accuracy: 0.4761 - val_loss: 1.8783 - val_accuracy: 0.4372\n",
      "Epoch 67/1000\n",
      "50/50 [==============================] - 0s 2ms/step - loss: 1.7446 - accuracy: 0.4667 - val_loss: 1.8670 - val_accuracy: 0.4523\n",
      "Epoch 68/1000\n",
      "50/50 [==============================] - 0s 2ms/step - loss: 1.7368 - accuracy: 0.4654 - val_loss: 1.8597 - val_accuracy: 0.4548\n",
      "Epoch 69/1000\n",
      "50/50 [==============================] - 0s 2ms/step - loss: 1.7231 - accuracy: 0.4748 - val_loss: 1.8502 - val_accuracy: 0.4497\n",
      "Epoch 70/1000\n",
      "50/50 [==============================] - 0s 2ms/step - loss: 1.7385 - accuracy: 0.4629 - val_loss: 1.8423 - val_accuracy: 0.4472\n",
      "Epoch 71/1000\n",
      "50/50 [==============================] - 0s 2ms/step - loss: 1.7097 - accuracy: 0.4824 - val_loss: 1.8431 - val_accuracy: 0.4497\n",
      "Epoch 72/1000\n",
      "50/50 [==============================] - 0s 2ms/step - loss: 1.7006 - accuracy: 0.4906 - val_loss: 1.8329 - val_accuracy: 0.4372\n",
      "Epoch 73/1000\n",
      "50/50 [==============================] - 0s 2ms/step - loss: 1.7229 - accuracy: 0.4610 - val_loss: 1.8331 - val_accuracy: 0.4422\n",
      "Epoch 74/1000\n",
      "50/50 [==============================] - 0s 2ms/step - loss: 1.6830 - accuracy: 0.4969 - val_loss: 1.8251 - val_accuracy: 0.4472\n",
      "Epoch 75/1000\n",
      "50/50 [==============================] - 0s 2ms/step - loss: 1.6952 - accuracy: 0.4937 - val_loss: 1.8240 - val_accuracy: 0.4523\n",
      "Epoch 76/1000\n",
      "50/50 [==============================] - 0s 2ms/step - loss: 1.6494 - accuracy: 0.5075 - val_loss: 1.8122 - val_accuracy: 0.4548\n",
      "Epoch 77/1000\n",
      "50/50 [==============================] - 0s 2ms/step - loss: 1.6648 - accuracy: 0.4937 - val_loss: 1.8048 - val_accuracy: 0.4573\n",
      "Epoch 78/1000\n",
      "50/50 [==============================] - 0s 2ms/step - loss: 1.6685 - accuracy: 0.4981 - val_loss: 1.8036 - val_accuracy: 0.4623\n",
      "Epoch 79/1000\n",
      "50/50 [==============================] - 0s 2ms/step - loss: 1.6732 - accuracy: 0.4962 - val_loss: 1.8040 - val_accuracy: 0.4648\n",
      "Epoch 80/1000\n",
      "50/50 [==============================] - 0s 2ms/step - loss: 1.6649 - accuracy: 0.4943 - val_loss: 1.7999 - val_accuracy: 0.4573\n",
      "Epoch 81/1000\n",
      "50/50 [==============================] - 0s 2ms/step - loss: 1.6396 - accuracy: 0.5050 - val_loss: 1.7939 - val_accuracy: 0.4548\n",
      "Epoch 82/1000\n",
      "50/50 [==============================] - 0s 2ms/step - loss: 1.6340 - accuracy: 0.5107 - val_loss: 1.7873 - val_accuracy: 0.4623\n",
      "Epoch 83/1000\n",
      "50/50 [==============================] - 0s 2ms/step - loss: 1.6337 - accuracy: 0.5126 - val_loss: 1.7839 - val_accuracy: 0.4573\n",
      "Epoch 84/1000\n",
      "50/50 [==============================] - 0s 2ms/step - loss: 1.6218 - accuracy: 0.4987 - val_loss: 1.7757 - val_accuracy: 0.4623\n",
      "Epoch 85/1000\n",
      "50/50 [==============================] - 0s 2ms/step - loss: 1.6222 - accuracy: 0.5038 - val_loss: 1.7774 - val_accuracy: 0.4824\n",
      "Epoch 86/1000\n",
      "50/50 [==============================] - 0s 2ms/step - loss: 1.5995 - accuracy: 0.5119 - val_loss: 1.7693 - val_accuracy: 0.4749\n",
      "Epoch 87/1000\n",
      "50/50 [==============================] - 0s 2ms/step - loss: 1.6015 - accuracy: 0.5252 - val_loss: 1.7598 - val_accuracy: 0.4724\n",
      "Epoch 88/1000\n",
      "50/50 [==============================] - 0s 2ms/step - loss: 1.6131 - accuracy: 0.5132 - val_loss: 1.7618 - val_accuracy: 0.4673\n",
      "Epoch 89/1000\n",
      "50/50 [==============================] - 0s 2ms/step - loss: 1.5991 - accuracy: 0.5132 - val_loss: 1.7584 - val_accuracy: 0.4724\n",
      "Epoch 90/1000\n",
      "50/50 [==============================] - 0s 2ms/step - loss: 1.5872 - accuracy: 0.5025 - val_loss: 1.7542 - val_accuracy: 0.4824\n",
      "Epoch 91/1000\n",
      "50/50 [==============================] - 0s 2ms/step - loss: 1.5739 - accuracy: 0.5283 - val_loss: 1.7542 - val_accuracy: 0.4849\n",
      "Epoch 92/1000\n",
      "50/50 [==============================] - 0s 2ms/step - loss: 1.5647 - accuracy: 0.5201 - val_loss: 1.7556 - val_accuracy: 0.4824\n",
      "Epoch 93/1000\n",
      "50/50 [==============================] - 0s 2ms/step - loss: 1.5777 - accuracy: 0.5201 - val_loss: 1.7453 - val_accuracy: 0.4698\n",
      "Epoch 94/1000\n",
      "50/50 [==============================] - 0s 3ms/step - loss: 1.5668 - accuracy: 0.5157 - val_loss: 1.7476 - val_accuracy: 0.4824\n",
      "Epoch 95/1000\n",
      "50/50 [==============================] - 0s 2ms/step - loss: 1.5804 - accuracy: 0.5101 - val_loss: 1.7399 - val_accuracy: 0.4749\n",
      "Epoch 96/1000\n",
      "50/50 [==============================] - 0s 2ms/step - loss: 1.5683 - accuracy: 0.5214 - val_loss: 1.7391 - val_accuracy: 0.4824\n",
      "Epoch 97/1000\n",
      "50/50 [==============================] - 0s 2ms/step - loss: 1.5527 - accuracy: 0.5296 - val_loss: 1.7324 - val_accuracy: 0.4874\n",
      "Epoch 98/1000\n",
      "50/50 [==============================] - 0s 2ms/step - loss: 1.5476 - accuracy: 0.5277 - val_loss: 1.7364 - val_accuracy: 0.4874\n",
      "Epoch 99/1000\n",
      "50/50 [==============================] - 0s 2ms/step - loss: 1.5460 - accuracy: 0.5270 - val_loss: 1.7381 - val_accuracy: 0.4950\n",
      "Epoch 100/1000\n",
      "50/50 [==============================] - 0s 2ms/step - loss: 1.5401 - accuracy: 0.5239 - val_loss: 1.7256 - val_accuracy: 0.4824\n",
      "Epoch 101/1000\n",
      "50/50 [==============================] - 0s 2ms/step - loss: 1.5357 - accuracy: 0.5302 - val_loss: 1.7232 - val_accuracy: 0.4874\n",
      "Epoch 102/1000\n",
      "50/50 [==============================] - 0s 2ms/step - loss: 1.5317 - accuracy: 0.5365 - val_loss: 1.7217 - val_accuracy: 0.4799\n",
      "Epoch 103/1000\n",
      "50/50 [==============================] - 0s 2ms/step - loss: 1.5336 - accuracy: 0.5358 - val_loss: 1.7239 - val_accuracy: 0.4899\n",
      "Epoch 104/1000\n",
      "50/50 [==============================] - 0s 2ms/step - loss: 1.5243 - accuracy: 0.5365 - val_loss: 1.7161 - val_accuracy: 0.4950\n",
      "Epoch 105/1000\n",
      "50/50 [==============================] - 0s 2ms/step - loss: 1.5414 - accuracy: 0.5358 - val_loss: 1.7104 - val_accuracy: 0.4774\n",
      "Epoch 106/1000\n",
      "50/50 [==============================] - 0s 2ms/step - loss: 1.5263 - accuracy: 0.5176 - val_loss: 1.7173 - val_accuracy: 0.4799\n",
      "Epoch 107/1000\n",
      "50/50 [==============================] - 0s 2ms/step - loss: 1.5148 - accuracy: 0.5403 - val_loss: 1.7144 - val_accuracy: 0.4874\n",
      "Epoch 108/1000\n",
      "50/50 [==============================] - 0s 2ms/step - loss: 1.5131 - accuracy: 0.5459 - val_loss: 1.7058 - val_accuracy: 0.4975\n",
      "Epoch 109/1000\n",
      "50/50 [==============================] - 0s 2ms/step - loss: 1.5023 - accuracy: 0.5396 - val_loss: 1.7025 - val_accuracy: 0.5000\n",
      "Epoch 110/1000\n",
      "50/50 [==============================] - 0s 2ms/step - loss: 1.5056 - accuracy: 0.5465 - val_loss: 1.7001 - val_accuracy: 0.5000\n",
      "Epoch 111/1000\n",
      "50/50 [==============================] - 0s 2ms/step - loss: 1.4817 - accuracy: 0.5591 - val_loss: 1.7026 - val_accuracy: 0.4899\n",
      "Epoch 112/1000\n",
      "50/50 [==============================] - 0s 2ms/step - loss: 1.4855 - accuracy: 0.5516 - val_loss: 1.6955 - val_accuracy: 0.4899\n",
      "Epoch 113/1000\n",
      "50/50 [==============================] - 0s 3ms/step - loss: 1.4832 - accuracy: 0.5547 - val_loss: 1.6980 - val_accuracy: 0.4925\n",
      "Epoch 114/1000\n",
      "50/50 [==============================] - 0s 3ms/step - loss: 1.4688 - accuracy: 0.5629 - val_loss: 1.6924 - val_accuracy: 0.4899\n",
      "Epoch 115/1000\n",
      "50/50 [==============================] - 0s 2ms/step - loss: 1.4843 - accuracy: 0.5384 - val_loss: 1.6855 - val_accuracy: 0.4975\n",
      "Epoch 116/1000\n",
      "50/50 [==============================] - 0s 2ms/step - loss: 1.4650 - accuracy: 0.5623 - val_loss: 1.6854 - val_accuracy: 0.4950\n",
      "Epoch 117/1000\n",
      "50/50 [==============================] - 0s 2ms/step - loss: 1.4719 - accuracy: 0.5541 - val_loss: 1.6880 - val_accuracy: 0.5025\n",
      "Epoch 118/1000\n",
      "50/50 [==============================] - 0s 2ms/step - loss: 1.4621 - accuracy: 0.5667 - val_loss: 1.6889 - val_accuracy: 0.5050\n",
      "Epoch 119/1000\n",
      "50/50 [==============================] - 0s 2ms/step - loss: 1.4655 - accuracy: 0.5604 - val_loss: 1.6868 - val_accuracy: 0.5000\n",
      "Epoch 120/1000\n",
      "50/50 [==============================] - 0s 2ms/step - loss: 1.4657 - accuracy: 0.5522 - val_loss: 1.6884 - val_accuracy: 0.5025\n",
      "Epoch 121/1000\n",
      "50/50 [==============================] - 0s 2ms/step - loss: 1.4564 - accuracy: 0.5459 - val_loss: 1.6780 - val_accuracy: 0.4975\n",
      "Epoch 122/1000\n",
      "50/50 [==============================] - 0s 2ms/step - loss: 1.4414 - accuracy: 0.5623 - val_loss: 1.6833 - val_accuracy: 0.5025\n",
      "Epoch 123/1000\n",
      "50/50 [==============================] - 0s 2ms/step - loss: 1.4233 - accuracy: 0.5761 - val_loss: 1.6771 - val_accuracy: 0.4925\n",
      "Epoch 124/1000\n",
      "50/50 [==============================] - 0s 2ms/step - loss: 1.4528 - accuracy: 0.5597 - val_loss: 1.6768 - val_accuracy: 0.5201\n",
      "Epoch 125/1000\n",
      "50/50 [==============================] - 0s 2ms/step - loss: 1.4305 - accuracy: 0.5711 - val_loss: 1.6708 - val_accuracy: 0.4975\n",
      "Epoch 126/1000\n",
      "50/50 [==============================] - 0s 2ms/step - loss: 1.4229 - accuracy: 0.5704 - val_loss: 1.6668 - val_accuracy: 0.4975\n",
      "Epoch 127/1000\n",
      "50/50 [==============================] - 0s 2ms/step - loss: 1.4332 - accuracy: 0.5679 - val_loss: 1.6709 - val_accuracy: 0.5025\n",
      "Epoch 128/1000\n",
      "50/50 [==============================] - 0s 2ms/step - loss: 1.4309 - accuracy: 0.5654 - val_loss: 1.6643 - val_accuracy: 0.5025\n",
      "Epoch 129/1000\n",
      "50/50 [==============================] - 0s 2ms/step - loss: 1.3931 - accuracy: 0.5830 - val_loss: 1.6630 - val_accuracy: 0.5000\n",
      "Epoch 130/1000\n",
      "50/50 [==============================] - 0s 2ms/step - loss: 1.4562 - accuracy: 0.5579 - val_loss: 1.6656 - val_accuracy: 0.5101\n",
      "Epoch 131/1000\n",
      "50/50 [==============================] - 0s 2ms/step - loss: 1.4370 - accuracy: 0.5604 - val_loss: 1.6606 - val_accuracy: 0.5176\n",
      "Epoch 132/1000\n",
      "50/50 [==============================] - 0s 2ms/step - loss: 1.4251 - accuracy: 0.5635 - val_loss: 1.6613 - val_accuracy: 0.4975\n",
      "Epoch 133/1000\n",
      "50/50 [==============================] - 0s 2ms/step - loss: 1.4059 - accuracy: 0.5742 - val_loss: 1.6609 - val_accuracy: 0.4899\n",
      "Epoch 134/1000\n",
      "50/50 [==============================] - 0s 2ms/step - loss: 1.4038 - accuracy: 0.5849 - val_loss: 1.6564 - val_accuracy: 0.5151\n",
      "Epoch 135/1000\n",
      "50/50 [==============================] - 0s 2ms/step - loss: 1.3929 - accuracy: 0.5811 - val_loss: 1.6530 - val_accuracy: 0.5050\n",
      "Epoch 136/1000\n",
      "50/50 [==============================] - 0s 2ms/step - loss: 1.4050 - accuracy: 0.5805 - val_loss: 1.6518 - val_accuracy: 0.5075\n",
      "Epoch 137/1000\n",
      "50/50 [==============================] - 0s 2ms/step - loss: 1.3865 - accuracy: 0.5736 - val_loss: 1.6524 - val_accuracy: 0.5176\n",
      "Epoch 138/1000\n",
      "50/50 [==============================] - 0s 2ms/step - loss: 1.3953 - accuracy: 0.5855 - val_loss: 1.6476 - val_accuracy: 0.5126\n",
      "Epoch 139/1000\n",
      "50/50 [==============================] - 0s 2ms/step - loss: 1.3889 - accuracy: 0.5836 - val_loss: 1.6482 - val_accuracy: 0.5126\n",
      "Epoch 140/1000\n",
      "50/50 [==============================] - 0s 2ms/step - loss: 1.3955 - accuracy: 0.5893 - val_loss: 1.6481 - val_accuracy: 0.5126\n",
      "Epoch 141/1000\n",
      "50/50 [==============================] - 0s 2ms/step - loss: 1.3860 - accuracy: 0.5748 - val_loss: 1.6456 - val_accuracy: 0.5226\n",
      "Epoch 142/1000\n",
      "50/50 [==============================] - 0s 2ms/step - loss: 1.3959 - accuracy: 0.5799 - val_loss: 1.6376 - val_accuracy: 0.5101\n",
      "Epoch 143/1000\n",
      "50/50 [==============================] - 0s 2ms/step - loss: 1.3719 - accuracy: 0.5868 - val_loss: 1.6367 - val_accuracy: 0.5101\n",
      "Epoch 144/1000\n",
      "50/50 [==============================] - 0s 2ms/step - loss: 1.3627 - accuracy: 0.5943 - val_loss: 1.6389 - val_accuracy: 0.5126\n",
      "Epoch 145/1000\n",
      "50/50 [==============================] - 0s 2ms/step - loss: 1.3653 - accuracy: 0.5925 - val_loss: 1.6411 - val_accuracy: 0.5201\n",
      "Epoch 146/1000\n",
      "50/50 [==============================] - 0s 2ms/step - loss: 1.3763 - accuracy: 0.5969 - val_loss: 1.6361 - val_accuracy: 0.5176\n",
      "Epoch 147/1000\n",
      "50/50 [==============================] - 0s 2ms/step - loss: 1.3582 - accuracy: 0.5969 - val_loss: 1.6359 - val_accuracy: 0.5101\n",
      "Epoch 148/1000\n",
      "50/50 [==============================] - 0s 2ms/step - loss: 1.3511 - accuracy: 0.5969 - val_loss: 1.6312 - val_accuracy: 0.5176\n",
      "Epoch 149/1000\n",
      "50/50 [==============================] - 0s 2ms/step - loss: 1.3497 - accuracy: 0.6025 - val_loss: 1.6229 - val_accuracy: 0.5201\n",
      "Epoch 150/1000\n",
      "50/50 [==============================] - 0s 2ms/step - loss: 1.3718 - accuracy: 0.5887 - val_loss: 1.6315 - val_accuracy: 0.5201\n",
      "Epoch 151/1000\n",
      "50/50 [==============================] - 0s 2ms/step - loss: 1.3395 - accuracy: 0.5925 - val_loss: 1.6261 - val_accuracy: 0.5201\n",
      "Epoch 152/1000\n",
      "50/50 [==============================] - 0s 2ms/step - loss: 1.3448 - accuracy: 0.6000 - val_loss: 1.6292 - val_accuracy: 0.5101\n",
      "Epoch 153/1000\n",
      "50/50 [==============================] - 0s 2ms/step - loss: 1.3374 - accuracy: 0.5937 - val_loss: 1.6256 - val_accuracy: 0.5201\n",
      "Epoch 154/1000\n",
      "50/50 [==============================] - 0s 2ms/step - loss: 1.3369 - accuracy: 0.5950 - val_loss: 1.6305 - val_accuracy: 0.5201\n",
      "Epoch 155/1000\n",
      "50/50 [==============================] - 0s 2ms/step - loss: 1.3618 - accuracy: 0.5849 - val_loss: 1.6256 - val_accuracy: 0.5201\n",
      "Epoch 156/1000\n",
      "50/50 [==============================] - 0s 2ms/step - loss: 1.3243 - accuracy: 0.5969 - val_loss: 1.6155 - val_accuracy: 0.5276\n",
      "Epoch 157/1000\n",
      "50/50 [==============================] - 0s 2ms/step - loss: 1.3137 - accuracy: 0.6107 - val_loss: 1.6217 - val_accuracy: 0.5276\n",
      "Epoch 158/1000\n",
      "50/50 [==============================] - 0s 2ms/step - loss: 1.3283 - accuracy: 0.6013 - val_loss: 1.6217 - val_accuracy: 0.5151\n",
      "Epoch 159/1000\n",
      "50/50 [==============================] - 0s 2ms/step - loss: 1.3256 - accuracy: 0.6019 - val_loss: 1.6110 - val_accuracy: 0.5276\n",
      "Epoch 160/1000\n",
      "50/50 [==============================] - 0s 2ms/step - loss: 1.3222 - accuracy: 0.6044 - val_loss: 1.6186 - val_accuracy: 0.5276\n",
      "Epoch 161/1000\n",
      "50/50 [==============================] - 0s 2ms/step - loss: 1.3268 - accuracy: 0.6057 - val_loss: 1.6274 - val_accuracy: 0.5302\n",
      "Epoch 162/1000\n",
      "50/50 [==============================] - 0s 2ms/step - loss: 1.3144 - accuracy: 0.6094 - val_loss: 1.6190 - val_accuracy: 0.5226\n",
      "Epoch 163/1000\n",
      "50/50 [==============================] - 0s 2ms/step - loss: 1.3352 - accuracy: 0.5925 - val_loss: 1.6179 - val_accuracy: 0.5302\n",
      "Epoch 164/1000\n",
      "50/50 [==============================] - 0s 2ms/step - loss: 1.3230 - accuracy: 0.6025 - val_loss: 1.6056 - val_accuracy: 0.5352\n",
      "Epoch 165/1000\n",
      "50/50 [==============================] - 0s 2ms/step - loss: 1.2990 - accuracy: 0.6057 - val_loss: 1.6048 - val_accuracy: 0.5302\n",
      "Epoch 166/1000\n",
      "50/50 [==============================] - 0s 2ms/step - loss: 1.2965 - accuracy: 0.6013 - val_loss: 1.6087 - val_accuracy: 0.5276\n",
      "Epoch 167/1000\n",
      "50/50 [==============================] - 0s 2ms/step - loss: 1.3078 - accuracy: 0.6044 - val_loss: 1.6102 - val_accuracy: 0.5327\n",
      "Epoch 168/1000\n",
      "50/50 [==============================] - 0s 2ms/step - loss: 1.3031 - accuracy: 0.6063 - val_loss: 1.6039 - val_accuracy: 0.5302\n",
      "Epoch 169/1000\n",
      "50/50 [==============================] - 0s 2ms/step - loss: 1.2900 - accuracy: 0.6208 - val_loss: 1.6082 - val_accuracy: 0.5327\n",
      "Epoch 170/1000\n",
      "50/50 [==============================] - 0s 2ms/step - loss: 1.2924 - accuracy: 0.6208 - val_loss: 1.6067 - val_accuracy: 0.5402\n",
      "Epoch 171/1000\n",
      "50/50 [==============================] - 0s 2ms/step - loss: 1.2969 - accuracy: 0.6050 - val_loss: 1.5998 - val_accuracy: 0.5352\n",
      "Epoch 172/1000\n",
      "50/50 [==============================] - 0s 2ms/step - loss: 1.2849 - accuracy: 0.6157 - val_loss: 1.6029 - val_accuracy: 0.5352\n",
      "Epoch 173/1000\n",
      "50/50 [==============================] - 0s 2ms/step - loss: 1.2795 - accuracy: 0.6189 - val_loss: 1.6182 - val_accuracy: 0.5302\n",
      "Epoch 174/1000\n",
      "50/50 [==============================] - 0s 2ms/step - loss: 1.2859 - accuracy: 0.6182 - val_loss: 1.6106 - val_accuracy: 0.5352\n",
      "Epoch 175/1000\n",
      "50/50 [==============================] - 0s 2ms/step - loss: 1.2790 - accuracy: 0.6101 - val_loss: 1.5996 - val_accuracy: 0.5503\n",
      "Epoch 176/1000\n",
      "50/50 [==============================] - 0s 2ms/step - loss: 1.2778 - accuracy: 0.6302 - val_loss: 1.6052 - val_accuracy: 0.5402\n",
      "Epoch 177/1000\n",
      "50/50 [==============================] - 0s 2ms/step - loss: 1.2782 - accuracy: 0.6233 - val_loss: 1.5879 - val_accuracy: 0.5377\n",
      "Epoch 178/1000\n",
      "50/50 [==============================] - 0s 2ms/step - loss: 1.2651 - accuracy: 0.6226 - val_loss: 1.5869 - val_accuracy: 0.5402\n",
      "Epoch 179/1000\n",
      "50/50 [==============================] - 0s 2ms/step - loss: 1.2614 - accuracy: 0.6182 - val_loss: 1.5972 - val_accuracy: 0.5452\n",
      "Epoch 180/1000\n",
      "50/50 [==============================] - 0s 2ms/step - loss: 1.2794 - accuracy: 0.6094 - val_loss: 1.5972 - val_accuracy: 0.5352\n",
      "Epoch 181/1000\n",
      "50/50 [==============================] - 0s 2ms/step - loss: 1.2755 - accuracy: 0.6283 - val_loss: 1.5975 - val_accuracy: 0.5477\n",
      "Epoch 182/1000\n",
      "50/50 [==============================] - 0s 2ms/step - loss: 1.2583 - accuracy: 0.6233 - val_loss: 1.5937 - val_accuracy: 0.5352\n",
      "Epoch 183/1000\n",
      "50/50 [==============================] - 0s 2ms/step - loss: 1.2702 - accuracy: 0.6302 - val_loss: 1.5887 - val_accuracy: 0.5327\n",
      "Epoch 184/1000\n",
      "50/50 [==============================] - 0s 2ms/step - loss: 1.2567 - accuracy: 0.6333 - val_loss: 1.5927 - val_accuracy: 0.5352\n",
      "Epoch 185/1000\n",
      "50/50 [==============================] - 0s 2ms/step - loss: 1.2575 - accuracy: 0.6264 - val_loss: 1.5906 - val_accuracy: 0.5377\n",
      "Epoch 186/1000\n",
      "50/50 [==============================] - 0s 2ms/step - loss: 1.2757 - accuracy: 0.6239 - val_loss: 1.5926 - val_accuracy: 0.5452\n",
      "Epoch 187/1000\n",
      "50/50 [==============================] - 0s 2ms/step - loss: 1.2556 - accuracy: 0.6164 - val_loss: 1.5900 - val_accuracy: 0.5251\n",
      "Epoch 188/1000\n",
      "50/50 [==============================] - 0s 2ms/step - loss: 1.2339 - accuracy: 0.6277 - val_loss: 1.5869 - val_accuracy: 0.5377\n"
     ]
    }
   ],
   "source": [
    "early_stopping_cb = keras.callbacks.EarlyStopping(patience=10, restore_best_weights=True)\n",
    "history = model.fit(X_train, y_train, epochs=1000, validation_split=0.2,\n",
    "                    callbacks=[early_stopping_cb])"
   ],
   "metadata": {
    "collapsed": false,
    "pycharm": {
     "name": "#%%\n"
    }
   }
  },
  {
   "cell_type": "code",
   "execution_count": 54,
   "outputs": [
    {
     "name": "stdout",
     "output_type": "stream",
     "text": [
      "16/16 [==============================] - 0s 782us/step - loss: 1.3521 - accuracy: 0.6016\n"
     ]
    },
    {
     "data": {
      "text/plain": "[1.352123737335205, 0.6016096472740173]"
     },
     "execution_count": 54,
     "metadata": {},
     "output_type": "execute_result"
    }
   ],
   "source": [
    "model.evaluate(X_test, y_test)"
   ],
   "metadata": {
    "collapsed": false,
    "pycharm": {
     "name": "#%%\n"
    }
   }
  },
  {
   "cell_type": "code",
   "execution_count": 55,
   "outputs": [
    {
     "data": {
      "text/plain": "<Figure size 720x288 with 2 Axes>",
      "image/png": "[encoded data removed]"
     },
     "metadata": {
      "needs_background": "light"
     },
     "output_type": "display_data"
    }
   ],
   "source": [
    "training_loss = history.history['loss']\n",
    "training_acc = history.history['accuracy']\n",
    "val_loss = history.history['val_loss']\n",
    "val_acc = history.history['val_accuracy']\n",
    "\n",
    "import matplotlib.pyplot as plt\n",
    "\n",
    "f = plt.figure(figsize=(10, 4))\n",
    "ax = plt.subplot(121)\n",
    "plt.plot(training_loss, label=\"Train loss\")\n",
    "plt.plot(val_loss, label=\"Validation loss\")\n",
    "plt.legend()\n",
    "ax = plt.subplot(122)\n",
    "plt.plot(training_acc, label=\"Train accuracy\")\n",
    "plt.plot(val_acc, label=\"Validation accuracy\")\n",
    "plt.legend()\n",
    "plt.show()"
   ],
   "metadata": {
    "collapsed": false,
    "pycharm": {
     "name": "#%%\n"
    }
   }
  },
  {
   "cell_type": "markdown",
   "source": [
    "### Hyperparameters tuning\n",
    "\n",
    "https://colab.research.google.com/drive/12O-bpIrXeMY56lRzkff4S6NQZOgQuu6m?usp=sharing"
   ],
   "metadata": {
    "collapsed": false,
    "pycharm": {
     "name": "#%% md\n"
    }
   }
  }
 ],
 "metadata": {
  "kernelspec": {
   "display_name": "Python 3",
   "language": "python",
   "name": "python3"
  },
  "language_info": {
   "codemirror_mode": {
    "name": "ipython",
    "version": 2
   },
   "file_extension": ".py",
   "mimetype": "text/x-python",
   "name": "python",
   "nbconvert_exporter": "python",
   "pygments_lexer": "ipython2",
   "version": "2.7.6"
  }
 },
 "nbformat": 4,
 "nbformat_minor": 0
}