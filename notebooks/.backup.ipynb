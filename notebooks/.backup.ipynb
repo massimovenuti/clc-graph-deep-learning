{
 "cells": [
  {
   "cell_type": "markdown",
   "source": [
    "# Backup - classification de noeuds"
   ],
   "metadata": {
    "collapsed": false
   }
  },
  {
   "cell_type": "code",
   "execution_count": null,
   "outputs": [],
   "source": [
    "# class NodeClassificationDataset(DGLDataset):\n",
    "#     def __init__(self):\n",
    "#         super().__init__(name='karate_club')\n",
    "#\n",
    "#     def process(self):\n",
    "#         # nodes_data = gpd.read_file(\"data/zone-11-preprocessed.gpkg\")\n",
    "#         # neighborhood = pd.read_csv(\"data/zone-11-neighborhood.csv\")\n",
    "#\n",
    "#         src_nodes = neighborhood.src\n",
    "#         dest_nodes = neighborhood.dest\n",
    "#         num_nodes = nodes_data.shape[0]\n",
    "#\n",
    "#         self.graph = dgl.graph((src_nodes, dest_nodes), num_nodes=num_nodes)\n",
    "#\n",
    "#         self.graph.ndata['label'] = torch.from_numpy(nodes_data.OBJECTID.to_numpy())\n",
    "#         self.graph.ndata['area'] = torch.from_numpy(nodes_data.Area_Ha.to_numpy())\n",
    "#         self.graph.ndata['code'] = torch.from_numpy(nodes_data.Code_18.to_numpy())\n",
    "#         self.graph.edata['total_border'] = torch.from_numpy(neighborhood.total_border.to_numpy())\n",
    "#         self.graph.edata['greatest_border'] = torch.from_numpy(neighborhood.greatest_border.to_numpy())\n",
    "#         self.graph.edata['nb_border'] = torch.from_numpy(neighborhood.nb_border.to_numpy())\n",
    "#\n",
    "#         # masks indicating whether a node belongs to training, validation, and test set\n",
    "#         n_train = int(num_nodes * 0.6)\n",
    "#         n_val = int(num_nodes * 0.2)\n",
    "#         train_mask = torch.zeros(num_nodes, dtype=torch.bool)\n",
    "#         val_mask = torch.zeros(num_nodes, dtype=torch.bool)\n",
    "#         test_mask = torch.zeros(num_nodes, dtype=torch.bool)\n",
    "#         train_mask[:n_train] = True\n",
    "#         val_mask[n_train:n_train + n_val] = True\n",
    "#         test_mask[n_train + n_val:] = True\n",
    "#         self.graph.ndata['train_mask'] = train_mask\n",
    "#         self.graph.ndata['val_mask'] = val_mask\n",
    "#         self.graph.ndata['test_mask'] = test_mask\n",
    "#\n",
    "#     def __getitem__(self, i):\n",
    "#         return self.graph\n",
    "#\n",
    "#     def __len__(self):\n",
    "#         return 1"
   ],
   "metadata": {
    "collapsed": false,
    "pycharm": {
     "name": "#%%\n"
    }
   }
  },
  {
   "cell_type": "code",
   "execution_count": null,
   "outputs": [],
   "source": [
    "# node_classification_dataset = NodeClassificationDataset()"
   ],
   "metadata": {
    "collapsed": false,
    "pycharm": {
     "name": "#%%\n"
    }
   }
  },
  {
   "cell_type": "code",
   "execution_count": null,
   "outputs": [],
   "source": [
    "# g = node_classification_dataset[0]\n",
    "# plt.figure(figsize=(20,10))\n",
    "# g_nx = dgl.to_networkx(g, node_attrs=g.ndata.keys(), edge_attrs=g.edata.keys()).to_undirected()\n",
    "# nx.draw(g_nx, with_labels=True)"
   ],
   "metadata": {
    "collapsed": false,
    "pycharm": {
     "name": "#%%\n"
    }
   }
  },
  {
   "cell_type": "markdown",
   "source": [
    "# Backup - NetworkX dataset"
   ],
   "metadata": {
    "collapsed": false
   }
  },
  {
   "cell_type": "code",
   "execution_count": null,
   "outputs": [],
   "source": [
    "# # NetworkX dataset\n",
    "# class NxClassDataset():\n",
    "#     def __init__(self, edges_path, properties_path, data_path):\n",
    "#         self.edges = pd.read_csv(edges_path)\n",
    "#         self.properties = pd.read_csv(properties_path)\n",
    "#         self.data_path = data_path\n",
    "#         self.graphs = []\n",
    "#         self.labels = []\n",
    "#         self.ids = []\n",
    "#         self.process()\n",
    "#\n",
    "#     def process(self):\n",
    "#         # Create a graph for each graph ID from the edges table.\n",
    "#         # First process the properties table into two dictionaries with graph IDs as keys.\n",
    "#         # The label and number of nodes are values.\n",
    "#         label_dict = {}\n",
    "#         for _, row in self.properties.iterrows():\n",
    "#             label_dict[row['graph_id']] = row['label']\n",
    "#\n",
    "#         # Group by graph IDs\n",
    "#         edges_group = self.edges.groupby('graph_id')\n",
    "#\n",
    "#         # For each graph ID...\n",
    "#         for graph_id in edges_group.groups:\n",
    "#             data = gpd.read_file(self.data_path, layer=graph_id)\n",
    "#\n",
    "#             edges_of_id = edges_group.get_group(graph_id)\n",
    "#             label = label_dict[graph_id]\n",
    "#\n",
    "#             g = nx.Graph(label=label, id=graph_id)\n",
    "#             for _, row in data.iterrows():\n",
    "#                 g.add_node(row['Node_ID'], area=row.geometry.area, label=row['Node_Label'])\n",
    "#             for _, row in edges_of_id.iterrows():\n",
    "#                 g.add_edge(row['src'], row['dest'], total_border=row['total_border'],\n",
    "#                            greatest_border=row['greatest_border'],\n",
    "#                            nb_borders=row['nb_borders'])\n",
    "#\n",
    "#             self.graphs.append(g)\n",
    "#             self.labels.append(label)\n",
    "#             self.ids.append(graph_id)\n",
    "#\n",
    "#     def get_graphs(self):\n",
    "#         return self.graphs\n",
    "#\n",
    "#     def get_labels(self):\n",
    "#         return self.labels\n",
    "#\n",
    "#     def get_ids(self):\n",
    "#         return self.ids"
   ],
   "metadata": {
    "collapsed": false,
    "pycharm": {
     "name": "#%%\n"
    }
   }
  },
  {
   "cell_type": "code",
   "execution_count": 16,
   "outputs": [],
   "source": [
    "# communes_nx_dataset = NxClassDataset(edges_path=\"../data/communes/graphs/graph_edges.csv\",\n",
    "#                                      properties_path=\"../data/communes/graph/graph_properties.csv\",\n",
    "#                                      data_path=\"../data/communes/communes_clc.gpkg\")"
   ],
   "metadata": {
    "collapsed": false,
    "pycharm": {
     "name": "#%%\n"
    }
   }
  },
  {
   "cell_type": "code",
   "execution_count": null,
   "outputs": [],
   "source": [
    "# G = communes_nx_dataset.get_graphs()[6]\n",
    "# f, ax = plt.subplots(figsize=(14, 7))\n",
    "# gdf = gpd.read_file(\"../data/communes/communes_clc.gpkg\", layer=id)\n",
    "# gdf.dissolve().exterior.plot(ax=ax, color=\"black\", linewidth=1)\n",
    "# draw_map_graph(G, gdf=gdf, column=np.array(range(len(gdf))), ax=ax)\n",
    "# plt.title(f\"{G.graph['id']} - Superposition de la carte et du graphe\")\n",
    "# plt.show()"
   ],
   "metadata": {
    "collapsed": false,
    "pycharm": {
     "name": "#%%\n"
    }
   }
  },
  {
   "cell_type": "code",
   "execution_count": 17,
   "outputs": [],
   "source": [
    "# graphs = communes_nx_dataset.get_graphs()"
   ],
   "metadata": {
    "collapsed": false,
    "pycharm": {
     "name": "#%%\n"
    }
   }
  }
 ],
 "metadata": {
  "kernelspec": {
   "display_name": "Python 3",
   "language": "python",
   "name": "python3"
  },
  "language_info": {
   "codemirror_mode": {
    "name": "ipython",
    "version": 2
   },
   "file_extension": ".py",
   "mimetype": "text/x-python",
   "name": "python",
   "nbconvert_exporter": "python",
   "pygments_lexer": "ipython2",
   "version": "2.7.6"
  }
 },
 "nbformat": 4,
 "nbformat_minor": 0
}